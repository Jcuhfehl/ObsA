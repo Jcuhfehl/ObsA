{
 "cells": [
  {
   "cell_type": "markdown",
   "metadata": {},
   "source": [
    "# Noise characteristics and gain of CCD images"
   ]
  },
  {
   "cell_type": "markdown",
   "metadata": {},
   "source": [
    "In this assignment we will determine the gain (photons per count unit) based on the Poisson noise characteristics of flat-field images.\n",
    "\n",
    "We will make use of the fact that the dispersion on the number of photons is $\\sigma_N = \\sqrt{N}$. For gain EGAIN, this implies $\\sigma_{N, DN} = \\sqrt{N_{DN} / EGAIN}$"
   ]
  },
  {
   "cell_type": "markdown",
   "metadata": {},
   "source": [
    "- Read two V-band flat-field images into Python (flat1V.FIT, flat2V.FIT)\n",
    "- Calculate and print out the mean number of counts (pixel values) in each image  (20/100 pts)"
   ]
  },
  {
   "cell_type": "code",
   "execution_count": 6,
   "metadata": {},
   "outputs": [
    {
     "name": "stdout",
     "output_type": "stream",
     "text": [
      "N1: 7856.306753538581, N2: 7901.1974373282965\n"
     ]
    }
   ],
   "source": [
    "import astropy.io.fits as fits\n",
    "import numpy as np\n",
    "# Read images\n",
    "\n",
    "# print out the mean number of counts\n",
    "flat1 = fits.getdata('../flats/flat1V.FIT')\n",
    "flat2 = fits.getdata('../flats/flat2V.FIT')\n",
    "n1 = np.mean(flat1)\n",
    "n2 = np.mean(flat2)\n",
    "print(f\"N1: {n1}, N2: {n2}\")"
   ]
  },
  {
   "cell_type": "markdown",
   "metadata": {},
   "source": [
    "- What is the expected dispersion in the difference image ($\\sigma_{N, DN}$)? You will need the value of the EGAIN header keyword. (20/100 pts)"
   ]
  },
  {
   "cell_type": "code",
   "execution_count": 7,
   "metadata": {},
   "outputs": [
    {
     "name": "stdout",
     "output_type": "stream",
     "text": [
      "s1: 103.36622845403846, s2: 103.66112344927815\n"
     ]
    }
   ],
   "source": [
    "# Calculate the expected dispersion in the difference image \n",
    "# from the combined number of counts in two individual images\n",
    "header1 = fits.getheader('../flats/flat1V.FIT')\n",
    "header2 = fits.getheader('../flats/flat2V.FIT')\n",
    "\n",
    "s1 = np.sqrt(n1*header1[\"EGAIN\"])\n",
    "s2 = np.sqrt(n2*header2[\"EGAIN\"])\n",
    "print(f\"s1: {s1}, s2: {s2}\")"
   ]
  },
  {
   "cell_type": "markdown",
   "metadata": {},
   "source": [
    "- How much would allowance for a read noise of 8.8 electrons change this estimate (remember to count the read noise in both images!)? (20/100 pts)"
   ]
  },
  {
   "cell_type": "code",
   "execution_count": 8,
   "metadata": {},
   "outputs": [
    {
     "name": "stdout",
     "output_type": "stream",
     "text": [
      "s1: 112.16622845403846, s2: 112.46112344927815\n"
     ]
    }
   ],
   "source": [
    "# Add read noise\n",
    "s1 = np.sqrt(n1*header1[\"EGAIN\"]) + 8.8\n",
    "s2 = np.sqrt(n2*header2[\"EGAIN\"]) + 8.8\n",
    "print(f\"s1: {s1}, s2: {s2}\")"
   ]
  },
  {
   "cell_type": "markdown",
   "metadata": {},
   "source": [
    "- Form the difference image, flat1V - flat10V\n",
    "- Measure the dispersion in the difference image. For this, you can use the std() function in Numpy:"
   ]
  },
  {
   "cell_type": "code",
   "execution_count": 4,
   "metadata": {},
   "outputs": [
    {
     "name": "stdout",
     "output_type": "stream",
     "text": [
      "116.81576878252798\n"
     ]
    }
   ],
   "source": [
    "import numpy as np\n",
    "\n",
    "flat1 = fits.getdata('../flats/flat1V.FIT').astype('float64')\n",
    "flat10 = fits.getdata('../flats/flat10V.FIT').astype('float64')\n",
    "# Form difference image. Hint: pay attention to the datatype!\n",
    "diff = flat1-flat10\n",
    "sigma_diff = np.std(diff)\n",
    "print(sigma_diff)"
   ]
  },
  {
   "cell_type": "markdown",
   "metadata": {},
   "source": [
    "Compare this with the expected dispersion. (20/100 pts)"
   ]
  },
  {
   "cell_type": "markdown",
   "metadata": {},
   "source": [
    "Your comments:\n",
    "The estimates are very similar to the measured noise, to it is a good estimate of the actual noise."
   ]
  },
  {
   "cell_type": "markdown",
   "metadata": {},
   "source": [
    "We can also invert the procedure to find the gain from the measured dispersion in the difference image. \n",
    "\n",
    "- Calculate the gain from the two flat-field exposures. Print the result together with the value read from the image headers. You can assume that the noise is pure Poisson noise (i.e. ignore read noise)  (20/100 pts)"
   ]
  },
  {
   "cell_type": "markdown",
   "metadata": {},
   "source": [
    "Derivation of the equation:\n",
    "$\\sigma = \\sqrt{N*EGAIN}$\n",
    "\n",
    "$N*EGAIN=\\sigma^2$\n",
    "\n",
    "$EGAIN=\\frac{\\sigma^2}{N}$"
   ]
  },
  {
   "cell_type": "code",
   "execution_count": 5,
   "metadata": {},
   "outputs": [
    {
     "name": "stdout",
     "output_type": "stream",
     "text": [
      "Calculated gain: 1.736938775984879\n",
      "Gain from header: 1.36\n"
     ]
    }
   ],
   "source": [
    "gain = (sigma_diff*sigma_diff)/np.mean(flat1) #Taking the mean of the first flatfield is arbitrary, but the choice is not relevant anyway because there is no significant difference in mean counts between 1 and 10\n",
    "print(\"Calculated gain:\", gain)\n",
    "print(\"Gain from header:\",header1[\"EGAIN\"])"
   ]
  },
  {
   "cell_type": "markdown",
   "metadata": {},
   "source": [
    "# Hand in:\n",
    "\n",
    "Fill in the blanks above. When done, download the notebook (with the Python output as answer to the questions) as a PDF file and submit via Brightspace."
   ]
  }
 ],
 "metadata": {
  "kernelspec": {
   "display_name": "Python 3 (ipykernel)",
   "language": "python",
   "name": "python3"
  },
  "language_info": {
   "codemirror_mode": {
    "name": "ipython",
    "version": 3
   },
   "file_extension": ".py",
   "mimetype": "text/x-python",
   "name": "python",
   "nbconvert_exporter": "python",
   "pygments_lexer": "ipython3",
   "version": "3.10.10"
  }
 },
 "nbformat": 4,
 "nbformat_minor": 2
}
