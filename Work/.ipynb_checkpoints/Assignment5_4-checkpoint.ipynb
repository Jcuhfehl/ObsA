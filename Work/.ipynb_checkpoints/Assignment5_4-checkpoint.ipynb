{
 "cells": [
  {
   "cell_type": "markdown",
   "metadata": {},
   "source": [
    "# Aligning and combining the science images"
   ]
  },
  {
   "cell_type": "markdown",
   "metadata": {},
   "source": [
    "- Use find_transform() and apply_transform() to align all flat-fielded science images to a common reference image (e.g., science1Vf.fits).\n",
    "- Make sure to check that the transformations have been determined correctly! Print out a table with the following information:\n",
    "    - The image names.\n",
    "    - The (x, y) shifts.\n",
    "    - The rotations. \n",
    "    - The scales.\n",
    "    \n",
    "  The rotations should all be less than 0.01 deg (abs(T.rotation*180/math.pi) < 0.01) and the scale changes should deviate by less than 0.0002 from unity (abs(T.scale - 1) < 0.0002).\n",
    "  \n",
    "- Use ccdproc.combine() to produce a final co-added image in each band. Unlike the flat-fields, these should not be normalised. Copy the first extension to the final files, Vfinal.fits and rfinal.fits, to be used in further analysis."
   ]
  },
  {
   "cell_type": "code",
   "execution_count": 3,
   "metadata": {},
   "outputs": [],
   "source": [
    "import astroalign as aa\n",
    "import astropy.io.fits as fits\n",
    "import imexam\n",
    "import time\n",
    "import math\n",
    "import numpy as np\n",
    "import ccdproc\n",
    "import os\n",
    "import shutil\n",
    "\n",
    "def align_images(source_filename, target_filename, output_filename):\n",
    "    datatarget = fits.getdata(target_filename)\n",
    "    datasrc = fits.getdata(source_filename)\n",
    "    T, (source_pos_array, target_pos_array) = aa.find_transform(datasrc, datatarget)\n",
    "    print(\"Image name = {}  shifts= {} rot= {}  scale = {}\"\n",
    "          .format(source_filename, T.translation, T.rotation*180/math.pi, T.scale))\n",
    "    assert(abs(T.rotation*180/math.pi)<0.01) # Ensure the rotation is not too big\n",
    "    assert(abs(T.scale -1) < 0.0002) # Ensure the scale is not to different\n",
    "    data_tran, footprint = aa.apply_transform(T, np.int32(datasrc), np.int32(datatarget))\n",
    "    \n",
    "    fits.writeto(output_filename, data_tran, overwrite=True)\n",
    "    \n",
    "# Align the flat-fielded science images:\n",
    "def align_multiple_images(target_filename, source_filenames, output_filenames):\n",
    "    for i in range(len(source_filenames)):\n",
    "        source_filename = source_filenames[i]\n",
    "        output_filename = output_filenames[i]\n",
    "        align_images(source_filename, target_filename, output_filename)"
   ]
  },
  {
   "cell_type": "markdown",
   "metadata": {},
   "source": [
    "Make sure all shifts and rotations are small before proceeding to the next step!"
   ]
  },
  {
   "cell_type": "markdown",
   "metadata": {},
   "source": [
    "Now combine the aligned science images:"
   ]
  },
  {
   "cell_type": "code",
   "execution_count": 4,
   "metadata": {},
   "outputs": [
    {
     "name": "stdout",
     "output_type": "stream",
     "text": [
      "Image name = science1Vf.fits  shifts= [2.72848411e-12 1.13686838e-12] rot= 2.7561228414667095e-15  scale = 0.9999999999999981\n",
      "Image name = science2Vf.fits  shifts= [0.7784693  2.26726514] rot= 0.0014774902792273116  scale = 0.9999521406027819\n",
      "Image name = science3Vf.fits  shifts= [-0.05771012 -0.82430355] rot= 0.00144578368095527  scale = 0.9999890642577759\n",
      "Image name = science4Vf.fits  shifts= [ 0.27624008 -2.05972096] rot= -0.00016279504650910592  scale = 0.9999248171561275\n",
      "Image name = science5Vf.fits  shifts= [-0.63085225 -2.45246129] rot= 0.0008165647766147093  scale = 0.9999038499432898\n",
      "Image name = science6Vf.fits  shifts= [-0.63392496  1.19948939] rot= -0.00013732716318343686  scale = 0.9999332652644058\n",
      "Image name = science7Vf.fits  shifts= [0.17820856 0.39023461] rot= 0.0005427399251707635  scale = 0.9999157918342961\n",
      "Image name = science8Vf.fits  shifts= [-0.00297399  1.08860376] rot= 0.0004271928706616981  scale = 0.9999611562944112\n",
      "Image name = science9Vf.fits  shifts= [-0.26282039  1.57190758] rot= 0.0007692843842733472  scale = 0.9999295491210364\n",
      "Image name = science10Vf.fits  shifts= [-0.1608066   1.56777231] rot= -0.0026349009259288136  scale = 0.9999653278488596\n",
      "53.65282596348568\n"
     ]
    },
    {
     "ename": "NameError",
     "evalue": "name 'd' is not defined",
     "output_type": "error",
     "traceback": [
      "\u001b[0;31m---------------------------------------------------------------------------\u001b[0m",
      "\u001b[0;31mNameError\u001b[0m                                 Traceback (most recent call last)",
      "Cell \u001b[0;32mIn[4], line 19\u001b[0m\n\u001b[1;32m     17\u001b[0m align_target \u001b[38;5;241m=\u001b[39m \u001b[38;5;124m\"\u001b[39m\u001b[38;5;124mscience1Vf.fits\u001b[39m\u001b[38;5;124m\"\u001b[39m    \n\u001b[1;32m     18\u001b[0m filenames_V \u001b[38;5;241m=\u001b[39m [\u001b[38;5;124m\"\u001b[39m\u001b[38;5;124mscience\u001b[39m\u001b[38;5;132;01m{}\u001b[39;00m\u001b[38;5;124mVf.fits\u001b[39m\u001b[38;5;124m\"\u001b[39m\u001b[38;5;241m.\u001b[39mformat(i) \u001b[38;5;28;01mfor\u001b[39;00m i \u001b[38;5;129;01min\u001b[39;00m \u001b[38;5;28mrange\u001b[39m(\u001b[38;5;241m1\u001b[39m,\u001b[38;5;241m11\u001b[39m)]\n\u001b[0;32m---> 19\u001b[0m \u001b[43mcombine_and_align_images\u001b[49m\u001b[43m(\u001b[49m\u001b[43mfilenames_V\u001b[49m\u001b[43m,\u001b[49m\u001b[43m \u001b[49m\u001b[43malign_target\u001b[49m\u001b[43m,\u001b[49m\u001b[43m \u001b[49m\u001b[38;5;124;43m\"\u001b[39;49m\u001b[38;5;124;43mVfinal.fits\u001b[39;49m\u001b[38;5;124;43m\"\u001b[39;49m\u001b[43m)\u001b[49m\n\u001b[1;32m     21\u001b[0m filenames_R \u001b[38;5;241m=\u001b[39m [\u001b[38;5;124m\"\u001b[39m\u001b[38;5;124mscience\u001b[39m\u001b[38;5;132;01m{}\u001b[39;00m\u001b[38;5;124mrf.fits\u001b[39m\u001b[38;5;124m\"\u001b[39m\u001b[38;5;241m.\u001b[39mformat(i) \u001b[38;5;28;01mfor\u001b[39;00m i \u001b[38;5;129;01min\u001b[39;00m \u001b[38;5;28mrange\u001b[39m(\u001b[38;5;241m1\u001b[39m,\u001b[38;5;241m11\u001b[39m)]\n\u001b[1;32m     22\u001b[0m combine_and_align_images(filenames_R, align_target, \u001b[38;5;124m\"\u001b[39m\u001b[38;5;124mrfinal.fits\u001b[39m\u001b[38;5;124m\"\u001b[39m)\n",
      "Cell \u001b[0;32mIn[4], line 11\u001b[0m, in \u001b[0;36mcombine_and_align_images\u001b[0;34m(science_filenames, align_target, output_filename)\u001b[0m\n\u001b[1;32m      8\u001b[0m \u001b[38;5;28mprint\u001b[39m(np\u001b[38;5;241m.\u001b[39marray(sciVavg)\u001b[38;5;241m.\u001b[39mmean())\n\u001b[1;32m     10\u001b[0m \u001b[38;5;66;03m# Save the output\u001b[39;00m\n\u001b[0;32m---> 11\u001b[0m \u001b[43md\u001b[49m\n\u001b[1;32m     12\u001b[0m \u001b[38;5;66;03m# ...\u001b[39;00m\n\u001b[1;32m     14\u001b[0m \u001b[38;5;28mprint\u001b[39m(\u001b[38;5;124m'\u001b[39m\u001b[38;5;124mDone!\u001b[39m\u001b[38;5;124m'\u001b[39m)\n",
      "\u001b[0;31mNameError\u001b[0m: name 'd' is not defined"
     ]
    }
   ],
   "source": [
    "# Combine the aligned science images\n",
    "\n",
    "\n",
    "def combine_and_align_images(science_filenames, align_target, output_filename):\n",
    "    temp_filenames = [\"temp{}.fits\".format(i) for i in range(len(science_filenames))]\n",
    "    align_multiple_images(align_target, science_filenames, temp_filenames)\n",
    "    sciVavg = ccdproc.combine(temp_filenames, method=\"average\", unit=\"adu\")\n",
    "    print(np.array(sciVavg).mean())\n",
    "\n",
    "    # Save the output\n",
    "    sciVavg.write('tmpcmb.fits',overwrite=True)\n",
    "    # ...\n",
    "    cmb, hdr = fits.getdata('tmpcmb.fits',0, header=True)\n",
    "    fits.writeto(output_filename, cmb, hdr, overwrite=True)\n",
    "    print('Done!')\n",
    "    \n",
    "\n",
    "align_target = \"science1Vf.fits\"    \n",
    "filenames_V = [\"science{}Vf.fits\".format(i) for i in range(1,11)]\n",
    "combine_and_align_images(filenames_V, align_target, \"Vfinal.fits\")\n",
    "\n",
    "filenames_R = [\"science{}rf.fits\".format(i) for i in range(1,11)]\n",
    "combine_and_align_images(filenames_R, align_target, \"rfinal.fits\")"
   ]
  },
  {
   "cell_type": "markdown",
   "metadata": {},
   "source": [
    "Display the combined images:"
   ]
  },
  {
   "cell_type": "code",
   "execution_count": null,
   "metadata": {},
   "outputs": [],
   "source": [
    "import matplotlib.pyplot as plt\n",
    "dataV = fits.getdata(\"Vfinal.fits\")\n",
    "dataR = fits.getdata(\"rfinal.fits\")\n",
    "\n",
    "mean_V = np.mean(dataV)\n",
    "std_V = np.std(dataV)\n",
    "mean_R = np.mean(dataR)\n",
    "std_R = np.std(dataR)\n",
    "\n",
    "f, axarr = plt.subplots(1,2)\n",
    "axarr[0].imshow(dataV, vmin=mean_V-2*std_V, vmax=mean_V+2*std_V, cmap='magma')\n",
    "axarr[1].imshow(dataR, vmin=mean_R-2*std_R, vmax=mean_R+2*std_R, cmap='magma')"
   ]
  },
  {
   "cell_type": "markdown",
   "metadata": {},
   "source": [
    "# Hand in\n",
    "\n",
    "The completed notebook (as PDF via Brightspace), including \n",
    "- the listing of transformation parameters (50/100 pts), \n",
    "- the code to combine the aligned images (25/100 pts)\n",
    "- the display of the two combined images (25/100 pts)"
   ]
  },
  {
   "cell_type": "code",
   "execution_count": null,
   "metadata": {},
   "outputs": [],
   "source": []
  }
 ],
 "metadata": {
  "kernelspec": {
   "display_name": "Python 3 (ipykernel)",
   "language": "python",
   "name": "python3"
  },
  "language_info": {
   "codemirror_mode": {
    "name": "ipython",
    "version": 3
   },
   "file_extension": ".py",
   "mimetype": "text/x-python",
   "name": "python",
   "nbconvert_exporter": "python",
   "pygments_lexer": "ipython3",
   "version": "3.10.9"
  }
 },
 "nbformat": 4,
 "nbformat_minor": 2
}
