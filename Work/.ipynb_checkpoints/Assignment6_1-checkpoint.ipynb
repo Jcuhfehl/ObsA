{
 "cells": [
  {
   "cell_type": "markdown",
   "metadata": {},
   "source": [
    "# Photometry with SourceExtractor"
   ]
  },
  {
   "cell_type": "markdown",
   "metadata": {},
   "source": [
    "- For the first part of the exercise, use sextractor to carry out photometry on the combined Johnson V and Sloan r images. Details are found in the Observational Astronomy notes."
   ]
  },
  {
   "cell_type": "markdown",
   "metadata": {},
   "source": [
    "Assuming that photometry is available for the two images, we are now ready to examine it and make a colour-magnitude diagram of the instrumental magnitudes.\n",
    "\n",
    "Output from sextractor (and many other codes) can be read with the astropy.io.ascii package. For a sextractor catalogue called 'V.cat', this works as follows:"
   ]
  },
  {
   "cell_type": "code",
   "execution_count": 1,
   "metadata": {},
   "outputs": [
    {
     "name": "stdout",
     "output_type": "stream",
     "text": [
      "GAIN parameter should be 13.600000000000001\n"
     ]
    }
   ],
   "source": [
    "#Getting the gain for the sextractor config file.\n",
    "from astropy.io import fits\n",
    "data, hdr = fits.getdata(\"science1Vf.fits\", header=True)\n",
    "print(\"GAIN parameter should be {}\".format(hdr[\"EGAIN\"]*10))"
   ]
  },
  {
   "cell_type": "code",
   "execution_count": 2,
   "metadata": {},
   "outputs": [
    {
     "name": "stderr",
     "output_type": "stream",
     "text": [
      "\u001b[1M> \n",
      "\u001b[1A----- SExtractor 2.19.5 started on 2023-03-15 at 12:07:38 with 1 thread\n",
      "\n",
      "\u001b[1M> Setting catalog parameters\n",
      "\u001b[1A\u001b[1M> Initializing check-image(s)\n",
      "\u001b[1A\u001b[1M> Initializing catalog\n",
      "\u001b[1A\u001b[1M> Looking for Vfinal.fits\n",
      "\u001b[1A----- Measuring from: Vfinal.fits\n",
      "      \"Unnamed\" / no ext. header / 2184x1472 / 64 bits (floats)\n",
      "Detection+Measurement image: \u001b[1M> Setting up background maps\n",
      "\u001b[1A\u001b[1M> Setting up background map at line:  100\n",
      "\u001b[1A\u001b[1M> Setting up background map at line:  200\n",
      "\u001b[1A\u001b[1M> Setting up background map at line:  300\n",
      "\u001b[1A\u001b[1M> Setting up background map at line:  400\n",
      "\u001b[1A\u001b[1M> Setting up background map at line:  500\n",
      "\u001b[1A\u001b[1M> Setting up background map at line:  600\n",
      "\u001b[1A\u001b[1M> Setting up background map at line:  700\n",
      "\u001b[1A\u001b[1M> Setting up background map at line:  800\n",
      "\u001b[1A\u001b[1M> Setting up background map at line:  900\n",
      "\u001b[1A\u001b[1M> Setting up background map at line: 1000\n",
      "\u001b[1A\u001b[1M> Setting up background map at line: 1100\n",
      "\u001b[1A\u001b[1M> Setting up background map at line: 1200\n",
      "\u001b[1A\u001b[1M> Setting up background map at line: 1300\n",
      "\u001b[1A\u001b[1M> Setting up background map at line: 1400\n",
      "\u001b[1A\u001b[1M> Filtering background map(s)\n",
      "\u001b[1A\u001b[1M> Computing background d-map\n",
      "\u001b[1A\u001b[1M> Computing background-noise d-map\n",
      "\u001b[1A(M+D) Background: 47.941     RMS: 3.89221    / Threshold: 11.6766    \n",
      "\u001b[1M> Scanning image\n",
      "\u001b[1A\u001b[1M> Line:   25  Objects:        6 detected /        0 sextracted\n",
      "\u001b[1A\u001b[1M> Line:   50  Objects:       16 detected /        0 sextracted\n",
      "\u001b[1A\u001b[1M> Line:   75  Objects:       22 detected /        0 sextracted\n",
      "\u001b[1A\u001b[1M> Line:  100  Objects:       30 detected /        0 sextracted\n",
      "\u001b[1A\u001b[1M> Line:  125  Objects:       34 detected /        0 sextracted\n",
      "\u001b[1A\u001b[1M> Line:  150  Objects:       38 detected /        0 sextracted\n",
      "\u001b[1A\u001b[1M> Line:  175  Objects:       41 detected /        0 sextracted\n",
      "\u001b[1A\u001b[1M> Line:  200  Objects:       47 detected /        0 sextracted\n",
      "\u001b[1A\u001b[1M> Line:  225  Objects:       57 detected /        0 sextracted\n",
      "\u001b[1A\u001b[1M> Line:  250  Objects:       61 detected /        0 sextracted\n",
      "\u001b[1A\u001b[1M> Line:  275  Objects:       71 detected /        0 sextracted\n",
      "\u001b[1A\u001b[1M> Line:  300  Objects:       73 detected /        0 sextracted\n",
      "\u001b[1A\u001b[1M> Line:  325  Objects:       78 detected /        0 sextracted\n",
      "\u001b[1A\u001b[1M> Line:  350  Objects:       87 detected /        0 sextracted\n",
      "\u001b[1A\u001b[1M> Line:  375  Objects:       90 detected /        0 sextracted\n",
      "\u001b[1A\u001b[1M> Line:  400  Objects:       93 detected /        0 sextracted\n",
      "\u001b[1A\u001b[1M> Line:  425  Objects:      102 detected /        0 sextracted\n",
      "\u001b[1A\u001b[1M> Line:  450  Objects:      107 detected /        0 sextracted\n",
      "\u001b[1A\u001b[1M> Line:  475  Objects:      113 detected /        0 sextracted\n",
      "\u001b[1A\u001b[1M> Line:  500  Objects:      119 detected /        0 sextracted\n",
      "\u001b[1A\u001b[1M> Line:  525  Objects:      123 detected /        0 sextracted\n",
      "\u001b[1A\u001b[1M> Line:  550  Objects:      131 detected /        0 sextracted\n",
      "\u001b[1A\u001b[1M> Line:  575  Objects:      145 detected /        0 sextracted\n",
      "\u001b[1A\u001b[1M> Line:  600  Objects:      156 detected /        0 sextracted\n",
      "\u001b[1A\u001b[1M> Line:  625  Objects:      165 detected /        0 sextracted\n",
      "\u001b[1A\u001b[1M> Line:  650  Objects:      170 detected /        0 sextracted\n",
      "\u001b[1A\u001b[1M> Line:  675  Objects:      174 detected /        0 sextracted\n",
      "\u001b[1A\u001b[1M> Line:  700  Objects:      181 detected /        0 sextracted\n",
      "\u001b[1A\u001b[1M> Line:  725  Objects:      189 detected /        0 sextracted\n",
      "\u001b[1A\u001b[1M> Line:  750  Objects:      195 detected /        0 sextracted\n",
      "\u001b[1A\u001b[1M> Line:  775  Objects:      200 detected /        0 sextracted\n",
      "\u001b[1A\u001b[1M> Line:  800  Objects:      203 detected /        0 sextracted\n",
      "\u001b[1A\u001b[1M> Line:  825  Objects:      216 detected /        0 sextracted\n",
      "\u001b[1A\u001b[1M> Line:  850  Objects:      219 detected /        0 sextracted\n",
      "\u001b[1A\u001b[1M> Line:  875  Objects:      225 detected /        0 sextracted\n",
      "\u001b[1A\u001b[1M> Line:  900  Objects:      233 detected /        0 sextracted\n",
      "\u001b[1A\u001b[1M> Line:  925  Objects:      241 detected /        0 sextracted\n",
      "\u001b[1A\u001b[1M> Line:  950  Objects:      245 detected /        0 sextracted\n",
      "\u001b[1A\u001b[1M> Line:  975  Objects:      246 detected /        0 sextracted\n",
      "\u001b[1A\u001b[1M> Line: 1000  Objects:      248 detected /        0 sextracted\n",
      "\u001b[1A\u001b[1M> Line: 1023  Objects:      252 detected /        0 sextracted\n",
      "\u001b[1A\u001b[1M> Line: 1025  Objects:      253 detected /        8 sextracted\n",
      "\u001b[1A\u001b[1M> Line: 1050  Objects:      257 detected /       16 sextracted\n",
      "\u001b[1A\u001b[1M> Line: 1075  Objects:      261 detected /       19 sextracted\n",
      "\u001b[1A\u001b[1M> Line: 1100  Objects:      265 detected /       21 sextracted\n",
      "\u001b[1A\u001b[1M> Line: 1125  Objects:      273 detected /       27 sextracted\n",
      "\u001b[1A\u001b[1M> Line: 1150  Objects:      275 detected /       30 sextracted\n",
      "\u001b[1A\u001b[1M> Line: 1175  Objects:      282 detected /       33 sextracted\n",
      "\u001b[1A\u001b[1M> Line: 1200  Objects:      286 detected /       36 sextracted\n",
      "\u001b[1A\u001b[1M> Line: 1225  Objects:      302 detected /       41 sextracted\n",
      "\u001b[1A\u001b[1M> Line: 1250  Objects:      305 detected /       46 sextracted\n",
      "\u001b[1A\u001b[1M> Line: 1275  Objects:      310 detected /       51 sextracted\n",
      "\u001b[1A\u001b[1M> Line: 1300  Objects:      312 detected /       54 sextracted\n",
      "\u001b[1A\u001b[1M> Line: 1325  Objects:      321 detected /       58 sextracted\n",
      "\u001b[1A\u001b[1M> Line: 1350  Objects:      324 detected /       62 sextracted\n",
      "\u001b[1A\u001b[1M> Line: 1375  Objects:      328 detected /       65 sextracted\n",
      "\u001b[1A\u001b[1M> Line: 1400  Objects:      334 detected /       73 sextracted\n",
      "\u001b[1A\u001b[1M> Line: 1425  Objects:      336 detected /       81 sextracted\n",
      "\u001b[1A\u001b[1M> Line: 1450  Objects:      339 detected /       86 sextracted\n",
      "\u001b[1A      Objects: detected 344      / sextracted 237             \n",
      "\n",
      "\u001b[1M> Closing files\n",
      "\u001b[1A\u001b[1M> \n",
      "\u001b[1A> All done (in 0.1 s: 14444.3 lines/s , 2325.6 detections/s)\n",
      "\u001b[1M> \n",
      "\u001b[1A----- SExtractor 2.19.5 started on 2023-03-15 at 12:07:38 with 1 thread\n",
      "\n",
      "\u001b[1M> Setting catalog parameters\n",
      "\u001b[1A\u001b[1M> Initializing check-image(s)\n",
      "\u001b[1A\u001b[1M> Initializing catalog\n",
      "\u001b[1A\u001b[1M> Looking for Vfinal.fits\n",
      "\u001b[1A----- Detecting from: Vfinal.fits\n",
      "      \"Unnamed\" / no ext. header / 2184x1472 / 64 bits (floats)\n",
      "\u001b[1M> Looking for rfinal.fits\n",
      "\u001b[1A----- Measuring from: rfinal.fits\n",
      "      \"Unnamed\" / no ext. header / 2184x1472 / 64 bits (floats)\n",
      "Measurement image:\u001b[1M> Setting up background maps\n",
      "\u001b[1A\u001b[1M> Setting up background map at line:  100\n",
      "\u001b[1A\u001b[1M> Setting up background map at line:  200\n",
      "\u001b[1A\u001b[1M> Setting up background map at line:  300\n",
      "\u001b[1A\u001b[1M> Setting up background map at line:  400\n",
      "\u001b[1A\u001b[1M> Setting up background map at line:  500\n",
      "\u001b[1A\u001b[1M> Setting up background map at line:  600\n",
      "\u001b[1A\u001b[1M> Setting up background map at line:  700\n",
      "\u001b[1A\u001b[1M> Setting up background map at line:  800\n",
      "\u001b[1A\u001b[1M> Setting up background map at line:  900\n",
      "\u001b[1A\u001b[1M> Setting up background map at line: 1000\n",
      "\u001b[1A\u001b[1M> Setting up background map at line: 1100\n",
      "\u001b[1A\u001b[1M> Setting up background map at line: 1200\n",
      "\u001b[1A\u001b[1M> Setting up background map at line: 1300\n",
      "\u001b[1A\u001b[1M> Setting up background map at line: 1400\n",
      "\u001b[1A\u001b[1M> Filtering background map(s)\n",
      "\u001b[1A\u001b[1M> Computing background d-map\n",
      "\u001b[1A\u001b[1M> Computing background-noise d-map\n",
      "\u001b[1A(M)   Background: 61.9818    RMS: 3.56587    / Threshold: 5.34881    \n",
      "Detection image: \u001b[1M> Setting up background maps\n",
      "\u001b[1A\u001b[1M> Setting up background map at line:  100\n",
      "\u001b[1A\u001b[1M> Setting up background map at line:  200\n",
      "\u001b[1A\u001b[1M> Setting up background map at line:  300\n",
      "\u001b[1A\u001b[1M> Setting up background map at line:  400\n",
      "\u001b[1A\u001b[1M> Setting up background map at line:  500\n",
      "\u001b[1A\u001b[1M> Setting up background map at line:  600\n",
      "\u001b[1A\u001b[1M> Setting up background map at line:  700\n",
      "\u001b[1A\u001b[1M> Setting up background map at line:  800\n",
      "\u001b[1A\u001b[1M> Setting up background map at line:  900\n",
      "\u001b[1A\u001b[1M> Setting up background map at line: 1000\n",
      "\u001b[1A\u001b[1M> Setting up background map at line: 1100\n",
      "\u001b[1A\u001b[1M> Setting up background map at line: 1200\n",
      "\u001b[1A\u001b[1M> Setting up background map at line: 1300\n",
      "\u001b[1A\u001b[1M> Setting up background map at line: 1400\n",
      "\u001b[1A\u001b[1M> Filtering background map(s)\n",
      "\u001b[1A\u001b[1M> Computing background d-map\n",
      "\u001b[1A\u001b[1M> Computing background-noise d-map\n",
      "\u001b[1A(D)   Background: 47.941     RMS: 3.89221    / Threshold: 11.6766    \n",
      "\u001b[1M> Scanning image\n",
      "\u001b[1A\u001b[1M> Line:   25  Objects:        6 detected /        0 sextracted\n",
      "\u001b[1A\u001b[1M> Line:   50  Objects:       16 detected /        0 sextracted\n",
      "\u001b[1A\u001b[1M> Line:   75  Objects:       22 detected /        0 sextracted\n",
      "\u001b[1A\u001b[1M> Line:  100  Objects:       30 detected /        0 sextracted\n",
      "\u001b[1A\u001b[1M> Line:  125  Objects:       34 detected /        0 sextracted\n",
      "\u001b[1A\u001b[1M> Line:  150  Objects:       38 detected /        0 sextracted\n",
      "\u001b[1A\u001b[1M> Line:  175  Objects:       41 detected /        0 sextracted\n",
      "\u001b[1A\u001b[1M> Line:  200  Objects:       47 detected /        0 sextracted\n",
      "\u001b[1A\u001b[1M> Line:  225  Objects:       57 detected /        0 sextracted\n",
      "\u001b[1A\u001b[1M> Line:  250  Objects:       61 detected /        0 sextracted\n",
      "\u001b[1A\u001b[1M> Line:  275  Objects:       71 detected /        0 sextracted\n",
      "\u001b[1A\u001b[1M> Line:  300  Objects:       73 detected /        0 sextracted\n",
      "\u001b[1A\u001b[1M> Line:  325  Objects:       78 detected /        0 sextracted\n",
      "\u001b[1A\u001b[1M> Line:  350  Objects:       87 detected /        0 sextracted\n",
      "\u001b[1A\u001b[1M> Line:  375  Objects:       90 detected /        0 sextracted\n",
      "\u001b[1A\u001b[1M> Line:  400  Objects:       93 detected /        0 sextracted\n",
      "\u001b[1A\u001b[1M> Line:  425  Objects:      102 detected /        0 sextracted\n",
      "\u001b[1A\u001b[1M> Line:  450  Objects:      107 detected /        0 sextracted\n",
      "\u001b[1A\u001b[1M> Line:  475  Objects:      113 detected /        0 sextracted\n",
      "\u001b[1A\u001b[1M> Line:  500  Objects:      119 detected /        0 sextracted\n",
      "\u001b[1A\u001b[1M> Line:  525  Objects:      123 detected /        0 sextracted\n",
      "\u001b[1A\u001b[1M> Line:  550  Objects:      131 detected /        0 sextracted\n"
     ]
    },
    {
     "name": "stderr",
     "output_type": "stream",
     "text": [
      "\u001b[1A\u001b[1M> Line:  575  Objects:      145 detected /        0 sextracted\n",
      "\u001b[1A\u001b[1M> Line:  600  Objects:      156 detected /        0 sextracted\n",
      "\u001b[1A\u001b[1M> Line:  625  Objects:      165 detected /        0 sextracted\n",
      "\u001b[1A\u001b[1M> Line:  650  Objects:      170 detected /        0 sextracted\n",
      "\u001b[1A\u001b[1M> Line:  675  Objects:      174 detected /        0 sextracted\n",
      "\u001b[1A\u001b[1M> Line:  700  Objects:      181 detected /        0 sextracted\n",
      "\u001b[1A\u001b[1M> Line:  725  Objects:      189 detected /        0 sextracted\n",
      "\u001b[1A\u001b[1M> Line:  750  Objects:      195 detected /        0 sextracted\n",
      "\u001b[1A\u001b[1M> Line:  775  Objects:      200 detected /        0 sextracted\n",
      "\u001b[1A\u001b[1M> Line:  800  Objects:      203 detected /        0 sextracted\n",
      "\u001b[1A\u001b[1M> Line:  825  Objects:      216 detected /        0 sextracted\n",
      "\u001b[1A\u001b[1M> Line:  850  Objects:      219 detected /        0 sextracted\n",
      "\u001b[1A\u001b[1M> Line:  875  Objects:      225 detected /        0 sextracted\n",
      "\u001b[1A\u001b[1M> Line:  900  Objects:      233 detected /        0 sextracted\n",
      "\u001b[1A\u001b[1M> Line:  925  Objects:      241 detected /        0 sextracted\n",
      "\u001b[1A\u001b[1M> Line:  950  Objects:      245 detected /        0 sextracted\n",
      "\u001b[1A\u001b[1M> Line:  975  Objects:      246 detected /        0 sextracted\n",
      "\u001b[1A\u001b[1M> Line: 1000  Objects:      248 detected /        0 sextracted\n",
      "\u001b[1A\u001b[1M> Line: 1023  Objects:      252 detected /        0 sextracted\n",
      "\u001b[1A\u001b[1M> Line: 1025  Objects:      253 detected /        8 sextracted\n",
      "\u001b[1A\u001b[1M> Line: 1050  Objects:      257 detected /       16 sextracted\n",
      "\u001b[1A\u001b[1M> Line: 1075  Objects:      261 detected /       19 sextracted\n",
      "\u001b[1A\u001b[1M> Line: 1100  Objects:      265 detected /       21 sextracted\n",
      "\u001b[1A\u001b[1M> Line: 1125  Objects:      273 detected /       27 sextracted\n",
      "\u001b[1A\u001b[1M> Line: 1150  Objects:      275 detected /       30 sextracted\n",
      "\u001b[1A\u001b[1M> Line: 1175  Objects:      282 detected /       33 sextracted\n",
      "\u001b[1A\u001b[1M> Line: 1200  Objects:      286 detected /       36 sextracted\n",
      "\u001b[1A\u001b[1M> Line: 1225  Objects:      302 detected /       41 sextracted\n",
      "\u001b[1A\u001b[1M> Line: 1250  Objects:      305 detected /       46 sextracted\n",
      "\u001b[1A\u001b[1M> Line: 1275  Objects:      310 detected /       51 sextracted\n",
      "\u001b[1A\u001b[1M> Line: 1300  Objects:      312 detected /       54 sextracted\n",
      "\u001b[1A\u001b[1M> Line: 1325  Objects:      321 detected /       58 sextracted\n",
      "\u001b[1A\u001b[1M> Line: 1350  Objects:      324 detected /       62 sextracted\n",
      "\u001b[1A\u001b[1M> Line: 1375  Objects:      328 detected /       65 sextracted\n",
      "\u001b[1A\u001b[1M> Line: 1400  Objects:      334 detected /       73 sextracted\n",
      "\u001b[1A\u001b[1M> Line: 1425  Objects:      336 detected /       81 sextracted\n",
      "\u001b[1A\u001b[1M> Line: 1450  Objects:      339 detected /       86 sextracted\n",
      "\u001b[1A      Objects: detected 344      / sextracted 237             \n",
      "\n",
      "\u001b[1M> Closing files\n",
      "\u001b[1A\u001b[1M> \n",
      "\u001b[1A> All done (in 0.1 s: 10282.0 lines/s , 1655.5 detections/s)\n"
     ]
    },
    {
     "data": {
      "text/plain": [
       "0"
      ]
     },
     "execution_count": 2,
     "metadata": {},
     "output_type": "execute_result"
    }
   ],
   "source": [
    "import astropy.io.ascii as asc\n",
    "import os\n",
    "os.system(\"sex Vfinal.fits -CATALOG_NAME V.cat\")\n",
    "os.system(\"sex Vfinal.fits,rfinal.fits -CATALOG_NAME r.cat\")\n"
   ]
  },
  {
   "cell_type": "markdown",
   "metadata": {},
   "source": [
    "The asc.read() function returns an object of the class Table. Just printing the Vdata object will produce a neat listing of the data:"
   ]
  },
  {
   "cell_type": "code",
   "execution_count": 10,
   "metadata": {},
   "outputs": [
    {
     "name": "stdout",
     "output_type": "stream",
     "text": [
      "NUMBER  X_IMAGE  Y_IMAGE  A_IMAGE B_IMAGE MAG_APER MAGERR_APER\n",
      "          pix      pix      pix     pix     mag        mag    \n",
      "------ --------- -------- ------- ------- -------- -----------\n",
      "     1   48.7112 123.3243   6.605   5.956 -12.0991      0.0012\n",
      "     2 1108.4598  58.9318   5.643   5.046 -10.0566      0.0044\n",
      "     3 1109.0679 105.1617   6.121   5.444 -10.9849      0.0023\n",
      "     4 1213.5353 111.3108   5.819   5.684 -11.8161      0.0014\n",
      "     5  911.1296  75.6365   6.079   5.853 -11.7109      0.0015\n",
      "     6  161.0361  62.2494   6.614    6.04 -12.3462      0.0011\n",
      "     7  135.0353  43.5038   5.226   4.761  -8.9778      0.0101\n",
      "     8  345.5867  68.5175    7.04   4.405  -8.6097      0.0137\n",
      "     9  549.9492  51.5085   6.041   5.544 -10.3757      0.0035\n",
      "    10  984.2413  60.1453    5.19   5.102 -10.3161      0.0036\n",
      "   ...       ...      ...     ...     ...      ...         ...\n",
      "   740  264.7166 959.7341   2.654   2.092  -6.9872       0.057\n",
      "   741  1922.158 957.3693   3.993   1.192  -6.6742       0.076\n",
      "   742 1890.5406 957.8083   1.731   1.315  -6.6784      0.0758\n",
      "   743  314.8204 948.1153    3.73   3.083  -7.8829      0.0257\n",
      "   744 1795.1575 957.0162   1.848   1.473   -6.482      0.0903\n",
      "   745 1778.1193  954.347    2.72   2.544  -7.2151      0.0464\n",
      "   746    2.8609 944.9817   6.341    1.78  -7.7453       0.029\n",
      "   747   39.7864 945.7865   4.543   4.096  -8.7873      0.0118\n",
      "   748  615.5777 940.3704   3.917   3.391  -9.1993      0.0084\n",
      "   749  598.6451 938.3445   6.632   5.323  -10.613       0.003\n",
      "Length = 749 rows\n"
     ]
    }
   ],
   "source": [
    "print(Vdata)"
   ]
  },
  {
   "cell_type": "markdown",
   "metadata": {},
   "source": [
    "and the individual columns can be accessed by specifying the column name in brackets (same syntax as for a Python dict structure):"
   ]
  },
  {
   "cell_type": "code",
   "execution_count": 7,
   "metadata": {},
   "outputs": [
    {
     "name": "stdout",
     "output_type": "stream",
     "text": [
      "MAG_APER\n",
      "  mag   \n",
      "--------\n",
      "-12.0991\n",
      "-10.0566\n",
      "-10.9849\n",
      "-11.8161\n",
      "-11.7109\n",
      "-12.3462\n",
      " -8.9778\n",
      " -8.6097\n",
      "-10.3757\n",
      "-10.3161\n",
      "     ...\n",
      " -6.9872\n",
      " -6.6742\n",
      " -6.6784\n",
      " -7.8829\n",
      "  -6.482\n",
      " -7.2151\n",
      " -7.7453\n",
      " -8.7873\n",
      " -9.1993\n",
      " -10.613\n",
      "Length = 749 rows\n"
     ]
    }
   ],
   "source": [
    "print(Vdata['MAG_APER'])"
   ]
  },
  {
   "cell_type": "markdown",
   "metadata": {},
   "source": [
    "- Read the sextractor photometry into Python and make a plot of the (V-r, V) colour-magnitude diagram. "
   ]
  },
  {
   "cell_type": "code",
   "execution_count": 3,
   "metadata": {},
   "outputs": [
    {
     "ename": "FileNotFoundError",
     "evalue": "[Errno 2] No such file or directory: 'V.cat'",
     "output_type": "error",
     "traceback": [
      "\u001b[0;31m---------------------------------------------------------------------------\u001b[0m",
      "\u001b[0;31mFileNotFoundError\u001b[0m                         Traceback (most recent call last)",
      "Cell \u001b[0;32mIn[3], line 5\u001b[0m\n\u001b[1;32m      1\u001b[0m \u001b[38;5;28;01mimport\u001b[39;00m \u001b[38;5;21;01mastropy\u001b[39;00m\u001b[38;5;21;01m.\u001b[39;00m\u001b[38;5;21;01mio\u001b[39;00m\u001b[38;5;21;01m.\u001b[39;00m\u001b[38;5;21;01mascii\u001b[39;00m \u001b[38;5;28;01mas\u001b[39;00m \u001b[38;5;21;01masc\u001b[39;00m\n\u001b[1;32m      3\u001b[0m \u001b[38;5;66;03m# Read the data\u001b[39;00m\n\u001b[0;32m----> 5\u001b[0m Vdata \u001b[38;5;241m=\u001b[39m \u001b[43masc\u001b[49m\u001b[38;5;241;43m.\u001b[39;49m\u001b[43mread\u001b[49m\u001b[43m(\u001b[49m\u001b[38;5;124;43m'\u001b[39;49m\u001b[38;5;124;43mV.cat\u001b[39;49m\u001b[38;5;124;43m'\u001b[39;49m\u001b[43m)\u001b[49m\n\u001b[1;32m      6\u001b[0m rdata \u001b[38;5;241m=\u001b[39m asc\u001b[38;5;241m.\u001b[39mread(\u001b[38;5;124m'\u001b[39m\u001b[38;5;124mr.cat\u001b[39m\u001b[38;5;124m'\u001b[39m)\n",
      "File \u001b[0;32m~/.local/lib/python3.10/site-packages/astropy/io/ascii/ui.py:374\u001b[0m, in \u001b[0;36mread\u001b[0;34m(table, guess, **kwargs)\u001b[0m\n\u001b[1;32m    368\u001b[0m             new_kwargs[\u001b[38;5;124m\"\u001b[39m\u001b[38;5;124mguess_html\u001b[39m\u001b[38;5;124m\"\u001b[39m] \u001b[38;5;241m=\u001b[39m _probably_html(table)\n\u001b[1;32m    370\u001b[0m \u001b[38;5;66;03m# Get the table from guess in ``dat``.  If ``dat`` comes back as None\u001b[39;00m\n\u001b[1;32m    371\u001b[0m \u001b[38;5;66;03m# then there was just one set of kwargs in the guess list so fall\u001b[39;00m\n\u001b[1;32m    372\u001b[0m \u001b[38;5;66;03m# through below to the non-guess way so that any problems result in a\u001b[39;00m\n\u001b[1;32m    373\u001b[0m \u001b[38;5;66;03m# more useful traceback.\u001b[39;00m\n\u001b[0;32m--> 374\u001b[0m dat \u001b[38;5;241m=\u001b[39m \u001b[43m_guess\u001b[49m\u001b[43m(\u001b[49m\u001b[43mtable\u001b[49m\u001b[43m,\u001b[49m\u001b[43m \u001b[49m\u001b[43mnew_kwargs\u001b[49m\u001b[43m,\u001b[49m\u001b[43m \u001b[49m\u001b[38;5;28;43mformat\u001b[39;49m\u001b[43m,\u001b[49m\u001b[43m \u001b[49m\u001b[43mfast_reader\u001b[49m\u001b[43m)\u001b[49m\n\u001b[1;32m    375\u001b[0m \u001b[38;5;28;01mif\u001b[39;00m dat \u001b[38;5;129;01mis\u001b[39;00m \u001b[38;5;28;01mNone\u001b[39;00m:\n\u001b[1;32m    376\u001b[0m     guess \u001b[38;5;241m=\u001b[39m \u001b[38;5;28;01mFalse\u001b[39;00m\n",
      "File \u001b[0;32m~/.local/lib/python3.10/site-packages/astropy/io/ascii/ui.py:582\u001b[0m, in \u001b[0;36m_guess\u001b[0;34m(table, read_kwargs, format, fast_reader)\u001b[0m\n\u001b[1;32m    579\u001b[0m reader \u001b[38;5;241m=\u001b[39m get_reader(\u001b[38;5;241m*\u001b[39m\u001b[38;5;241m*\u001b[39mguess_kwargs)\n\u001b[1;32m    581\u001b[0m reader\u001b[38;5;241m.\u001b[39mguessing \u001b[38;5;241m=\u001b[39m \u001b[38;5;28;01mTrue\u001b[39;00m\n\u001b[0;32m--> 582\u001b[0m dat \u001b[38;5;241m=\u001b[39m \u001b[43mreader\u001b[49m\u001b[38;5;241;43m.\u001b[39;49m\u001b[43mread\u001b[49m\u001b[43m(\u001b[49m\u001b[43mtable\u001b[49m\u001b[43m)\u001b[49m\n\u001b[1;32m    583\u001b[0m _read_trace\u001b[38;5;241m.\u001b[39mappend(\n\u001b[1;32m    584\u001b[0m     {\n\u001b[1;32m    585\u001b[0m         \u001b[38;5;124m\"\u001b[39m\u001b[38;5;124mkwargs\u001b[39m\u001b[38;5;124m\"\u001b[39m: copy\u001b[38;5;241m.\u001b[39mdeepcopy(guess_kwargs),\n\u001b[0;32m   (...)\u001b[0m\n\u001b[1;32m    589\u001b[0m     }\n\u001b[1;32m    590\u001b[0m )\n\u001b[1;32m    591\u001b[0m \u001b[38;5;28;01mreturn\u001b[39;00m dat\n",
      "File \u001b[0;32m~/.local/lib/python3.10/site-packages/astropy/io/ascii/core.py:1414\u001b[0m, in \u001b[0;36mBaseReader.read\u001b[0;34m(self, table)\u001b[0m\n\u001b[1;32m   1411\u001b[0m     newline \u001b[38;5;241m=\u001b[39m \u001b[38;5;28;01mNone\u001b[39;00m\n\u001b[1;32m   1413\u001b[0m \u001b[38;5;66;03m# Get a list of the lines (rows) in the table\u001b[39;00m\n\u001b[0;32m-> 1414\u001b[0m \u001b[38;5;28mself\u001b[39m\u001b[38;5;241m.\u001b[39mlines \u001b[38;5;241m=\u001b[39m \u001b[38;5;28;43mself\u001b[39;49m\u001b[38;5;241;43m.\u001b[39;49m\u001b[43minputter\u001b[49m\u001b[38;5;241;43m.\u001b[39;49m\u001b[43mget_lines\u001b[49m\u001b[43m(\u001b[49m\u001b[43mtable\u001b[49m\u001b[43m,\u001b[49m\u001b[43m \u001b[49m\u001b[43mnewline\u001b[49m\u001b[38;5;241;43m=\u001b[39;49m\u001b[43mnewline\u001b[49m\u001b[43m)\u001b[49m\n\u001b[1;32m   1416\u001b[0m \u001b[38;5;66;03m# Set self.data.data_lines to a slice of lines contain the data rows\u001b[39;00m\n\u001b[1;32m   1417\u001b[0m \u001b[38;5;28mself\u001b[39m\u001b[38;5;241m.\u001b[39mdata\u001b[38;5;241m.\u001b[39mget_data_lines(\u001b[38;5;28mself\u001b[39m\u001b[38;5;241m.\u001b[39mlines)\n",
      "File \u001b[0;32m~/.local/lib/python3.10/site-packages/astropy/io/ascii/core.py:335\u001b[0m, in \u001b[0;36mBaseInputter.get_lines\u001b[0;34m(self, table, newline)\u001b[0m\n\u001b[1;32m    331\u001b[0m \u001b[38;5;28;01mtry\u001b[39;00m:\n\u001b[1;32m    332\u001b[0m     \u001b[38;5;28;01mif\u001b[39;00m \u001b[38;5;28mhasattr\u001b[39m(table, \u001b[38;5;124m\"\u001b[39m\u001b[38;5;124mread\u001b[39m\u001b[38;5;124m\"\u001b[39m) \u001b[38;5;129;01mor\u001b[39;00m (\n\u001b[1;32m    333\u001b[0m         \u001b[38;5;124m\"\u001b[39m\u001b[38;5;130;01m\\n\u001b[39;00m\u001b[38;5;124m\"\u001b[39m \u001b[38;5;129;01mnot\u001b[39;00m \u001b[38;5;129;01min\u001b[39;00m table \u001b[38;5;241m+\u001b[39m \u001b[38;5;124m\"\u001b[39m\u001b[38;5;124m\"\u001b[39m \u001b[38;5;129;01mand\u001b[39;00m \u001b[38;5;124m\"\u001b[39m\u001b[38;5;130;01m\\r\u001b[39;00m\u001b[38;5;124m\"\u001b[39m \u001b[38;5;129;01mnot\u001b[39;00m \u001b[38;5;129;01min\u001b[39;00m table \u001b[38;5;241m+\u001b[39m \u001b[38;5;124m\"\u001b[39m\u001b[38;5;124m\"\u001b[39m\n\u001b[1;32m    334\u001b[0m     ):\n\u001b[0;32m--> 335\u001b[0m         \u001b[38;5;28;01mwith\u001b[39;00m get_readable_fileobj(table, encoding\u001b[38;5;241m=\u001b[39m\u001b[38;5;28mself\u001b[39m\u001b[38;5;241m.\u001b[39mencoding) \u001b[38;5;28;01mas\u001b[39;00m fileobj:\n\u001b[1;32m    336\u001b[0m             table \u001b[38;5;241m=\u001b[39m fileobj\u001b[38;5;241m.\u001b[39mread()\n\u001b[1;32m    337\u001b[0m     \u001b[38;5;28;01mif\u001b[39;00m newline \u001b[38;5;129;01mis\u001b[39;00m \u001b[38;5;28;01mNone\u001b[39;00m:\n",
      "File \u001b[0;32m/usr/lib/python3.10/contextlib.py:135\u001b[0m, in \u001b[0;36m_GeneratorContextManager.__enter__\u001b[0;34m(self)\u001b[0m\n\u001b[1;32m    133\u001b[0m \u001b[38;5;28;01mdel\u001b[39;00m \u001b[38;5;28mself\u001b[39m\u001b[38;5;241m.\u001b[39margs, \u001b[38;5;28mself\u001b[39m\u001b[38;5;241m.\u001b[39mkwds, \u001b[38;5;28mself\u001b[39m\u001b[38;5;241m.\u001b[39mfunc\n\u001b[1;32m    134\u001b[0m \u001b[38;5;28;01mtry\u001b[39;00m:\n\u001b[0;32m--> 135\u001b[0m     \u001b[38;5;28;01mreturn\u001b[39;00m \u001b[38;5;28;43mnext\u001b[39;49m\u001b[43m(\u001b[49m\u001b[38;5;28;43mself\u001b[39;49m\u001b[38;5;241;43m.\u001b[39;49m\u001b[43mgen\u001b[49m\u001b[43m)\u001b[49m\n\u001b[1;32m    136\u001b[0m \u001b[38;5;28;01mexcept\u001b[39;00m \u001b[38;5;167;01mStopIteration\u001b[39;00m:\n\u001b[1;32m    137\u001b[0m     \u001b[38;5;28;01mraise\u001b[39;00m \u001b[38;5;167;01mRuntimeError\u001b[39;00m(\u001b[38;5;124m\"\u001b[39m\u001b[38;5;124mgenerator didn\u001b[39m\u001b[38;5;124m'\u001b[39m\u001b[38;5;124mt yield\u001b[39m\u001b[38;5;124m\"\u001b[39m) \u001b[38;5;28;01mfrom\u001b[39;00m \u001b[38;5;28mNone\u001b[39m\n",
      "File \u001b[0;32m~/.local/lib/python3.10/site-packages/astropy/utils/data.py:353\u001b[0m, in \u001b[0;36mget_readable_fileobj\u001b[0;34m(name_or_obj, encoding, cache, show_progress, remote_timeout, sources, http_headers, use_fsspec, fsspec_kwargs, close_files)\u001b[0m\n\u001b[1;32m    344\u001b[0m \u001b[38;5;28;01mif\u001b[39;00m is_url:\n\u001b[1;32m    345\u001b[0m     name_or_obj \u001b[38;5;241m=\u001b[39m download_file(\n\u001b[1;32m    346\u001b[0m         name_or_obj,\n\u001b[1;32m    347\u001b[0m         cache\u001b[38;5;241m=\u001b[39mcache,\n\u001b[0;32m   (...)\u001b[0m\n\u001b[1;32m    351\u001b[0m         http_headers\u001b[38;5;241m=\u001b[39mhttp_headers,\n\u001b[1;32m    352\u001b[0m     )\n\u001b[0;32m--> 353\u001b[0m fileobj \u001b[38;5;241m=\u001b[39m \u001b[43mio\u001b[49m\u001b[38;5;241;43m.\u001b[39;49m\u001b[43mFileIO\u001b[49m\u001b[43m(\u001b[49m\u001b[43mname_or_obj\u001b[49m\u001b[43m,\u001b[49m\u001b[43m \u001b[49m\u001b[38;5;124;43m\"\u001b[39;49m\u001b[38;5;124;43mr\u001b[39;49m\u001b[38;5;124;43m\"\u001b[39;49m\u001b[43m)\u001b[49m\n\u001b[1;32m    354\u001b[0m \u001b[38;5;28;01mif\u001b[39;00m is_url \u001b[38;5;129;01mand\u001b[39;00m \u001b[38;5;129;01mnot\u001b[39;00m cache:\n\u001b[1;32m    355\u001b[0m     delete_fds\u001b[38;5;241m.\u001b[39mappend(fileobj)\n",
      "\u001b[0;31mFileNotFoundError\u001b[0m: [Errno 2] No such file or directory: 'V.cat'"
     ]
    }
   ],
   "source": [
    "import astropy.io.ascii as asc\n",
    "\n",
    "# Read the data\n",
    "\n",
    "Vdata = asc.read('V.cat')\n",
    "rdata = asc.read('r.cat')\n"
   ]
  },
  {
   "cell_type": "code",
   "execution_count": 6,
   "metadata": {},
   "outputs": [
    {
     "data": {
      "text/plain": [
       "Text(0, 0.5, 'V')"
      ]
     },
     "execution_count": 6,
     "metadata": {},
     "output_type": "execute_result"
    },
    {
     "data": {
      "image/png": "[encoded data removed]",
      "text/plain": [
       "<Figure size 432x288 with 1 Axes>"
      ]
     },
     "metadata": {
      "needs_background": "light"
     },
     "output_type": "display_data"
    }
   ],
   "source": [
    "import matplotlib.pyplot as plt\n",
    "\n",
    "# Now make the plot. Set the x- and y limits, add labels to the axes\n",
    "V_r = []\n",
    "V = []\n",
    "for i in range(len(Vdata)):\n",
    "    if Vdata[i][\"MAGERR_APER\"] > 1 or rdata[i][\"MAGERR_APER\"] > 1:\n",
    "        continue # I had quite a lot of really inaccurate data, this gets rid of it\n",
    "    V_r.append(Vdata[i][\"MAG_APER\"]-rdata[i][\"MAG_APER\"])\n",
    "    V.append(Vdata[i][\"MAG_APER\"])\n",
    "\n",
    "plt.scatter(V_r, V)\n",
    "plt.xlim()\n",
    "plt.ylim()\n",
    "plt.xlabel(\"V-r\")\n",
    "plt.ylabel(\"V\")"
   ]
  },
  {
   "cell_type": "markdown",
   "metadata": {},
   "source": [
    "It is clear just from looking at the images that stars are not uniformly distributed - stars belonging to M37 are concentrated roughly (though not exactly) around the centre. It is often useful to compare CMDs for the central regions of a cluster with those further out. That way, we can try to assess whether certain CMD features are dominated by cluster stars, or whether there are significant contributions from the surrounding field."
   ]
  },
  {
   "cell_type": "markdown",
   "metadata": {},
   "source": [
    "- Roughly where are the centre coordinates of M37 located?\n",
    "- Modify the CMD plot such that stars within 500 pixels of the centre are plotted with one colour (say, red) and stars further out with another. Do you see any differences?"
   ]
  },
  {
   "cell_type": "code",
   "execution_count": 7,
   "metadata": {},
   "outputs": [
    {
     "data": {
      "text/plain": [
       "Text(0, 0.5, 'V')"
      ]
     },
     "execution_count": 7,
     "metadata": {},
     "output_type": "execute_result"
    },
    {
     "data": {
      "image/png": "[encoded data removed]",
      "text/plain": [
       "<Figure size 432x288 with 1 Axes>"
      ]
     },
     "metadata": {
      "needs_background": "light"
     },
     "output_type": "display_data"
    }
   ],
   "source": [
    "import numpy as np\n",
    "\n",
    "center = np.array([931, 542]) #Found by guessing that the brightest star is somewhere around the center of M37 (also checked that this roughly matched just looking at all the stars and pointing at the part that looked like it had the most stars)\n",
    "\n",
    "V_r_center = []\n",
    "V_center = []\n",
    "V_r = []\n",
    "V = []\n",
    "for i in range(len(Vdata)):\n",
    "    if Vdata[i][\"MAGERR_APER\"] > 1 or rdata[i][\"MAGERR_APER\"] > 1:\n",
    "        continue # I had quite a lot of really inaccurate data, this gets rid of it\n",
    "    coords = np.array([Vdata[i][\"X_IMAGE\"], Vdata[i][\"Y_IMAGE\"]])\n",
    "    if np.linalg.norm(center - coords) > 500:\n",
    "        V_r.append(Vdata[i][\"MAG_APER\"]-rdata[i][\"MAG_APER\"])\n",
    "        V.append(Vdata[i][\"MAG_APER\"])\n",
    "    else:\n",
    "        V_r_center.append(Vdata[i][\"MAG_APER\"]-rdata[i][\"MAG_APER\"])\n",
    "        V_center.append(Vdata[i][\"MAG_APER\"])\n",
    "\n",
    "# Define an array with distances of the stars to the centre:\n",
    "# d_centre = ...\n",
    "# wr = np.where(d_centre < 500)\n",
    "\n",
    "# Now make the plot as before, but plot the stars closer to \n",
    "# the centre with a different colour.\n",
    "plt.scatter(V_r, V)\n",
    "plt.scatter(V_r_center, V_center, color=\"red\")\n",
    "\n",
    "plt.xlim()\n",
    "plt.ylim()\n",
    "plt.xlabel(\"V-r\")\n",
    "plt.ylabel(\"V\")"
   ]
  },
  {
   "cell_type": "markdown",
   "metadata": {},
   "source": [
    "- What about elongated sources (i.e., potential blends?) Try plotting sources with A IMAGE > 7 (see the notes for Observational Astronomy) with another colour (e.g. blue). Do we need to worry about them?"
   ]
  },
  {
   "cell_type": "code",
   "execution_count": 9,
   "metadata": {},
   "outputs": [
    {
     "name": "stdout",
     "output_type": "stream",
     "text": [
      "0.046875\n"
     ]
    },
    {
     "data": {
      "image/png": "[encoded data removed]",
      "text/plain": [
       "<Figure size 432x288 with 1 Axes>"
      ]
     },
     "metadata": {
      "needs_background": "light"
     },
     "output_type": "display_data"
    }
   ],
   "source": [
    "import numpy as np\n",
    "\n",
    "center = np.array([931, 542]) #Found by guessing that the brightest star is somewhere around the center of M37 (also checked that this roughly matched just looking at all the stars and pointing at the part that looked like it had the most stars)\n",
    "\n",
    "V_r_blend = []\n",
    "V_blend = []\n",
    "V_r = []\n",
    "V = []\n",
    "for i in range(len(Vdata)):\n",
    "    if Vdata[i][\"MAGERR_APER\"] > 1 or rdata[i][\"MAGERR_APER\"] > 1:\n",
    "        continue # I had quite a lot of really inaccurate data, this gets rid of it\n",
    "    coords = np.array([Vdata[i][\"X_IMAGE\"], Vdata[i][\"Y_IMAGE\"]])\n",
    "    if Vdata[i][\"A_IMAGE\"] > 7:\n",
    "        V_r_blend.append(Vdata[i][\"MAG_APER\"]-rdata[i][\"MAG_APER\"])\n",
    "        V_blend.append(Vdata[i][\"MAG_APER\"])\n",
    "    else:\n",
    "        V_r.append(Vdata[i][\"MAG_APER\"]-rdata[i][\"MAG_APER\"])\n",
    "        V.append(Vdata[i][\"MAG_APER\"])\n",
    "\n",
    "\n",
    "# Now make the plot as before, but plot the stars closer to \n",
    "# the centre with a different colour.\n",
    "plt.scatter(V_r, V, color=\"blue\")\n",
    "plt.scatter(V_r_blend, V_blend, color=\"red\")\n",
    "\n",
    "plt.xlim()\n",
    "plt.ylim()\n",
    "plt.xlabel(\"V-r\")\n",
    "plt.ylabel(\"V\")\n",
    "\n",
    "print(len(V_blend)/len(V))"
   ]
  },
  {
   "cell_type": "code",
   "execution_count": 10,
   "metadata": {},
   "outputs": [
    {
     "name": "stdout",
     "output_type": "stream",
     "text": [
      "Ginga not installed, use other viewer, or no viewer\n",
      "9.991\n"
     ]
    }
   ],
   "source": [
    "#Script used to determine FWHM of the data\n",
    "import astropy.io.fits as fits\n",
    "import numpy as np\n",
    "import imexam\n",
    "import os\n",
    "import time\n",
    "\n",
    "#viewer = imexam.connect(path='/vol/cursus/ObsAstro/bin/ds9')\n",
    "#time.sleep(40)\n",
    "#viewer.load_fits(\"Vfinal.fits\")\n",
    "#viewer.zoomtofit()\n",
    "#viewer.imexam()\n",
    "\n",
    "values = [9.82, 9.84, 10.23, 10.07, 10.20, 9.83, 10.01, 10.38, 10.08, 9.45]\n",
    "FWHM = sum(values)/len(values)\n",
    "print(FWHM)\n"
   ]
  },
  {
   "cell_type": "markdown",
   "metadata": {},
   "source": [
    "The potentially blended stars make up just over 5% of my dataset (assuming that a threshold of 7 is accurate), which is significant."
   ]
  },
  {
   "cell_type": "markdown",
   "metadata": {},
   "source": [
    "## Hand in\n",
    "\n",
    "- Your estimates of the FWHM of the stellar images in the V and r images (20/100 pts)\n",
    "- The relevant parameters used for the photometry and background determination (you can fill this into the markdown field below) (20/100 pts)\n",
    "- Output from this notebook, including the three CMDs: full CCD field (20/100 pts), stars in the inner 500 pixels plotted with red (20/100 pts), stars with A_IMAGE > 7 plotted with blue (20/100 pts)"
   ]
  },
  {
   "cell_type": "code",
   "execution_count": 64,
   "metadata": {},
   "outputs": [
    {
     "ename": "SyntaxError",
     "evalue": "invalid syntax (<ipython-input-64-03b17d4648df>, line 1)",
     "output_type": "error",
     "traceback": [
      "\u001b[0;36m  File \u001b[0;32m\"<ipython-input-64-03b17d4648df>\"\u001b[0;36m, line \u001b[0;32m1\u001b[0m\n\u001b[0;31m    FWHM of the images:\u001b[0m\n\u001b[0m         ^\u001b[0m\n\u001b[0;31mSyntaxError\u001b[0m\u001b[0;31m:\u001b[0m invalid syntax\n"
     ]
    }
   ],
   "source": [
    "FWHM of the images:\n",
    "9.991\n",
    "Relevant sextractor parameters:\n",
    "FILTER           N              # apply filter for detection (Y or N)?\n",
    "GAIN             13.6            # detector gain in e-/ADU\n",
    "BACK_SIZE        100             # Background mesh: <size> or <width>,<height>\n",
    "CHECKIMAGE_TYPE  APERTURES        # can be NONE, BACKGROUND, BACKGROUND_RMS,"
   ]
  },
  {
   "cell_type": "code",
   "execution_count": null,
   "metadata": {},
   "outputs": [],
   "source": []
  }
 ],
 "metadata": {
  "kernelspec": {
   "display_name": "Python 3 (ipykernel)",
   "language": "python",
   "name": "python3"
  },
  "language_info": {
   "codemirror_mode": {
    "name": "ipython",
    "version": 3
   },
   "file_extension": ".py",
   "mimetype": "text/x-python",
   "name": "python",
   "nbconvert_exporter": "python",
   "pygments_lexer": "ipython3",
   "version": "3.10.10"
  }
 },
 "nbformat": 4,
 "nbformat_minor": 2
}
