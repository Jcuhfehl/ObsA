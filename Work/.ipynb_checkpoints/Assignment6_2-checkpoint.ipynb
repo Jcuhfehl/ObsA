{
 "cells": [
  {
   "cell_type": "markdown",
   "metadata": {},
   "source": [
    "# Calibration of the photometry\n"
   ]
  },
  {
   "cell_type": "markdown",
   "metadata": {},
   "source": [
    "As discussed in the <i>Observational Astronomy</i> notes, we will use data from the URAT1 catalogue to calibrate the photometry. \n",
    "\n",
    "- In the following, it is assumed that you have followed the steps in Section 6.2 of the notes and added WCS information to one of the science images, and that you therefore have an image (new-image.fits) with WCS header information.\n",
    "- It is also assumed that you have downloaded URAT1 data for the brighter stars in the M37 field to a text file, urat1.txt\n",
    "\n",
    "With these prerequisites in place, our next step is now to find matching entries between our sextractor photometry catalogs and the URAT1 catalog for at least 5 stars. We can then use this information to establish the zero-points to be added to the sextractor instrumental magnitudes in order to produce calibrated apparent magnitudes."
   ]
  },
  {
   "cell_type": "markdown",
   "metadata": {},
   "source": [
    "We start by marking the stars in the URAT1 catalogue on the DS9 image display. That way, we can more easily visualise which of them would be good standard stars (i.e., no nearby neighbours). Again, this can be done via the imexam package.\n",
    "\n",
    "- We first define a couple of variables with the name of the WCS-enabled image and the URAT1 catalogue and then set up the connection to DS9:"
   ]
  },
  {
   "cell_type": "code",
   "execution_count": 5,
   "metadata": {
    "scrolled": false
   },
   "outputs": [
    {
     "name": "stdout",
     "output_type": "stream",
     "text": [
      "Exception: FileNotFoundError(2, 'No such file or directory')\n"
     ]
    },
    {
     "ename": "FileNotFoundError",
     "evalue": "[Errno 2] No such file or directory: '/vol/cursus/ObsAstro/bin/ds9'",
     "output_type": "error",
     "traceback": [
      "\u001b[0;31m---------------------------------------------------------------------------\u001b[0m",
      "\u001b[0;31mFileNotFoundError\u001b[0m                         Traceback (most recent call last)",
      "Cell \u001b[0;32mIn[5], line 9\u001b[0m\n\u001b[1;32m      6\u001b[0m wcsimage \u001b[38;5;241m=\u001b[39m \u001b[38;5;124m'\u001b[39m\u001b[38;5;124mnew-image.fits\u001b[39m\u001b[38;5;124m'\u001b[39m\n\u001b[1;32m      7\u001b[0m uratcat  \u001b[38;5;241m=\u001b[39m \u001b[38;5;124m'\u001b[39m\u001b[38;5;124murat.txt\u001b[39m\u001b[38;5;124m'\u001b[39m\n\u001b[0;32m----> 9\u001b[0m viewer \u001b[38;5;241m=\u001b[39m \u001b[43mimexam\u001b[49m\u001b[38;5;241;43m.\u001b[39;49m\u001b[43mconnect\u001b[49m\u001b[43m(\u001b[49m\u001b[43mpath\u001b[49m\u001b[38;5;241;43m=\u001b[39;49m\u001b[38;5;124;43m\"\u001b[39;49m\u001b[38;5;124;43m/vol/cursus/ObsAstro/bin/ds9\u001b[39;49m\u001b[38;5;124;43m\"\u001b[39;49m\u001b[43m)\u001b[49m\n",
      "File \u001b[0;32m~/.local/lib/python3.10/site-packages/imexam/connect.py:92\u001b[0m, in \u001b[0;36mConnect.__init__\u001b[0;34m(self, target, path, viewer, wait_time, quit_window, port)\u001b[0m\n\u001b[1;32m     89\u001b[0m \u001b[38;5;28mself\u001b[39m\u001b[38;5;241m.\u001b[39mexam \u001b[38;5;241m=\u001b[39m Imexamine()\n\u001b[1;32m     91\u001b[0m \u001b[38;5;28;01mif\u001b[39;00m \u001b[38;5;124m'\u001b[39m\u001b[38;5;124mds9\u001b[39m\u001b[38;5;124m'\u001b[39m \u001b[38;5;129;01min\u001b[39;00m \u001b[38;5;28mself\u001b[39m\u001b[38;5;241m.\u001b[39m_viewer:\n\u001b[0;32m---> 92\u001b[0m     \u001b[38;5;28mself\u001b[39m\u001b[38;5;241m.\u001b[39mwindow \u001b[38;5;241m=\u001b[39m \u001b[43mds9\u001b[49m\u001b[43m(\u001b[49m\n\u001b[1;32m     93\u001b[0m \u001b[43m        \u001b[49m\u001b[43mtarget\u001b[49m\u001b[38;5;241;43m=\u001b[39;49m\u001b[43mtarget\u001b[49m\u001b[43m,\u001b[49m\n\u001b[1;32m     94\u001b[0m \u001b[43m        \u001b[49m\u001b[43mpath\u001b[49m\u001b[38;5;241;43m=\u001b[39;49m\u001b[43mpath\u001b[49m\u001b[43m,\u001b[49m\n\u001b[1;32m     95\u001b[0m \u001b[43m        \u001b[49m\u001b[43mwait_time\u001b[49m\u001b[38;5;241;43m=\u001b[39;49m\u001b[43mwait_time\u001b[49m\u001b[43m,\u001b[49m\n\u001b[1;32m     96\u001b[0m \u001b[43m        \u001b[49m\u001b[43mquit_ds9_on_del\u001b[49m\u001b[38;5;241;43m=\u001b[39;49m\u001b[43mquit_window\u001b[49m\u001b[43m)\u001b[49m\n\u001b[1;32m     97\u001b[0m     \u001b[38;5;28mself\u001b[39m\u001b[38;5;241m.\u001b[39m_event_driven_exam \u001b[38;5;241m=\u001b[39m \u001b[38;5;28;01mFalse\u001b[39;00m  \u001b[38;5;66;03m# use the imexam loop\u001b[39;00m\n\u001b[1;32m     99\u001b[0m \u001b[38;5;28;01melif\u001b[39;00m \u001b[38;5;124m'\u001b[39m\u001b[38;5;124mginga\u001b[39m\u001b[38;5;124m'\u001b[39m \u001b[38;5;129;01min\u001b[39;00m \u001b[38;5;28mself\u001b[39m\u001b[38;5;241m.\u001b[39m_viewer:\n",
      "File \u001b[0;32m~/.local/lib/python3.10/site-packages/imexam/ds9_viewer.py:241\u001b[0m, in \u001b[0;36mds9.__init__\u001b[0;34m(self, target, path, wait_time, quit_ds9_on_del)\u001b[0m\n\u001b[1;32m    238\u001b[0m     \u001b[38;5;28mself\u001b[39m\u001b[38;5;241m.\u001b[39m_xpa_method \u001b[38;5;241m=\u001b[39m os\u001b[38;5;241m.\u001b[39menviron[\u001b[38;5;124m'\u001b[39m\u001b[38;5;124mXPA_METHOD\u001b[39m\u001b[38;5;124m'\u001b[39m]\u001b[38;5;241m.\u001b[39mlower()\n\u001b[1;32m    240\u001b[0m \u001b[38;5;28;01mif\u001b[39;00m \u001b[38;5;124m'\u001b[39m\u001b[38;5;124minet\u001b[39m\u001b[38;5;124m'\u001b[39m \u001b[38;5;129;01min\u001b[39;00m \u001b[38;5;28mself\u001b[39m\u001b[38;5;241m.\u001b[39m_xpa_method:\n\u001b[0;32m--> 241\u001b[0m     \u001b[38;5;28mself\u001b[39m\u001b[38;5;241m.\u001b[39m_xpa_name \u001b[38;5;241m=\u001b[39m \u001b[38;5;28;43mself\u001b[39;49m\u001b[38;5;241;43m.\u001b[39;49m\u001b[43mrun_inet_ds9\u001b[49m\u001b[43m(\u001b[49m\u001b[43m)\u001b[49m\n\u001b[1;32m    242\u001b[0m     \u001b[38;5;66;03m# xpa_name is the title of the window, the xpa can be\u001b[39;00m\n\u001b[1;32m    243\u001b[0m     \u001b[38;5;66;03m# referenced with either the socket address or name\u001b[39;00m\n\u001b[1;32m    244\u001b[0m     \u001b[38;5;66;03m# of the window\u001b[39;00m\n\u001b[1;32m    246\u001b[0m \u001b[38;5;28;01melif\u001b[39;00m \u001b[38;5;124m'\u001b[39m\u001b[38;5;124mlocal\u001b[39m\u001b[38;5;124m'\u001b[39m \u001b[38;5;129;01min\u001b[39;00m \u001b[38;5;28mself\u001b[39m\u001b[38;5;241m.\u001b[39m_xpa_method:\n",
      "File \u001b[0;32m~/.local/lib/python3.10/site-packages/imexam/ds9_viewer.py:557\u001b[0m, in \u001b[0;36mds9.run_inet_ds9\u001b[0;34m(self)\u001b[0m\n\u001b[1;32m    555\u001b[0m \u001b[38;5;28;01mif\u001b[39;00m pidtokill \u001b[38;5;129;01mis\u001b[39;00m \u001b[38;5;129;01mnot\u001b[39;00m \u001b[38;5;28;01mNone\u001b[39;00m:\n\u001b[1;32m    556\u001b[0m     os\u001b[38;5;241m.\u001b[39mkill(pidtokill, SIGTERM)\n\u001b[0;32m--> 557\u001b[0m \u001b[38;5;28;01mraise\u001b[39;00m e\n",
      "File \u001b[0;32m~/.local/lib/python3.10/site-packages/imexam/ds9_viewer.py:537\u001b[0m, in \u001b[0;36mds9.run_inet_ds9\u001b[0;34m(self)\u001b[0m\n\u001b[1;32m    535\u001b[0m xpaname \u001b[38;5;241m=\u001b[39m \u001b[38;5;124m\"\u001b[39m\u001b[38;5;124mimexam\u001b[39m\u001b[38;5;124m\"\u001b[39m \u001b[38;5;241m+\u001b[39m \u001b[38;5;28mstr\u001b[39m(time\u001b[38;5;241m.\u001b[39mtime())\n\u001b[1;32m    536\u001b[0m \u001b[38;5;28;01mtry\u001b[39;00m:\n\u001b[0;32m--> 537\u001b[0m     p \u001b[38;5;241m=\u001b[39m \u001b[43mPopen\u001b[49m\u001b[43m(\u001b[49m\u001b[43m[\u001b[49m\u001b[38;5;28;43mself\u001b[39;49m\u001b[38;5;241;43m.\u001b[39;49m\u001b[43m_ds9_path\u001b[49m\u001b[43m,\u001b[49m\n\u001b[1;32m    538\u001b[0m \u001b[43m               \u001b[49m\u001b[38;5;124;43m\"\u001b[39;49m\u001b[38;5;124;43m-xpa\u001b[39;49m\u001b[38;5;124;43m\"\u001b[39;49m\u001b[43m,\u001b[49m\u001b[43m \u001b[49m\u001b[38;5;124;43m\"\u001b[39;49m\u001b[38;5;124;43minet\u001b[39;49m\u001b[38;5;124;43m\"\u001b[39;49m\u001b[43m,\u001b[49m\n\u001b[1;32m    539\u001b[0m \u001b[43m               \u001b[49m\u001b[38;5;124;43m\"\u001b[39;49m\u001b[38;5;124;43m-title\u001b[39;49m\u001b[38;5;124;43m\"\u001b[39;49m\u001b[43m,\u001b[49m\u001b[43m \u001b[49m\u001b[43mxpaname\u001b[49m\u001b[43m]\u001b[49m\u001b[43m,\u001b[49m\n\u001b[1;32m    540\u001b[0m \u001b[43m              \u001b[49m\u001b[43mshell\u001b[49m\u001b[38;5;241;43m=\u001b[39;49m\u001b[38;5;28;43;01mFalse\u001b[39;49;00m\u001b[43m,\u001b[49m\u001b[43m \u001b[49m\u001b[43menv\u001b[49m\u001b[38;5;241;43m=\u001b[39;49m\u001b[43menv\u001b[49m\u001b[43m)\u001b[49m\n\u001b[1;32m    541\u001b[0m     \u001b[38;5;28mself\u001b[39m\u001b[38;5;241m.\u001b[39m_ds9_process \u001b[38;5;241m=\u001b[39m p\n\u001b[1;32m    542\u001b[0m     \u001b[38;5;28mself\u001b[39m\u001b[38;5;241m.\u001b[39m_process_list\u001b[38;5;241m.\u001b[39mappend(p)\n",
      "File \u001b[0;32m/usr/lib/python3.10/subprocess.py:971\u001b[0m, in \u001b[0;36mPopen.__init__\u001b[0;34m(self, args, bufsize, executable, stdin, stdout, stderr, preexec_fn, close_fds, shell, cwd, env, universal_newlines, startupinfo, creationflags, restore_signals, start_new_session, pass_fds, user, group, extra_groups, encoding, errors, text, umask, pipesize)\u001b[0m\n\u001b[1;32m    967\u001b[0m         \u001b[38;5;28;01mif\u001b[39;00m \u001b[38;5;28mself\u001b[39m\u001b[38;5;241m.\u001b[39mtext_mode:\n\u001b[1;32m    968\u001b[0m             \u001b[38;5;28mself\u001b[39m\u001b[38;5;241m.\u001b[39mstderr \u001b[38;5;241m=\u001b[39m io\u001b[38;5;241m.\u001b[39mTextIOWrapper(\u001b[38;5;28mself\u001b[39m\u001b[38;5;241m.\u001b[39mstderr,\n\u001b[1;32m    969\u001b[0m                     encoding\u001b[38;5;241m=\u001b[39mencoding, errors\u001b[38;5;241m=\u001b[39merrors)\n\u001b[0;32m--> 971\u001b[0m     \u001b[38;5;28;43mself\u001b[39;49m\u001b[38;5;241;43m.\u001b[39;49m\u001b[43m_execute_child\u001b[49m\u001b[43m(\u001b[49m\u001b[43margs\u001b[49m\u001b[43m,\u001b[49m\u001b[43m \u001b[49m\u001b[43mexecutable\u001b[49m\u001b[43m,\u001b[49m\u001b[43m \u001b[49m\u001b[43mpreexec_fn\u001b[49m\u001b[43m,\u001b[49m\u001b[43m \u001b[49m\u001b[43mclose_fds\u001b[49m\u001b[43m,\u001b[49m\n\u001b[1;32m    972\u001b[0m \u001b[43m                        \u001b[49m\u001b[43mpass_fds\u001b[49m\u001b[43m,\u001b[49m\u001b[43m \u001b[49m\u001b[43mcwd\u001b[49m\u001b[43m,\u001b[49m\u001b[43m \u001b[49m\u001b[43menv\u001b[49m\u001b[43m,\u001b[49m\n\u001b[1;32m    973\u001b[0m \u001b[43m                        \u001b[49m\u001b[43mstartupinfo\u001b[49m\u001b[43m,\u001b[49m\u001b[43m \u001b[49m\u001b[43mcreationflags\u001b[49m\u001b[43m,\u001b[49m\u001b[43m \u001b[49m\u001b[43mshell\u001b[49m\u001b[43m,\u001b[49m\n\u001b[1;32m    974\u001b[0m \u001b[43m                        \u001b[49m\u001b[43mp2cread\u001b[49m\u001b[43m,\u001b[49m\u001b[43m \u001b[49m\u001b[43mp2cwrite\u001b[49m\u001b[43m,\u001b[49m\n\u001b[1;32m    975\u001b[0m \u001b[43m                        \u001b[49m\u001b[43mc2pread\u001b[49m\u001b[43m,\u001b[49m\u001b[43m \u001b[49m\u001b[43mc2pwrite\u001b[49m\u001b[43m,\u001b[49m\n\u001b[1;32m    976\u001b[0m \u001b[43m                        \u001b[49m\u001b[43merrread\u001b[49m\u001b[43m,\u001b[49m\u001b[43m \u001b[49m\u001b[43merrwrite\u001b[49m\u001b[43m,\u001b[49m\n\u001b[1;32m    977\u001b[0m \u001b[43m                        \u001b[49m\u001b[43mrestore_signals\u001b[49m\u001b[43m,\u001b[49m\n\u001b[1;32m    978\u001b[0m \u001b[43m                        \u001b[49m\u001b[43mgid\u001b[49m\u001b[43m,\u001b[49m\u001b[43m \u001b[49m\u001b[43mgids\u001b[49m\u001b[43m,\u001b[49m\u001b[43m \u001b[49m\u001b[43muid\u001b[49m\u001b[43m,\u001b[49m\u001b[43m \u001b[49m\u001b[43mumask\u001b[49m\u001b[43m,\u001b[49m\n\u001b[1;32m    979\u001b[0m \u001b[43m                        \u001b[49m\u001b[43mstart_new_session\u001b[49m\u001b[43m)\u001b[49m\n\u001b[1;32m    980\u001b[0m \u001b[38;5;28;01mexcept\u001b[39;00m:\n\u001b[1;32m    981\u001b[0m     \u001b[38;5;66;03m# Cleanup if the child failed starting.\u001b[39;00m\n\u001b[1;32m    982\u001b[0m     \u001b[38;5;28;01mfor\u001b[39;00m f \u001b[38;5;129;01min\u001b[39;00m \u001b[38;5;28mfilter\u001b[39m(\u001b[38;5;28;01mNone\u001b[39;00m, (\u001b[38;5;28mself\u001b[39m\u001b[38;5;241m.\u001b[39mstdin, \u001b[38;5;28mself\u001b[39m\u001b[38;5;241m.\u001b[39mstdout, \u001b[38;5;28mself\u001b[39m\u001b[38;5;241m.\u001b[39mstderr)):\n",
      "File \u001b[0;32m/usr/lib/python3.10/subprocess.py:1847\u001b[0m, in \u001b[0;36mPopen._execute_child\u001b[0;34m(self, args, executable, preexec_fn, close_fds, pass_fds, cwd, env, startupinfo, creationflags, shell, p2cread, p2cwrite, c2pread, c2pwrite, errread, errwrite, restore_signals, gid, gids, uid, umask, start_new_session)\u001b[0m\n\u001b[1;32m   1845\u001b[0m     \u001b[38;5;28;01mif\u001b[39;00m errno_num \u001b[38;5;241m!=\u001b[39m \u001b[38;5;241m0\u001b[39m:\n\u001b[1;32m   1846\u001b[0m         err_msg \u001b[38;5;241m=\u001b[39m os\u001b[38;5;241m.\u001b[39mstrerror(errno_num)\n\u001b[0;32m-> 1847\u001b[0m     \u001b[38;5;28;01mraise\u001b[39;00m child_exception_type(errno_num, err_msg, err_filename)\n\u001b[1;32m   1848\u001b[0m \u001b[38;5;28;01mraise\u001b[39;00m child_exception_type(err_msg)\n",
      "\u001b[0;31mFileNotFoundError\u001b[0m: [Errno 2] No such file or directory: '/vol/cursus/ObsAstro/bin/ds9'"
     ]
    }
   ],
   "source": [
    "import imexam\n",
    "from astropy.io import fits\n",
    "import time\n",
    "\n",
    "\n",
    "wcsimage = 'new-image.fits'\n",
    "uratcat  = 'urat.txt'\n",
    "\n",
    "viewer = imexam.connect(path=\"/vol/cursus/ObsAstro/bin/ds9\")\n",
    "\n"
   ]
  },
  {
   "cell_type": "code",
   "execution_count": 6,
   "metadata": {},
   "outputs": [
    {
     "ename": "NameError",
     "evalue": "name 'viewer' is not defined",
     "output_type": "error",
     "traceback": [
      "\u001b[0;31m---------------------------------------------------------------------------\u001b[0m",
      "\u001b[0;31mNameError\u001b[0m                                 Traceback (most recent call last)",
      "Cell \u001b[0;32mIn[6], line 1\u001b[0m\n\u001b[0;32m----> 1\u001b[0m \u001b[43mviewer\u001b[49m\u001b[38;5;241m.\u001b[39mload_fits(wcsimage)\n\u001b[1;32m      2\u001b[0m viewer\u001b[38;5;241m.\u001b[39mscale()\n",
      "\u001b[0;31mNameError\u001b[0m: name 'viewer' is not defined"
     ]
    }
   ],
   "source": [
    "viewer.load_fits(wcsimage)\n",
    "viewer.scale()"
   ]
  },
  {
   "cell_type": "markdown",
   "metadata": {},
   "source": [
    "- We then read data from the URAT catalogue. We could just use loadtxt() in Numpy to read the RA and DECL columns, but this doesn't work for the ID. Therefore, we read the file \"manually\" line by line: "
   ]
  },
  {
   "cell_type": "code",
   "execution_count": 7,
   "metadata": {},
   "outputs": [],
   "source": [
    "name, ra, de = [], [], [] \n",
    "with open(uratcat) as f:\n",
    "    for line in f:\n",
    "        lsplit = line.split()\n",
    "        name.append(lsplit[0])\n",
    "        ra.append(float(lsplit[1]))\n",
    "        de.append(float(lsplit[2]))"
   ]
  },
  {
   "cell_type": "markdown",
   "metadata": {},
   "source": [
    "- We now use the WCS function in the astropy.wcs package to convert the (RA, DECL) coordinates to CCD (x, y) coordinates, using the WCS information in the image header:"
   ]
  },
  {
   "cell_type": "code",
   "execution_count": 23,
   "metadata": {},
   "outputs": [
    {
     "name": "stdout",
     "output_type": "stream",
     "text": [
      "WCS Keywords\n",
      "\n",
      "Number of WCS axes: 2\n",
      "CTYPE : ''  ''  \n",
      "CRVAL : 0.0  0.0  \n",
      "CRPIX : 0.0  0.0  \n",
      "PC1_1 PC1_2  : 1.0  0.0  \n",
      "PC2_1 PC2_2  : 0.0  1.0  \n",
      "CDELT : 1.0  1.0  \n",
      "NAXIS : 0  0\n",
      "[array([83.1000222, 83.101088 , 83.1011672, 83.1031857, 83.1036156,\n",
      "       83.0644553, 83.0691967, 83.0695244, 83.0723892, 83.0735494,\n",
      "       83.0756063, 83.0784343, 83.0811791, 83.0839812, 83.0745206,\n",
      "       83.0797019, 83.0832217, 83.0838203, 83.0847524, 83.0862625,\n",
      "       83.0864922, 83.0870581, 83.0874819, 83.0878575, 83.0885261,\n",
      "       83.0885772, 83.0896686, 83.0904036, 83.0913944, 83.0914161,\n",
      "       83.0917753, 83.0918856, 83.0922483, 83.0931547, 83.0935192,\n",
      "       83.0943381, 83.0944155, 83.0948617, 83.0967697, 83.0986031,\n",
      "       83.0988442, 83.101337 , 83.1018367, 83.0658361, 83.0695306,\n",
      "       83.0719428, 83.1017883, 83.1023242]), array([33.1200978, 33.1271517, 33.1234069, 33.1277156, 33.1303681,\n",
      "       33.1343944, 33.1194286, 33.1240978, 33.1195661, 33.1280789,\n",
      "       33.1238147, 33.1224467, 33.1243325, 33.1198508, 33.1376583,\n",
      "       33.1332022, 33.12945  , 33.1335306, 33.1475728, 33.1412933,\n",
      "       33.1433983, 33.150585 , 33.1358167, 33.1210119, 33.1184303,\n",
      "       33.1506056, 33.1291033, 33.1395981, 33.1233075, 33.1355794,\n",
      "       33.14485  , 33.1313186, 33.1204647, 33.1347014, 33.1443619,\n",
      "       33.1427764, 33.1338131, 33.1457297, 33.1454206, 33.1299744,\n",
      "       33.1323264, 33.1339086, 33.1411489, 33.143485 , 33.1505636,\n",
      "       33.1505836, 33.1502072, 33.1484856])]\n"
     ]
    }
   ],
   "source": [
    "from astropy.wcs import WCS\n",
    "w = WCS(wcsimage)\n",
    "print(w)\n",
    "xy = w.all_world2pix(ra, de, 0)\n",
    "#print(xy)"
   ]
  },
  {
   "cell_type": "markdown",
   "metadata": {},
   "source": [
    "-  The data need to be rearranged back into a list of tuples [(ra1, decl1, ID1), (ra2, decl2, ID2), ..] that we can send to DS9 with the mark_region_from_array() method of the viewer object:"
   ]
  },
  {
   "cell_type": "code",
   "execution_count": 22,
   "metadata": {},
   "outputs": [
    {
     "name": "stdout",
     "output_type": "stream",
     "text": [
      "[(83.1000222, 33.1200978, '621-108878'), (83.101088, 33.1271517, '621-108887'), (83.1011672, 33.1234069, '621-108889'), (83.1031857, 33.1277156, '621-108905'), (83.1036156, 33.1303681, '621-108910'), (83.0644553, 33.1343944, '621-108665'), (83.0691967, 33.1194286, '621-108691'), (83.0695244, 33.1240978, '621-108695'), (83.0723892, 33.1195661, '621-108708'), (83.0735494, 33.1280789, '621-108714'), (83.0756063, 33.1238147, '621-108728'), (83.0784343, 33.1224467, '621-108740'), (83.0811791, 33.1243325, '621-108751'), (83.0839812, 33.1198508, '621-108764'), (83.0745206, 33.1376583, '621-108720'), (83.0797019, 33.1332022, '621-108744'), (83.0832217, 33.12945, '621-108759'), (83.0838203, 33.1335306, '621-108763'), (83.0847524, 33.1475728, '621-108768'), (83.0862625, 33.1412933, '621-108775'), (83.0864922, 33.1433983, '621-108777'), (83.0870581, 33.150585, '621-108778'), (83.0874819, 33.1358167, '621-108781'), (83.0878575, 33.1210119, '621-108783'), (83.0885261, 33.1184303, '621-108788'), (83.0885772, 33.1506056, '621-108789'), (83.0896686, 33.1291033, '621-108795'), (83.0904036, 33.1395981, '621-108799'), (83.0913944, 33.1233075, '621-108809'), (83.0914161, 33.1355794, '621-108810'), (83.0917753, 33.14485, '621-108812'), (83.0918856, 33.1313186, '621-108814'), (83.0922483, 33.1204647, '621-108817'), (83.0931547, 33.1347014, '621-108821'), (83.0935192, 33.1443619, '621-108824'), (83.0943381, 33.1427764, '621-108829'), (83.0944155, 33.1338131, '621-108831'), (83.0948617, 33.1457297, '621-108833'), (83.0967697, 33.1454206, '621-108850'), (83.0986031, 33.1299744, '621-108862'), (83.0988442, 33.1323264, '621-108866'), (83.101337, 33.1339086, '621-108890'), (83.1018367, 33.1411489, '621-108894'), (83.0658361, 33.143485, '621-108675'), (83.0695306, 33.1505636, '621-108696'), (83.0719428, 33.1505836, '621-108704'), (83.1017883, 33.1502072, '621-108892'), (83.1023242, 33.1484856, '621-108897')]\n"
     ]
    }
   ],
   "source": [
    "pcoo = []\n",
    "for _x, _y, _name in zip(xy[0], xy[1], name):\n",
    "    pcoo.append((_x, _y, _name))\n",
    "#viewer.mark_region_from_array(pcoo, size=20, textoff=25)\n",
    "\n",
    "print(pcoo)"
   ]
  },
  {
   "cell_type": "markdown",
   "metadata": {},
   "source": [
    "By now, the DS9 window should show the image (new-image.fits) and circles around the URAT1 stars labelled by their IDs.\n",
    "\n",
    "- We then call the imexam() method in the usual way, so that we can measure the (x,y) coordinates of the stars."
   ]
  },
  {
   "cell_type": "code",
   "execution_count": 6,
   "metadata": {},
   "outputs": [
    {
     "ename": "XpaException",
     "evalue": "Unknown XPA Error : XPAGet returned 0!",
     "output_type": "error",
     "traceback": [
      "\u001b[0;31m---------------------------------------------------------------------------\u001b[0m",
      "\u001b[0;31mXpaException\u001b[0m                              Traceback (most recent call last)",
      "\u001b[0;32m<ipython-input-6-3c8f592fd1cf>\u001b[0m in \u001b[0;36m<module>\u001b[0;34m\u001b[0m\n\u001b[0;32m----> 1\u001b[0;31m \u001b[0mviewer\u001b[0m\u001b[0;34m.\u001b[0m\u001b[0mimexam\u001b[0m\u001b[0;34m(\u001b[0m\u001b[0;34m)\u001b[0m\u001b[0;34m\u001b[0m\u001b[0;34m\u001b[0m\u001b[0m\n\u001b[0m",
      "\u001b[0;32m/vol/cursus/ObsAstro/miniconda3/lib/python3.9/site-packages/imexam/connect.py\u001b[0m in \u001b[0;36mimexam\u001b[0;34m(self)\u001b[0m\n\u001b[1;32m    144\u001b[0m         \u001b[0mAt\u001b[0m \u001b[0ma\u001b[0m \u001b[0mminimum\u001b[0m \u001b[0mit\u001b[0m \u001b[0mrequires\u001b[0m \u001b[0ma\u001b[0m \u001b[0mcopy\u001b[0m \u001b[0mof\u001b[0m \u001b[0mthe\u001b[0m \u001b[0mdata\u001b[0m \u001b[0marray\u001b[0m\u001b[0;34m\u001b[0m\u001b[0;34m\u001b[0m\u001b[0m\n\u001b[1;32m    145\u001b[0m         \"\"\"\n\u001b[0;32m--> 146\u001b[0;31m         \u001b[0;32mif\u001b[0m \u001b[0mself\u001b[0m\u001b[0;34m.\u001b[0m\u001b[0mvalid_data_in_viewer\u001b[0m\u001b[0;34m(\u001b[0m\u001b[0;34m)\u001b[0m\u001b[0;34m:\u001b[0m\u001b[0;34m\u001b[0m\u001b[0;34m\u001b[0m\u001b[0m\n\u001b[0m\u001b[1;32m    147\u001b[0m             \u001b[0;32mif\u001b[0m \u001b[0mself\u001b[0m\u001b[0;34m.\u001b[0m\u001b[0m_event_driven_exam\u001b[0m\u001b[0;34m:\u001b[0m\u001b[0;34m\u001b[0m\u001b[0;34m\u001b[0m\u001b[0m\n\u001b[1;32m    148\u001b[0m                 \u001b[0mself\u001b[0m\u001b[0;34m.\u001b[0m\u001b[0m_run_event_imexam\u001b[0m\u001b[0;34m(\u001b[0m\u001b[0;34m)\u001b[0m\u001b[0;34m\u001b[0m\u001b[0;34m\u001b[0m\u001b[0m\n",
      "\u001b[0;32m/vol/cursus/ObsAstro/miniconda3/lib/python3.9/site-packages/imexam/connect.py\u001b[0m in \u001b[0;36mvalid_data_in_viewer\u001b[0;34m(self)\u001b[0m\n\u001b[1;32m    175\u001b[0m     \u001b[0;32mdef\u001b[0m \u001b[0mvalid_data_in_viewer\u001b[0m\u001b[0;34m(\u001b[0m\u001b[0mself\u001b[0m\u001b[0;34m)\u001b[0m\u001b[0;34m:\u001b[0m\u001b[0;34m\u001b[0m\u001b[0;34m\u001b[0m\u001b[0m\n\u001b[1;32m    176\u001b[0m         \u001b[0;34m\"\"\"Return True if a valid file or array is loaded.\"\"\"\u001b[0m\u001b[0;34m\u001b[0m\u001b[0;34m\u001b[0m\u001b[0m\n\u001b[0;32m--> 177\u001b[0;31m         \u001b[0;32mreturn\u001b[0m \u001b[0mself\u001b[0m\u001b[0;34m.\u001b[0m\u001b[0mwindow\u001b[0m\u001b[0;34m.\u001b[0m\u001b[0mvalid_data_in_viewer\u001b[0m\u001b[0;34m(\u001b[0m\u001b[0;34m)\u001b[0m\u001b[0;34m\u001b[0m\u001b[0;34m\u001b[0m\u001b[0m\n\u001b[0m\u001b[1;32m    178\u001b[0m \u001b[0;34m\u001b[0m\u001b[0m\n\u001b[1;32m    179\u001b[0m     \u001b[0;32mdef\u001b[0m \u001b[0mget_frame_info\u001b[0m\u001b[0;34m(\u001b[0m\u001b[0mself\u001b[0m\u001b[0;34m)\u001b[0m\u001b[0;34m:\u001b[0m\u001b[0;34m\u001b[0m\u001b[0;34m\u001b[0m\u001b[0m\n",
      "\u001b[0;32m/vol/cursus/ObsAstro/miniconda3/lib/python3.9/site-packages/imexam/ds9_viewer.py\u001b[0m in \u001b[0;36mvalid_data_in_viewer\u001b[0;34m(self)\u001b[0m\n\u001b[1;32m    404\u001b[0m     \u001b[0;32mdef\u001b[0m \u001b[0mvalid_data_in_viewer\u001b[0m\u001b[0;34m(\u001b[0m\u001b[0mself\u001b[0m\u001b[0;34m)\u001b[0m\u001b[0;34m:\u001b[0m\u001b[0;34m\u001b[0m\u001b[0;34m\u001b[0m\u001b[0m\n\u001b[1;32m    405\u001b[0m         \u001b[0;34m\"\"\"return bool if valid file or array is loaded into the viewer.\"\"\"\u001b[0m\u001b[0;34m\u001b[0m\u001b[0;34m\u001b[0m\u001b[0m\n\u001b[0;32m--> 406\u001b[0;31m         \u001b[0mframe\u001b[0m \u001b[0;34m=\u001b[0m \u001b[0mself\u001b[0m\u001b[0;34m.\u001b[0m\u001b[0mframe\u001b[0m\u001b[0;34m(\u001b[0m\u001b[0;34m)\u001b[0m\u001b[0;34m\u001b[0m\u001b[0;34m\u001b[0m\u001b[0m\n\u001b[0m\u001b[1;32m    407\u001b[0m \u001b[0;34m\u001b[0m\u001b[0m\n\u001b[1;32m    408\u001b[0m         \u001b[0;32mif\u001b[0m \u001b[0mframe\u001b[0m\u001b[0;34m:\u001b[0m\u001b[0;34m\u001b[0m\u001b[0;34m\u001b[0m\u001b[0m\n",
      "\u001b[0;32m/vol/cursus/ObsAstro/miniconda3/lib/python3.9/site-packages/imexam/ds9_viewer.py\u001b[0m in \u001b[0;36mframe\u001b[0;34m(self, n)\u001b[0m\n\u001b[1;32m    964\u001b[0m \u001b[0;34m\u001b[0m\u001b[0m\n\u001b[1;32m    965\u001b[0m         \"\"\"\n\u001b[0;32m--> 966\u001b[0;31m         \u001b[0mframe\u001b[0m \u001b[0;34m=\u001b[0m \u001b[0mself\u001b[0m\u001b[0;34m.\u001b[0m\u001b[0mget\u001b[0m\u001b[0;34m(\u001b[0m\u001b[0;34m\"frame\"\u001b[0m\u001b[0;34m)\u001b[0m\u001b[0;34m.\u001b[0m\u001b[0mstrip\u001b[0m\u001b[0;34m(\u001b[0m\u001b[0;34m)\u001b[0m  \u001b[0;31m# xpa returns '\\n' for no frame\u001b[0m\u001b[0;34m\u001b[0m\u001b[0;34m\u001b[0m\u001b[0m\n\u001b[0m\u001b[1;32m    967\u001b[0m \u001b[0;34m\u001b[0m\u001b[0m\n\u001b[1;32m    968\u001b[0m         \u001b[0;32mif\u001b[0m \u001b[0mframe\u001b[0m\u001b[0;34m:\u001b[0m\u001b[0;34m\u001b[0m\u001b[0;34m\u001b[0m\u001b[0m\n",
      "\u001b[0;32m/vol/cursus/ObsAstro/miniconda3/lib/python3.9/site-packages/imexam/ds9_viewer.py\u001b[0m in \u001b[0;36mget\u001b[0;34m(self, param)\u001b[0m\n\u001b[1;32m    682\u001b[0m         \"\"\"\n\u001b[1;32m    683\u001b[0m         \u001b[0mself\u001b[0m\u001b[0;34m.\u001b[0m\u001b[0m_check_ds9_process\u001b[0m\u001b[0;34m(\u001b[0m\u001b[0;34m)\u001b[0m\u001b[0;34m\u001b[0m\u001b[0;34m\u001b[0m\u001b[0m\n\u001b[0;32m--> 684\u001b[0;31m         \u001b[0;32mreturn\u001b[0m \u001b[0mself\u001b[0m\u001b[0;34m.\u001b[0m\u001b[0mxpa\u001b[0m\u001b[0;34m.\u001b[0m\u001b[0mget\u001b[0m\u001b[0;34m(\u001b[0m\u001b[0mparam\u001b[0m\u001b[0;34m)\u001b[0m\u001b[0;34m\u001b[0m\u001b[0;34m\u001b[0m\u001b[0m\n\u001b[0m\u001b[1;32m    685\u001b[0m \u001b[0;34m\u001b[0m\u001b[0m\n\u001b[1;32m    686\u001b[0m     \u001b[0;32mdef\u001b[0m \u001b[0mreadcursor\u001b[0m\u001b[0;34m(\u001b[0m\u001b[0mself\u001b[0m\u001b[0;34m)\u001b[0m\u001b[0;34m:\u001b[0m\u001b[0;34m\u001b[0m\u001b[0;34m\u001b[0m\u001b[0m\n",
      "\u001b[0;32m/vol/cursus/ObsAstro/miniconda3/lib/python3.9/site-packages/imexam/xpa_wrap.py\u001b[0m in \u001b[0;36mget\u001b[0;34m(self, param)\u001b[0m\n\u001b[1;32m     12\u001b[0m     \u001b[0;32mdef\u001b[0m \u001b[0mget\u001b[0m\u001b[0;34m(\u001b[0m\u001b[0mself\u001b[0m\u001b[0;34m,\u001b[0m \u001b[0mparam\u001b[0m\u001b[0;34m=\u001b[0m\u001b[0;34m\"\"\u001b[0m\u001b[0;34m)\u001b[0m\u001b[0;34m:\u001b[0m\u001b[0;34m\u001b[0m\u001b[0;34m\u001b[0m\u001b[0m\n\u001b[1;32m     13\u001b[0m         \u001b[0;34m\"\"\"Get information from the xpa.\"\"\"\u001b[0m\u001b[0;34m\u001b[0m\u001b[0;34m\u001b[0m\u001b[0m\n\u001b[0;32m---> 14\u001b[0;31m         \u001b[0;32mreturn\u001b[0m \u001b[0msuper\u001b[0m\u001b[0;34m(\u001b[0m\u001b[0mXPA\u001b[0m\u001b[0;34m,\u001b[0m \u001b[0mself\u001b[0m\u001b[0;34m)\u001b[0m\u001b[0;34m.\u001b[0m\u001b[0mget\u001b[0m\u001b[0;34m(\u001b[0m\u001b[0mparam\u001b[0m\u001b[0;34m.\u001b[0m\u001b[0mencode\u001b[0m\u001b[0;34m(\u001b[0m\u001b[0;34m'utf-8'\u001b[0m\u001b[0;34m,\u001b[0m \u001b[0;34m'strict'\u001b[0m\u001b[0;34m)\u001b[0m\u001b[0;34m)\u001b[0m\u001b[0;34m.\u001b[0m\u001b[0mdecode\u001b[0m\u001b[0;34m(\u001b[0m\u001b[0;34m)\u001b[0m\u001b[0;34m\u001b[0m\u001b[0;34m\u001b[0m\u001b[0m\n\u001b[0m\u001b[1;32m     15\u001b[0m \u001b[0;34m\u001b[0m\u001b[0m\n\u001b[1;32m     16\u001b[0m     \u001b[0;32mdef\u001b[0m \u001b[0mset\u001b[0m\u001b[0;34m(\u001b[0m\u001b[0mself\u001b[0m\u001b[0;34m,\u001b[0m \u001b[0mparam\u001b[0m\u001b[0;34m=\u001b[0m\u001b[0;34m\"\"\u001b[0m\u001b[0;34m,\u001b[0m \u001b[0mbuf\u001b[0m\u001b[0;34m=\u001b[0m\u001b[0;32mNone\u001b[0m\u001b[0;34m)\u001b[0m\u001b[0;34m:\u001b[0m\u001b[0;34m\u001b[0m\u001b[0;34m\u001b[0m\u001b[0m\n",
      "\u001b[0;32mwrappers/xpa.pyx\u001b[0m in \u001b[0;36mimexam.imexamxpa.xpa.get\u001b[0;34m()\u001b[0m\n",
      "\u001b[0;32mwrappers/xpa.pyx\u001b[0m in \u001b[0;36mimexam.imexamxpa._get\u001b[0;34m()\u001b[0m\n",
      "\u001b[0;31mXpaException\u001b[0m: Unknown XPA Error : XPAGet returned 0!"
     ]
    }
   ],
   "source": [
    "viewer.imexam()"
   ]
  },
  {
   "cell_type": "markdown",
   "metadata": {},
   "source": [
    "One example of a well isolated star is star 613-116755. With imexam, we find this star to be located at xc=1195.362588\tyc=872.616595. In the URAT1 catalogue, this star has V = $12.886\\pm0.020$ and r′ = $12.826\\pm0.034$. We can now look up the instrumental coordinates of this star in the sextractor catalogues and from the difference determine the zero-point (see discussion in the OA notes). "
   ]
  },
  {
   "cell_type": "markdown",
   "metadata": {},
   "source": [
    "# Hand-in:\n",
    "\n",
    "- Table with the standard (URAT1) and instrumental magnitudes for at least five stars. (25/100 pts). Perhaps the easiest way is to just add the sextractor magnitudes as extra columns to the URAT1 catalogue for the selected stars: \n",
    "\n",
    "- Photometric zero-points in each filter as an average over all of the standard stars. (25/100 pts)\n",
    "- Is the scatter on the individual estimates of the zero-points consistent with the uncertainties? (25/100 pts)\n",
    "- Use the zero-points to calibrate your photometry. Make a plot of the CMD, now using the standard magnitudes. (25/100 pts)"
   ]
  },
  {
   "cell_type": "code",
   "execution_count": 16,
   "metadata": {},
   "outputs": [
    {
     "name": "stdout",
     "output_type": "stream",
     "text": [
      "(83.1000222, 33.1200978, '621-108878')\n",
      "(83.101088, 33.1271517, '621-108887')\n",
      "(83.1011672, 33.1234069, '621-108889')\n",
      "(83.1031857, 33.1277156, '621-108905')\n",
      "(83.1036156, 33.1303681, '621-108910')\n",
      "(83.0644553, 33.1343944, '621-108665')\n",
      "(83.0691967, 33.1194286, '621-108691')\n",
      "(83.0695244, 33.1240978, '621-108695')\n",
      "(83.0723892, 33.1195661, '621-108708')\n",
      "(83.0735494, 33.1280789, '621-108714')\n",
      "(83.0756063, 33.1238147, '621-108728')\n",
      "(83.0784343, 33.1224467, '621-108740')\n",
      "(83.0811791, 33.1243325, '621-108751')\n",
      "(83.0839812, 33.1198508, '621-108764')\n",
      "(83.0745206, 33.1376583, '621-108720')\n",
      "(83.0797019, 33.1332022, '621-108744')\n",
      "(83.0832217, 33.12945, '621-108759')\n",
      "(83.0838203, 33.1335306, '621-108763')\n",
      "(83.0847524, 33.1475728, '621-108768')\n",
      "(83.0862625, 33.1412933, '621-108775')\n",
      "(83.0864922, 33.1433983, '621-108777')\n",
      "(83.0870581, 33.150585, '621-108778')\n",
      "(83.0874819, 33.1358167, '621-108781')\n",
      "(83.0878575, 33.1210119, '621-108783')\n",
      "(83.0885261, 33.1184303, '621-108788')\n",
      "(83.0885772, 33.1506056, '621-108789')\n",
      "(83.0896686, 33.1291033, '621-108795')\n",
      "(83.0904036, 33.1395981, '621-108799')\n",
      "(83.0913944, 33.1233075, '621-108809')\n",
      "(83.0914161, 33.1355794, '621-108810')\n",
      "(83.0917753, 33.14485, '621-108812')\n",
      "(83.0918856, 33.1313186, '621-108814')\n",
      "(83.0922483, 33.1204647, '621-108817')\n",
      "(83.0931547, 33.1347014, '621-108821')\n",
      "(83.0935192, 33.1443619, '621-108824')\n",
      "(83.0943381, 33.1427764, '621-108829')\n",
      "(83.0944155, 33.1338131, '621-108831')\n",
      "(83.0948617, 33.1457297, '621-108833')\n",
      "(83.0967697, 33.1454206, '621-108850')\n",
      "(83.0986031, 33.1299744, '621-108862')\n",
      "(83.0988442, 33.1323264, '621-108866')\n",
      "(83.101337, 33.1339086, '621-108890')\n",
      "(83.1018367, 33.1411489, '621-108894')\n",
      "(83.0658361, 33.143485, '621-108675')\n",
      "(83.0695306, 33.1505636, '621-108696')\n",
      "(83.0719428, 33.1505836, '621-108704')\n",
      "(83.1017883, 33.1502072, '621-108892')\n",
      "(83.1023242, 33.1484856, '621-108897')\n"
     ]
    }
   ],
   "source": [
    "import astropy.io.ascii as asc\n",
    "import numpy as np\n",
    "# Read the data\n",
    "Vdata = asc.read('V.cat')\n",
    "rdata = asc.read('r.cat')\n",
    "\n",
    "def match_star_magnitudes(urat_name):\n",
    "    \"\"\"This function matches a star in the catalogue generated by sourceextractor to the urat catalogue by comparing the distance between the coordinates between the two\"\"\"\n",
    "\n",
    "    \n",
    "    for element in pcoo:\n",
    "        if element[2] == urat_name:\n",
    "            star_urat = element\n",
    "            break\n",
    "    print(element)\n",
    "    star_Vdata = None\n",
    "    for star in Vdata:\n",
    "        if np.linalg.norm(np.array(star[1], star[2]) - np.array(star_urat[0], star_urat[1])) < 1:\n",
    "            print(\"Matched\")\n",
    "            star_Vdata = star\n",
    "            star_rdata = rdata[star_Vdata[0]-1]\n",
    "            break\n",
    "    if star_Vdata == None:\n",
    "        return []\n",
    "    return urat_name, star_Vdata[5], star_Vdata[6], star_rdata[5], star_rdata[6]\n",
    "    \n",
    "urat = []\n",
    "urat_with_instrumental_magnitudes = []\n",
    "with open(uratcat) as f:\n",
    "    for line in f:\n",
    "        lsplit = line.split()\n",
    "        urat.append(lsplit)\n",
    "        \n",
    "for star in urat:\n",
    "    matched = match_star_magnitudes(star[0])\n",
    "    if matched == [] or matched[2] > 0.01 or matched[4] > 0.01:\n",
    "        continue\n",
    "    new_star = star\n",
    "    for data in matched[1:]:\n",
    "        new_star.append(str(data))\n",
    "    urat_with_instrumental_magnitudes.append(new_star)\n",
    "    \n",
    "\n",
    "    "
   ]
  },
  {
   "cell_type": "code",
   "execution_count": 14,
   "metadata": {},
   "outputs": [
    {
     "name": "stdout",
     "output_type": "stream",
     "text": [
      "[]\n"
     ]
    },
    {
     "ename": "ValueError",
     "evalue": "Sample larger than population or is negative",
     "output_type": "error",
     "traceback": [
      "\u001b[0;31m---------------------------------------------------------------------------\u001b[0m",
      "\u001b[0;31mValueError\u001b[0m                                Traceback (most recent call last)",
      "Cell \u001b[0;32mIn[14], line 7\u001b[0m\n\u001b[1;32m      4\u001b[0m r_offsets \u001b[38;5;241m=\u001b[39m []\n\u001b[1;32m      6\u001b[0m \u001b[38;5;28mprint\u001b[39m(urat_with_instrumental_magnitudes)\n\u001b[0;32m----> 7\u001b[0m stars \u001b[38;5;241m=\u001b[39m \u001b[43mrandom\u001b[49m\u001b[38;5;241;43m.\u001b[39;49m\u001b[43msample\u001b[49m\u001b[43m(\u001b[49m\u001b[43murat_with_instrumental_magnitudes\u001b[49m\u001b[43m,\u001b[49m\u001b[43m \u001b[49m\u001b[38;5;241;43m5\u001b[39;49m\u001b[43m)\u001b[49m\n\u001b[1;32m      8\u001b[0m stars \u001b[38;5;241m=\u001b[39m urat_with_instrumental_magnitudes\n\u001b[1;32m     11\u001b[0m \u001b[38;5;28;01mfor\u001b[39;00m star \u001b[38;5;129;01min\u001b[39;00m stars:\n",
      "File \u001b[0;32m/usr/lib/python3.10/random.py:482\u001b[0m, in \u001b[0;36mRandom.sample\u001b[0;34m(self, population, k, counts)\u001b[0m\n\u001b[1;32m    480\u001b[0m randbelow \u001b[38;5;241m=\u001b[39m \u001b[38;5;28mself\u001b[39m\u001b[38;5;241m.\u001b[39m_randbelow\n\u001b[1;32m    481\u001b[0m \u001b[38;5;28;01mif\u001b[39;00m \u001b[38;5;129;01mnot\u001b[39;00m \u001b[38;5;241m0\u001b[39m \u001b[38;5;241m<\u001b[39m\u001b[38;5;241m=\u001b[39m k \u001b[38;5;241m<\u001b[39m\u001b[38;5;241m=\u001b[39m n:\n\u001b[0;32m--> 482\u001b[0m     \u001b[38;5;28;01mraise\u001b[39;00m \u001b[38;5;167;01mValueError\u001b[39;00m(\u001b[38;5;124m\"\u001b[39m\u001b[38;5;124mSample larger than population or is negative\u001b[39m\u001b[38;5;124m\"\u001b[39m)\n\u001b[1;32m    483\u001b[0m result \u001b[38;5;241m=\u001b[39m [\u001b[38;5;28;01mNone\u001b[39;00m] \u001b[38;5;241m*\u001b[39m k\n\u001b[1;32m    484\u001b[0m setsize \u001b[38;5;241m=\u001b[39m \u001b[38;5;241m21\u001b[39m        \u001b[38;5;66;03m# size of a small set minus size of an empty list\u001b[39;00m\n",
      "\u001b[0;31mValueError\u001b[0m: Sample larger than population or is negative"
     ]
    }
   ],
   "source": [
    "import random\n",
    "\n",
    "V_offsets = []\n",
    "r_offsets = []\n",
    "\n",
    "print(urat_with_instrumental_magnitudes)\n",
    "stars = random.sample(urat_with_instrumental_magnitudes, 5)\n",
    "stars = urat_with_instrumental_magnitudes\n",
    "\n",
    "\n",
    "for star in stars:\n",
    "    V_offsets.append(float(star[3])-float(star[7]))\n",
    "    r_offsets.append(float(star[5])-float(star[9]))\n",
    "\n",
    "\n",
    "V_offsets = np.array(V_offsets)\n",
    "r_offsets = np.array(r_offsets)\n",
    "V_offset = np.mean(V_offsets)\n",
    "r_offset = np.mean(r_offsets)\n",
    "\n",
    "\n",
    "print(\"V offset:\", V_offset)\n",
    "print(\"r offset:\", r_offset)"
   ]
  },
  {
   "cell_type": "code",
   "execution_count": 39,
   "metadata": {
    "scrolled": true
   },
   "outputs": [
    {
     "name": "stdout",
     "output_type": "stream",
     "text": [
      "Urat Name         RA      Dec    Urat V    Urat Verr    Urat r    Urat rerr         V    Verr         r    rerr\n",
      "-----------  -------  -------  --------  -----------  --------  -----------  --------  ------  --------  ------\n",
      "613-117782   88.169   32.4515    12.619        0.014    12.548        0.027   -9.3326  0.0076  -10.0553  0.0048\n",
      "613-117492   88.1293  32.4496    11.186        0.012    11.125        0.038  -12.0991  0.0012  -12.5236  0.001\n",
      "613-117307   88.1031  32.4582    12.732        0.005    12.671        0.035  -10.6398  0.0029  -11.0614  0.0024\n",
      "613-117549   88.1383  32.4621    10.983        0.007    10.56         0.052  -12.3462  0.0011  -13.1551  0.0007\n",
      "613-117609   88.1455  32.476     12.903        0.006    12.806        0.039  -10.4122  0.0034  -10.844   0.0027\n",
      "613-117591   88.1425  32.5064    12.799        0.026    12.682        0.005  -10.3757  0.0035  -10.8055  0.0028\n",
      "613-117722   88.16    32.5223    12.866        0.02     12.804        0.029  -12.2439  0.0011  -12.6401  0.0009\n",
      "613-116631   88.0226  32.4755    10.903        0.008    10.4          0.052  -12.607   0.0009  -13.4682  0.0006\n",
      "613-116655   88.0252  32.4693    11.191        0.012    11.14         0.041  -12.2637  0.0011  -12.655   0.0009\n",
      "613-116158   87.952   32.4598    12.627        0.006    12.017        0.027   -9.181   0.0086   -9.7205  0.0062\n",
      "613-116296   87.974   32.4687    12.394        0.013    12.33         0.037  -11.0306  0.0023  -11.4499  0.0018\n",
      "613-116136   87.949   32.4867    11.356        0.014    11.311        0.035  -11.9713  0.0013  -12.3395  0.0011\n",
      "613-116287   87.9727  32.5182    12.979        0.027    12.872        0.016   -9.8183  0.0052  -10.2732  0.0041\n",
      "613-116909   88.0532  32.4695    12.383        0.005    12.309        0.035  -10.2514  0.0038  -10.7066  0.003\n",
      "613-117019   88.0688  32.4579    12.382        0.061    12.281        0.035  -11.1033  0.0022  -11.5297  0.0018\n",
      "613-117057   88.073   32.4632    11.826        0.009    11.744        0.027  -11.6064  0.0016  -12.0512  0.0013\n",
      "613-117284   88.1006  32.4789    10.912        0.028    10.73         0.046  -12.5171  0.001   -13.0737  0.0008\n",
      "613-116778   88.0375  32.4908    12.468        0.014    12.398        0.024  -11.0856  0.0022  -11.5013  0.0018\n",
      "613-116832   88.0453  32.4934    12.725        0.008    12.643        0.027  -10.6371  0.0029  -11.0373  0.0024\n",
      "613-116861   88.0486  32.4765    12.455        0.012    12.389        0.045   -9.5075  0.0066   -9.9941  0.005\n",
      "613-116978   88.0629  32.5092    11.828        0.01     11.782        0.03   -11.7438  0.0015  -12.1391  0.0012\n",
      "613-116995   88.0654  32.5181    11.798        0.017    11.72         0.042  -11.5166  0.0017  -11.9164  0.0014\n",
      "613-117029   88.0694  32.5276    11.454        0.001    11.034        0.04   -12.1044  0.0012  -12.876   0.0008\n",
      "613-117420   88.1188  32.5251    11.922        0.014    11.864        0.016  -11.402   0.0018  -11.8006  0.0015\n",
      "613-117470   88.1268  32.5325    11.465        0.008    11.415        0.021  -12.0525  0.0013  -12.4594  0.001\n",
      "613-117597   88.1433  32.5382    12.463        0.011    12.351        0.041  -10.9598  0.0024  -11.3992  0.0019\n",
      "613-117134   88.0825  32.5308    11.837        0.013    11.805        0.037  -11.711   0.0015  -12.0832  0.0013\n",
      "613-117217   88.0922  32.5285    11.126        0.018    11.008        0.019  -12.0031  0.0013  -12.4816  0.001\n",
      "613-117282   88.1003  32.5559    12.236        0.012    12.135        0.026  -11.3507  0.0019  -11.7978  0.0015\n",
      "613-117411   88.1181  32.5637    11.064        0.005    10.827        0.052  -12.0374  0.0013  -12.5925  0.001\n",
      "613-116542   88.0095  32.5122    10.289        0.011     9.914        0.001  -13.3126  0.0007  -14.1489  0.0004\n",
      "613-116632   88.0227  32.517     12.804        0.021    12.694        0.032  -10.613   0.003   -11.0333  0.0024\n",
      "613-116740   88.0337  32.5092    11.055        0.006    10.647        0.055  -12.5501  0.001   -13.3393  0.0007\n",
      "613-116752   88.0352  32.5326    11.733        0.013    11.641        0.039  -10.2866  0.0037  -10.7033  0.003\n",
      "613-116781   88.038   32.5443    11.544        0.001    11.141        0.018   -9.7868  0.0054  -10.1065  0.0046\n",
      "613-116977   88.0629  32.528     11.021        0.006    10.63         0.056  -12.1044  0.0012  -12.876   0.0008\n",
      "613-116501   88.0043  32.5288    11.354        0.014    11.306        0.034  -12.2439  0.0011  -12.6401  0.0009\n",
      "613-116556   88.0109  32.55      12.118        0.012    12.038        0.035  -11.5341  0.0017  -11.9678  0.0014\n",
      "613-117039   88.071   32.5402    12.128        0.036    12.08         0.014  -11.1427  0.0021  -11.5256  0.0018\n",
      "613-117048   88.0719  32.549     11.153        0.036    10.835        0.003  -12.3892  0.0011  -13.1548  0.0007\n",
      "613-117106   88.0785  32.5528     9.197        0.001     8.637        0.001  -10.1239  0.0042  -10.553   0.0033\n",
      "613-117149   88.0846  32.5637    11.392        0.009    10.967        0.023  -12.2006  0.0012  -12.9677  0.0008\n",
      "613-117151   88.0851  32.5843    10.699        0.019    10.616        0.059  -12.9111  0.0008  -13.3658  0.0007\n",
      "613-117170   88.0872  32.5577    11.635        0.006    11.229        0.025  -10.076   0.0043  -10.456   0.0036\n",
      "613-117277   88.0999  32.5825    11.694        0.008    11.625        0.037  -11.8241  0.0014  -12.2199  0.0012\n",
      "613-116755   88.0353  32.5849    12.886        0.02     12.826        0.034  -10.7661  0.0027  -11.1826  0.0022\n",
      "613-116214   87.9603  32.5316    10.897        0.005    10.591        0.051  -12.3847  0.0011  -13.089   0.0007\n",
      "613-116534   88.009   32.5621    12.909        0.008    12.829        0.019  -10.6252  0.003   -11.0438  0.0024\n",
      "613-116225   87.9621  32.5646    12.261        0.018    12.194        0.041  -10.7379  0.0027  -11.1455  0.0022\n",
      "614-116533   88.0394  32.6073    11.928        0.025    11.897        0.035  -11.7861  0.0015  -12.1636  0.0012\n",
      "613-115996   87.9304  32.5828    11.935        0.011    11.877        0.032  -12.8661  0.0008  -13.2927  0.0007\n",
      "614-116014   87.9478  32.6052    11.326        0.013    11.28         0.035   -9.9297  0.0048  -10.4228  0.0036\n",
      "613-117960   88.194   32.5687    10.197        0.023     9.743        0.001  -11.8682  0.0014  -12.2926  0.0011\n",
      "613-117993   88.1992  32.5499     9.923        0.001     9.799        0.001  -10.7152  0.0028  -11.1426  0.0022\n",
      "613-117578   88.1415  32.5478    11.758        0.008    11.7          0.037  -11.7109  0.0015  -12.1213  0.0012\n",
      "613-117476   88.1278  32.5779    11.739        0.001    11.674        0.006  -11.6776  0.0016  -12.0687  0.0013\n",
      "613-117554   88.1387  32.5826    11.67         0.005    11.613        0.033  -11.8161  0.0014  -12.2274  0.0012\n",
      "613-117555   88.1389  32.5706    12.358        0.017    12.197        0.046  -10.0566  0.0044  -10.5017  0.0034\n",
      "613-117263   88.0977  32.5896    12.388        0.044    12.306        0.064  -11.2759  0.002   -11.6823  0.0016\n",
      "613-117297   88.1017  32.5948    12.027        0.016    11.951        0.031  -11.5567  0.0017  -11.9837  0.0013\n",
      "613-117428   88.12    32.5991    12.257        0.012    12.167        0.045  -11.2749  0.002   -11.7153  0.0016\n",
      "614-117111   88.1385  32.6167    12.582        0.011    12.554        0.027  -10.8334  0.0026  -11.2166  0.0021\n",
      "614-116986   88.1197  32.6512    12.241        0.01     12.177        0.026  -11.1746  0.0021  -11.5767  0.0017\n",
      "614-117284   88.168   32.6585    12.491        0.016    12.45         0.033   -9.0337  0.0097   -9.6083  0.0067\n",
      "614-117083   88.1334  32.6482    11.673        0.011    11.61         0.032  -10.3247  0.0036  -10.7441  0.0029\n"
     ]
    }
   ],
   "source": [
    "from tabulate import tabulate\n",
    "\n",
    "print(tabulate(stars, headers=[\"Urat Name\", \"RA\", \"Dec\", \"Urat V\", \"Urat Verr\", \"Urat r\", \"Urat rerr\", \"V\", \"Verr\", \"r\", \"rerr\"]))\n"
   ]
  },
  {
   "cell_type": "code",
   "execution_count": 40,
   "metadata": {},
   "outputs": [
    {
     "name": "stdout",
     "output_type": "stream",
     "text": [
      "749\n"
     ]
    },
    {
     "data": {
      "text/plain": [
       "Text(0, 0.5, 'V')"
      ]
     },
     "execution_count": 40,
     "metadata": {},
     "output_type": "execute_result"
    },
    {
     "data": {
      "image/png": "[encoded data removed]",
      "text/plain": [
       "<Figure size 432x288 with 1 Axes>"
      ]
     },
     "metadata": {
      "needs_background": "light"
     },
     "output_type": "display_data"
    }
   ],
   "source": [
    "import matplotlib.pyplot as plt\n",
    "\n",
    "Vdata = asc.read('V.cat')\n",
    "rdata = asc.read('r.cat')\n",
    "print(len(Vdata))\n",
    "\n",
    "for i in range(len(Vdata)): # Add the zero point value to the source extractor data\n",
    "    Vdata[i][\"MAG_APER\"] += V_offset\n",
    "    rdata[i][\"MAG_APER\"] += r_offset\n",
    "\n",
    "# Now make the plot. Set the x- and y limits, add labels to the axes\n",
    "V_r = []\n",
    "V = []\n",
    "for i in range(len(Vdata)):\n",
    "    if Vdata[i][\"MAGERR_APER\"] > 1 or rdata[i][\"MAGERR_APER\"] > 1:\n",
    "        continue # I had quite a lot of really inaccurate data, this gets rid of it\n",
    "    V_r.append(Vdata[i][\"MAG_APER\"]-rdata[i][\"MAG_APER\"])\n",
    "    V.append(Vdata[i][\"MAG_APER\"])\n",
    "\n",
    "plt.plot(V_r, V, \"k.\")\n",
    "plt.xlim(-1, 2)\n",
    "plt.ylim(20, 9)\n",
    "plt.xlabel(\"V-r\")\n",
    "plt.ylabel(\"V\")"
   ]
  },
  {
   "cell_type": "markdown",
   "metadata": {},
   "source": [
    "Your comments on the uncertainty of the calibration:"
   ]
  },
  {
   "cell_type": "code",
   "execution_count": 41,
   "metadata": {},
   "outputs": [],
   "source": [
    "import pickle\n",
    "data = [V_r, V]\n",
    "with open(\"M37.pickle\", 'wb') as file:\n",
    "    pickle.dump(data, file)"
   ]
  },
  {
   "cell_type": "code",
   "execution_count": 42,
   "metadata": {},
   "outputs": [
    {
     "name": "stdout",
     "output_type": "stream",
     "text": [
      "V errors: ----------------------------------------------\n",
      "Correlation between zero point error and sextractor error [0.14209838]\n",
      "Correlation between zero point error and urat error [-0.07184646]\n",
      "r errors: ----------------------------------------------\n",
      "Correlation between zero point error and sextractor error [0.1555299]\n",
      "Correlation between zero point error and urat error [-0.07405771]\n"
     ]
    }
   ],
   "source": [
    "print(\"V errors: ----------------------------------------------\")\n",
    "V_offsets_error = V_offsets-V_offset\n",
    "V_offsets_sextractor_errors = []\n",
    "V_offsets_urat_errors = []\n",
    "for i in range(len(stars)):\n",
    "    V_offsets_sextractor_errors.append(stars[i][4])\n",
    "    V_offsets_urat_errors.append(stars[i][8])\n",
    "V_offsets_sextractor_errors = np.array(V_offsets_sextractor_errors, dtype=float)\n",
    "V_offsets_urat_errors = np.array(V_offsets_urat_errors, dtype=float)\n",
    "\n",
    "\n",
    "print(\"Correlation between zero point error and sextractor error\", np.correlate(V_offsets_error, V_offsets_sextractor_errors))\n",
    "print(\"Correlation between zero point error and urat error\", np.correlate(V_offsets_error, V_offsets_urat_errors))\n",
    "\n",
    "\n",
    "print(\"r errors: ----------------------------------------------\")\n",
    "\n",
    "r_offsets_error = r_offsets-r_offset\n",
    "r_offsets_sextractor_errors = []\n",
    "r_offsets_urat_errors = []\n",
    "for i in range(len(stars)):\n",
    "    r_offsets_sextractor_errors.append(stars[i][4])\n",
    "    r_offsets_urat_errors.append(stars[i][8])\n",
    "r_offsets_sextractor_errors = np.array(r_offsets_sextractor_errors, dtype=float)\n",
    "r_offsets_urat_errors = np.array(r_offsets_urat_errors, dtype=float)\n",
    "\n",
    "print(\"Correlation between zero point error and sextractor error\", np.correlate(r_offsets_error, r_offsets_sextractor_errors))\n",
    "print(\"Correlation between zero point error and urat error\", np.correlate(r_offsets_error, r_offsets_urat_errors))\n"
   ]
  },
  {
   "cell_type": "markdown",
   "metadata": {},
   "source": [
    "The error from the mean zero point is quite unrelated to the errors of the measurements by sourceextractor and urat, this means that the errors from measurement from urat didn't have much impact on the total error"
   ]
  },
  {
   "cell_type": "code",
   "execution_count": null,
   "metadata": {},
   "outputs": [],
   "source": [
    "pip install tabulate"
   ]
  },
  {
   "cell_type": "code",
   "execution_count": null,
   "metadata": {},
   "outputs": [],
   "source": []
  },
  {
   "cell_type": "code",
   "execution_count": null,
   "metadata": {},
   "outputs": [],
   "source": []
  },
  {
   "cell_type": "code",
   "execution_count": null,
   "metadata": {},
   "outputs": [],
   "source": []
  },
  {
   "cell_type": "code",
   "execution_count": null,
   "metadata": {},
   "outputs": [],
   "source": []
  }
 ],
 "metadata": {
  "kernelspec": {
   "display_name": "Python 3 (ipykernel)",
   "language": "python",
   "name": "python3"
  },
  "language_info": {
   "codemirror_mode": {
    "name": "ipython",
    "version": 3
   },
   "file_extension": ".py",
   "mimetype": "text/x-python",
   "name": "python",
   "nbconvert_exporter": "python",
   "pygments_lexer": "ipython3",
   "version": "3.10.10"
  }
 },
 "nbformat": 4,
 "nbformat_minor": 2
}
