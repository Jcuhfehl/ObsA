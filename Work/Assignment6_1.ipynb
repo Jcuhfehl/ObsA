{
 "cells": [
  {
   "cell_type": "markdown",
   "metadata": {},
   "source": [
    "# Photometry with SourceExtractor"
   ]
  },
  {
   "cell_type": "markdown",
   "metadata": {},
   "source": [
    "- For the first part of the exercise, use sextractor to carry out photometry on the combined Johnson V and Sloan r images. Details are found in the Observational Astronomy notes."
   ]
  },
  {
   "cell_type": "markdown",
   "metadata": {},
   "source": [
    "Assuming that photometry is available for the two images, we are now ready to examine it and make a colour-magnitude diagram of the instrumental magnitudes.\n",
    "\n",
    "Output from sextractor (and many other codes) can be read with the astropy.io.ascii package. For a sextractor catalogue called 'V.cat', this works as follows:"
   ]
  },
  {
   "cell_type": "code",
   "execution_count": 24,
   "metadata": {},
   "outputs": [
    {
     "name": "stdout",
     "output_type": "stream",
     "text": [
      "GAIN parameter should be 13.600000000000001\n"
     ]
    }
   ],
   "source": [
    "#Getting the gain for the sextractor config file.\n",
    "from astropy.io import fits\n",
    "data, hdr = fits.getdata(\"science1Vf.fits\", header=True)\n",
    "print(\"GAIN parameter should be {}\".format(hdr[\"EGAIN\"]*10))"
   ]
  },
  {
   "cell_type": "code",
   "execution_count": 25,
   "metadata": {},
   "outputs": [
    {
     "name": "stderr",
     "output_type": "stream",
     "text": [
      "\u001b[1M> \n",
      "\u001b[1A----- SExtractor 2.19.5 started on 2023-03-15 at 12:41:03 with 1 thread\n",
      "\n",
      "\u001b[1M> Setting catalog parameters\n",
      "\u001b[1A\u001b[1M> Initializing check-image(s)\n",
      "\u001b[1A\u001b[1M> Initializing catalog\n",
      "\u001b[1A\u001b[1M> Looking for Vfinal.fits\n",
      "\u001b[1A----- Measuring from: Vfinal.fits\n",
      "      \"Unnamed\" / no ext. header / 2184x1472 / 64 bits (floats)\n",
      "Detection+Measurement image: \u001b[1M> Setting up background maps\n",
      "\u001b[1A\u001b[1M> Setting up background map at line:  100\n",
      "\u001b[1A\u001b[1M> Setting up background map at line:  200\n",
      "\u001b[1A\u001b[1M> Setting up background map at line:  300\n",
      "\u001b[1A\u001b[1M> Setting up background map at line:  400\n",
      "\u001b[1A\u001b[1M> Setting up background map at line:  500\n",
      "\u001b[1A\u001b[1M> Setting up background map at line:  600\n",
      "\u001b[1A\u001b[1M> Setting up background map at line:  700\n",
      "\u001b[1A\u001b[1M> Setting up background map at line:  800\n",
      "\u001b[1A\u001b[1M> Setting up background map at line:  900\n",
      "\u001b[1A\u001b[1M> Setting up background map at line: 1000\n",
      "\u001b[1A\u001b[1M> Setting up background map at line: 1100\n",
      "\u001b[1A\u001b[1M> Setting up background map at line: 1200\n",
      "\u001b[1A\u001b[1M> Setting up background map at line: 1300\n",
      "\u001b[1A\u001b[1M> Setting up background map at line: 1400\n",
      "\u001b[1A\u001b[1M> Filtering background map(s)\n",
      "\u001b[1A\u001b[1M> Computing background d-map\n",
      "\u001b[1A\u001b[1M> Computing background-noise d-map\n",
      "\u001b[1A(M+D) Background: 47.941     RMS: 3.89221    / Threshold: 7.78442    \n",
      "\u001b[1M> Scanning image\n",
      "\u001b[1A\u001b[1M> Line:   25  Objects:       28 detected /        0 sextracted\n",
      "\u001b[1A\u001b[1M> Line:   50  Objects:       65 detected /        0 sextracted\n",
      "\u001b[1A\u001b[1M> Line:   75  Objects:      101 detected /        0 sextracted\n",
      "\u001b[1A\u001b[1M> Line:  100  Objects:      138 detected /        0 sextracted\n",
      "\u001b[1A\u001b[1M> Line:  125  Objects:      164 detected /        0 sextracted\n",
      "\u001b[1A\u001b[1M> Line:  150  Objects:      192 detected /        0 sextracted\n",
      "\u001b[1A\u001b[1M> Line:  175  Objects:      213 detected /        0 sextracted\n",
      "\u001b[1A\u001b[1M> Line:  200  Objects:      228 detected /        0 sextracted\n",
      "\u001b[1A\u001b[1M> Line:  225  Objects:      262 detected /        0 sextracted\n",
      "\u001b[1A\u001b[1M> Line:  250  Objects:      281 detected /        0 sextracted\n",
      "\u001b[1A\u001b[1M> Line:  275  Objects:      301 detected /        0 sextracted\n",
      "\u001b[1A\u001b[1M> Line:  300  Objects:      310 detected /        0 sextracted\n",
      "\u001b[1A\u001b[1M> Line:  325  Objects:      340 detected /        0 sextracted\n",
      "\u001b[1A\u001b[1M> Line:  350  Objects:      370 detected /        0 sextracted\n",
      "\u001b[1A\u001b[1M> Line:  375  Objects:      378 detected /        0 sextracted\n",
      "\u001b[1A\u001b[1M> Line:  400  Objects:      401 detected /        0 sextracted\n",
      "\u001b[1A\u001b[1M> Line:  425  Objects:      419 detected /        0 sextracted\n",
      "\u001b[1A\u001b[1M> Line:  450  Objects:      438 detected /        0 sextracted\n",
      "\u001b[1A\u001b[1M> Line:  475  Objects:      461 detected /        0 sextracted\n",
      "\u001b[1A\u001b[1M> Line:  500  Objects:      496 detected /        0 sextracted\n",
      "\u001b[1A\u001b[1M> Line:  525  Objects:      515 detected /        0 sextracted\n",
      "\u001b[1A\u001b[1M> Line:  550  Objects:      556 detected /        0 sextracted\n",
      "\u001b[1A\u001b[1M> Line:  575  Objects:      572 detected /        0 sextracted\n",
      "\u001b[1A\u001b[1M> Line:  600  Objects:      619 detected /        0 sextracted\n",
      "\u001b[1A\u001b[1M> Line:  625  Objects:      649 detected /        0 sextracted\n",
      "\u001b[1A\u001b[1M> Line:  650  Objects:      663 detected /        0 sextracted\n",
      "\u001b[1A\u001b[1M> Line:  675  Objects:      684 detected /        0 sextracted\n",
      "\u001b[1A\u001b[1M> Line:  700  Objects:      702 detected /        0 sextracted\n",
      "\u001b[1A\u001b[1M> Line:  725  Objects:      726 detected /        0 sextracted\n",
      "\u001b[1A\u001b[1M> Line:  750  Objects:      750 detected /        0 sextracted\n",
      "\u001b[1A\u001b[1M> Line:  775  Objects:      775 detected /        0 sextracted\n",
      "\u001b[1A\u001b[1M> Line:  800  Objects:      795 detected /        0 sextracted\n",
      "\u001b[1A\u001b[1M> Line:  825  Objects:      833 detected /        0 sextracted\n",
      "\u001b[1A\u001b[1M> Line:  850  Objects:      856 detected /        0 sextracted\n",
      "\u001b[1A\u001b[1M> Line:  875  Objects:      874 detected /        0 sextracted\n",
      "\u001b[1A\u001b[1M> Line:  900  Objects:      897 detected /        0 sextracted\n",
      "\u001b[1A\u001b[1M> Line:  925  Objects:      920 detected /        0 sextracted\n",
      "\u001b[1A\u001b[1M> Line:  950  Objects:      946 detected /        0 sextracted\n",
      "\u001b[1A\u001b[1M> Line:  975  Objects:      963 detected /        0 sextracted\n",
      "\u001b[1A\u001b[1M> Line: 1000  Objects:      975 detected /        0 sextracted\n",
      "\u001b[1A\u001b[1M> Line: 1023  Objects:      992 detected /        0 sextracted\n",
      "\u001b[1A\u001b[1M> Line: 1025  Objects:      994 detected /       22 sextracted\n",
      "\u001b[1A\u001b[1M> Line: 1050  Objects:     1009 detected /       45 sextracted\n",
      "\u001b[1A\u001b[1M> Line: 1075  Objects:     1030 detected /       66 sextracted\n",
      "\u001b[1A\u001b[1M> Line: 1100  Objects:     1045 detected /       84 sextracted\n",
      "\u001b[1A\u001b[1M> Line: 1125  Objects:     1063 detected /       98 sextracted\n",
      "\u001b[1A\u001b[1M> Line: 1150  Objects:     1076 detected /      113 sextracted\n",
      "\u001b[1A\u001b[1M> Line: 1175  Objects:     1100 detected /      122 sextracted\n",
      "\u001b[1A\u001b[1M> Line: 1200  Objects:     1130 detected /      134 sextracted\n",
      "\u001b[1A\u001b[1M> Line: 1225  Objects:     1169 detected /      148 sextracted\n",
      "\u001b[1A\u001b[1M> Line: 1250  Objects:     1179 detected /      157 sextracted\n",
      "\u001b[1A\u001b[1M> Line: 1275  Objects:     1198 detected /      167 sextracted\n",
      "\u001b[1A\u001b[1M> Line: 1300  Objects:     1206 detected /      174 sextracted\n",
      "\u001b[1A\u001b[1M> Line: 1325  Objects:     1224 detected /      189 sextracted\n",
      "\u001b[1A\u001b[1M> Line: 1350  Objects:     1247 detected /      197 sextracted\n",
      "\u001b[1A\u001b[1M> Line: 1375  Objects:     1268 detected /      213 sextracted\n",
      "\u001b[1A\u001b[1M> Line: 1400  Objects:     1292 detected /      226 sextracted\n",
      "\u001b[1A\u001b[1M> Line: 1425  Objects:     1308 detected /      239 sextracted\n",
      "\u001b[1A\u001b[1M> Line: 1450  Objects:     1326 detected /      249 sextracted\n",
      "\u001b[1A\u001b[1M> Line: 1472  Objects:     1349 detected /      400 sextracted\n",
      "\u001b[1A      Objects: detected 1349     / sextracted 742             \n",
      "\n",
      "\u001b[1M> Closing files\n",
      "\u001b[1A\u001b[1M> \n",
      "\u001b[1A> All done (in 0.1 s: 12442.0 lines/s , 6271.7 detections/s)\n",
      "\u001b[1M> \n",
      "\u001b[1A----- SExtractor 2.19.5 started on 2023-03-15 at 12:41:03 with 1 thread\n",
      "\n",
      "\u001b[1M> Setting catalog parameters\n",
      "\u001b[1A\u001b[1M> Initializing check-image(s)\n",
      "\u001b[1A\u001b[1M> Initializing catalog\n",
      "\u001b[1A\u001b[1M> Looking for Vfinal.fits\n",
      "\u001b[1A----- Detecting from: Vfinal.fits\n",
      "      \"Unnamed\" / no ext. header / 2184x1472 / 64 bits (floats)\n",
      "\u001b[1M> Looking for rfinal.fits\n",
      "\u001b[1A----- Measuring from: rfinal.fits\n",
      "      \"Unnamed\" / no ext. header / 2184x1472 / 64 bits (floats)\n",
      "Measurement image:\u001b[1M> Setting up background maps\n",
      "\u001b[1A\u001b[1M> Setting up background map at line:  100\n",
      "\u001b[1A\u001b[1M> Setting up background map at line:  200\n",
      "\u001b[1A\u001b[1M> Setting up background map at line:  300\n",
      "\u001b[1A\u001b[1M> Setting up background map at line:  400\n",
      "\u001b[1A\u001b[1M> Setting up background map at line:  500\n",
      "\u001b[1A\u001b[1M> Setting up background map at line:  600\n",
      "\u001b[1A\u001b[1M> Setting up background map at line:  700\n",
      "\u001b[1A\u001b[1M> Setting up background map at line:  800\n",
      "\u001b[1A\u001b[1M> Setting up background map at line:  900\n",
      "\u001b[1A\u001b[1M> Setting up background map at line: 1000\n",
      "\u001b[1A\u001b[1M> Setting up background map at line: 1100\n",
      "\u001b[1A\u001b[1M> Setting up background map at line: 1200\n",
      "\u001b[1A\u001b[1M> Setting up background map at line: 1300\n",
      "\u001b[1A\u001b[1M> Setting up background map at line: 1400\n",
      "\u001b[1A\u001b[1M> Filtering background map(s)\n",
      "\u001b[1A\u001b[1M> Computing background d-map\n",
      "\u001b[1A\u001b[1M> Computing background-noise d-map\n",
      "\u001b[1A(M)   Background: 61.9818    RMS: 3.56587    / Threshold: 5.34881    \n",
      "Detection image: \u001b[1M> Setting up background maps\n",
      "\u001b[1A\u001b[1M> Setting up background map at line:  100\n",
      "\u001b[1A\u001b[1M> Setting up background map at line:  200\n",
      "\u001b[1A\u001b[1M> Setting up background map at line:  300\n",
      "\u001b[1A\u001b[1M> Setting up background map at line:  400\n",
      "\u001b[1A\u001b[1M> Setting up background map at line:  500\n",
      "\u001b[1A\u001b[1M> Setting up background map at line:  600\n",
      "\u001b[1A\u001b[1M> Setting up background map at line:  700\n",
      "\u001b[1A\u001b[1M> Setting up background map at line:  800\n",
      "\u001b[1A\u001b[1M> Setting up background map at line:  900\n",
      "\u001b[1A\u001b[1M> Setting up background map at line: 1000\n",
      "\u001b[1A\u001b[1M> Setting up background map at line: 1100\n",
      "\u001b[1A\u001b[1M> Setting up background map at line: 1200\n",
      "\u001b[1A\u001b[1M> Setting up background map at line: 1300\n",
      "\u001b[1A\u001b[1M> Setting up background map at line: 1400\n",
      "\u001b[1A\u001b[1M> Filtering background map(s)\n",
      "\u001b[1A\u001b[1M> Computing background d-map\n",
      "\u001b[1A\u001b[1M> Computing background-noise d-map\n",
      "\u001b[1A(D)   Background: 47.941     RMS: 3.89221    / Threshold: 7.78442    \n",
      "\u001b[1M> Scanning image\n",
      "\u001b[1A\u001b[1M> Line:   25  Objects:       28 detected /        0 sextracted\n",
      "\u001b[1A\u001b[1M> Line:   50  Objects:       65 detected /        0 sextracted\n",
      "\u001b[1A\u001b[1M> Line:   75  Objects:      101 detected /        0 sextracted\n",
      "\u001b[1A\u001b[1M> Line:  100  Objects:      138 detected /        0 sextracted\n",
      "\u001b[1A\u001b[1M> Line:  125  Objects:      164 detected /        0 sextracted\n",
      "\u001b[1A\u001b[1M> Line:  150  Objects:      192 detected /        0 sextracted\n",
      "\u001b[1A\u001b[1M> Line:  175  Objects:      213 detected /        0 sextracted\n",
      "\u001b[1A\u001b[1M> Line:  200  Objects:      228 detected /        0 sextracted\n",
      "\u001b[1A\u001b[1M> Line:  225  Objects:      262 detected /        0 sextracted\n",
      "\u001b[1A\u001b[1M> Line:  250  Objects:      281 detected /        0 sextracted\n",
      "\u001b[1A\u001b[1M> Line:  275  Objects:      301 detected /        0 sextracted\n",
      "\u001b[1A\u001b[1M> Line:  300  Objects:      310 detected /        0 sextracted\n",
      "\u001b[1A\u001b[1M> Line:  325  Objects:      340 detected /        0 sextracted\n",
      "\u001b[1A\u001b[1M> Line:  350  Objects:      370 detected /        0 sextracted\n",
      "\u001b[1A\u001b[1M> Line:  375  Objects:      378 detected /        0 sextracted\n",
      "\u001b[1A\u001b[1M> Line:  400  Objects:      401 detected /        0 sextracted\n",
      "\u001b[1A\u001b[1M> Line:  425  Objects:      419 detected /        0 sextracted\n",
      "\u001b[1A\u001b[1M> Line:  450  Objects:      438 detected /        0 sextracted\n",
      "\u001b[1A\u001b[1M> Line:  475  Objects:      461 detected /        0 sextracted\n",
      "\u001b[1A\u001b[1M> Line:  500  Objects:      496 detected /        0 sextracted\n",
      "\u001b[1A\u001b[1M> Line:  525  Objects:      515 detected /        0 sextracted\n",
      "\u001b[1A\u001b[1M> Line:  550  Objects:      556 detected /        0 sextracted\n",
      "\u001b[1A\u001b[1M> Line:  575  Objects:      572 detected /        0 sextracted\n",
      "\u001b[1A\u001b[1M> Line:  600  Objects:      619 detected /        0 sextracted\n",
      "\u001b[1A\u001b[1M> Line:  625  Objects:      649 detected /        0 sextracted\n",
      "\u001b[1A\u001b[1M> Line:  650  Objects:      663 detected /        0 sextracted\n",
      "\u001b[1A\u001b[1M> Line:  675  Objects:      684 detected /        0 sextracted\n",
      "\u001b[1A\u001b[1M> Line:  700  Objects:      702 detected /        0 sextracted\n",
      "\u001b[1A\u001b[1M> Line:  725  Objects:      726 detected /        0 sextracted\n",
      "\u001b[1A\u001b[1M> Line:  750  Objects:      750 detected /        0 sextracted\n",
      "\u001b[1A\u001b[1M> Line:  775  Objects:      775 detected /        0 sextracted\n",
      "\u001b[1A\u001b[1M> Line:  800  Objects:      795 detected /        0 sextracted\n",
      "\u001b[1A\u001b[1M> Line:  825  Objects:      833 detected /        0 sextracted\n",
      "\u001b[1A\u001b[1M> Line:  850  Objects:      856 detected /        0 sextracted\n",
      "\u001b[1A\u001b[1M> Line:  875  Objects:      874 detected /        0 sextracted\n",
      "\u001b[1A\u001b[1M> Line:  900  Objects:      897 detected /        0 sextracted\n",
      "\u001b[1A\u001b[1M> Line:  925  Objects:      920 detected /        0 sextracted\n",
      "\u001b[1A\u001b[1M> Line:  950  Objects:      946 detected /        0 sextracted\n",
      "\u001b[1A\u001b[1M> Line:  975  Objects:      963 detected /        0 sextracted\n",
      "\u001b[1A\u001b[1M> Line: 1000  Objects:      975 detected /        0 sextracted\n",
      "\u001b[1A\u001b[1M> Line: 1023  Objects:      992 detected /        0 sextracted\n",
      "\u001b[1A\u001b[1M> Line: 1025  Objects:      994 detected /       22 sextracted\n",
      "\u001b[1A\u001b[1M> Line: 1050  Objects:     1009 detected /       45 sextracted\n",
      "\u001b[1A\u001b[1M> Line: 1075  Objects:     1030 detected /       66 sextracted\n",
      "\u001b[1A\u001b[1M> Line: 1100  Objects:     1045 detected /       84 sextracted\n",
      "\u001b[1A\u001b[1M> Line: 1125  Objects:     1063 detected /       98 sextracted\n",
      "\u001b[1A\u001b[1M> Line: 1150  Objects:     1076 detected /      113 sextracted\n",
      "\u001b[1A\u001b[1M> Line: 1175  Objects:     1100 detected /      122 sextracted\n",
      "\u001b[1A\u001b[1M> Line: 1200  Objects:     1130 detected /      134 sextracted\n",
      "\u001b[1A\u001b[1M> Line: 1225  Objects:     1169 detected /      148 sextracted\n",
      "\u001b[1A\u001b[1M> Line: 1250  Objects:     1179 detected /      157 sextracted\n",
      "\u001b[1A\u001b[1M> Line: 1275  Objects:     1198 detected /      167 sextracted\n",
      "\u001b[1A\u001b[1M> Line: 1300  Objects:     1206 detected /      174 sextracted\n",
      "\u001b[1A\u001b[1M> Line: 1325  Objects:     1224 detected /      189 sextracted\n",
      "\u001b[1A\u001b[1M> Line: 1350  Objects:     1247 detected /      197 sextracted\n",
      "\u001b[1A\u001b[1M> Line: 1375  Objects:     1268 detected /      213 sextracted\n",
      "\u001b[1A\u001b[1M> Line: 1400  Objects:     1292 detected /      226 sextracted\n",
      "\u001b[1A\u001b[1M> Line: 1425  Objects:     1308 detected /      239 sextracted\n",
      "\u001b[1A\u001b[1M> Line: 1450  Objects:     1326 detected /      249 sextracted\n",
      "\u001b[1A\u001b[1M> Line: 1472  Objects:     1349 detected /      400 sextracted\n",
      "\u001b[1A      Objects: detected 1349     / sextracted 742             \n",
      "\n",
      "\u001b[1M> Closing files\n",
      "\u001b[1A\u001b[1M> \n",
      "\u001b[1A> All done (in 0.2 s: 8526.0 lines/s , 4297.7 detections/s)\n"
     ]
    },
    {
     "data": {
      "text/plain": [
       "0"
      ]
     },
     "execution_count": 25,
     "metadata": {},
     "output_type": "execute_result"
    }
   ],
   "source": [
    "import astropy.io.ascii as asc\n",
    "import os\n",
    "os.system(\"sex Vfinal.fits -CATALOG_NAME V.cat\")\n",
    "os.system(\"sex Vfinal.fits,rfinal.fits -CATALOG_NAME r.cat\")\n"
   ]
  },
  {
   "cell_type": "markdown",
   "metadata": {},
   "source": [
    "The asc.read() function returns an object of the class Table. Just printing the Vdata object will produce a neat listing of the data:"
   ]
  },
  {
   "cell_type": "code",
   "execution_count": 26,
   "metadata": {},
   "outputs": [
    {
     "name": "stdout",
     "output_type": "stream",
     "text": [
      "NUMBER  X_IMAGE   Y_IMAGE  A_IMAGE B_IMAGE MAG_APER MAGERR_APER\n",
      "          pix       pix      pix     pix     mag        mag    \n",
      "------ --------- --------- ------- ------- -------- -----------\n",
      "     1  562.5654    2.3836   1.056   0.486  -2.9238      1.2256\n",
      "     2  869.5165    2.3184   0.782   0.421  -2.3301      2.0996\n",
      "     3 1909.5435    2.3239    1.02   0.578  -4.0281      0.4414\n",
      "     4 1277.2362    2.2632   0.831   0.497  -4.3814       0.318\n",
      "     5    66.057    4.6332   1.319   0.419  -4.2315      0.3833\n",
      "     6  743.2001    2.7806   0.975   0.348  -3.8116      0.5592\n",
      "     7  930.5846     2.872   0.818   0.419  -3.1837      0.9983\n",
      "     8 1255.5529    3.4046   0.975   0.528  -3.2347      0.9564\n",
      "     9 1509.0598    2.8142   1.118   0.475  -3.9846      0.4781\n",
      "    10 1798.7997    3.3661   0.822   0.433  -3.7466      0.5978\n",
      "   ...       ...       ...     ...     ...      ...         ...\n",
      " 21006 1758.5479 1393.2137   1.504   0.487  -4.2443      0.3788\n",
      " 21007  665.8768  1446.817   1.821   0.694  -4.5808      0.2782\n",
      " 21008 2033.1864 1273.0275   2.599   1.062  -4.4242       0.321\n",
      " 21009  610.0272 1433.3617   1.092   0.511  -4.0649       0.446\n",
      " 21010  410.1632 1318.6993    1.34   0.598  -3.5252       0.728\n",
      " 21011  818.5405 1405.7705   0.989   0.511  -2.7757      1.4585\n",
      " 21012  691.0076 1284.6543   2.256   0.674  -3.7919      0.5734\n",
      " 21013 1073.7753  1434.647    1.69   0.895  -4.1787      0.4023\n",
      " 21014 1464.4923 1465.2645   1.283    0.66  -4.1787      0.3998\n",
      " 21015  650.1899 1452.7535    1.14   0.602  -3.3835      0.8342\n",
      "Length = 21015 rows\n"
     ]
    }
   ],
   "source": [
    "print(Vdata)"
   ]
  },
  {
   "cell_type": "markdown",
   "metadata": {},
   "source": [
    "and the individual columns can be accessed by specifying the column name in brackets (same syntax as for a Python dict structure):"
   ]
  },
  {
   "cell_type": "code",
   "execution_count": 27,
   "metadata": {},
   "outputs": [
    {
     "name": "stdout",
     "output_type": "stream",
     "text": [
      "MAG_APER\n",
      "  mag   \n",
      "--------\n",
      " -2.9238\n",
      " -2.3301\n",
      " -4.0281\n",
      " -4.3814\n",
      " -4.2315\n",
      " -3.8116\n",
      " -3.1837\n",
      " -3.2347\n",
      " -3.9846\n",
      " -3.7466\n",
      "     ...\n",
      " -4.2443\n",
      " -4.5808\n",
      " -4.4242\n",
      " -4.0649\n",
      " -3.5252\n",
      " -2.7757\n",
      " -3.7919\n",
      " -4.1787\n",
      " -4.1787\n",
      " -3.3835\n",
      "Length = 21015 rows\n"
     ]
    }
   ],
   "source": [
    "print(Vdata['MAG_APER'])"
   ]
  },
  {
   "cell_type": "markdown",
   "metadata": {},
   "source": [
    "- Read the sextractor photometry into Python and make a plot of the (V-r, V) colour-magnitude diagram. "
   ]
  },
  {
   "cell_type": "code",
   "execution_count": 28,
   "metadata": {},
   "outputs": [],
   "source": [
    "import astropy.io.ascii as asc\n",
    "\n",
    "# Read the data\n",
    "\n",
    "Vdata = asc.read('V.cat')\n",
    "rdata = asc.read('r.cat')\n"
   ]
  },
  {
   "cell_type": "code",
   "execution_count": 29,
   "metadata": {},
   "outputs": [
    {
     "data": {
      "text/plain": [
       "Text(0, 0.5, 'V')"
      ]
     },
     "execution_count": 29,
     "metadata": {},
     "output_type": "execute_result"
    },
    {
     "data": {
      "image/png": "[encoded data removed]",
      "text/plain": [
       "<Figure size 640x480 with 1 Axes>"
      ]
     },
     "metadata": {},
     "output_type": "display_data"
    }
   ],
   "source": [
    "import matplotlib.pyplot as plt\n",
    "\n",
    "# Now make the plot. Set the x- and y limits, add labels to the axes\n",
    "V_r = []\n",
    "V = []\n",
    "for i in range(len(Vdata)):\n",
    "    if Vdata[i][\"MAGERR_APER\"] > 1 or rdata[i][\"MAGERR_APER\"] > 1:\n",
    "        continue # I had quite a lot of really inaccurate data, this gets rid of it\n",
    "    V_r.append(Vdata[i][\"MAG_APER\"]-rdata[i][\"MAG_APER\"])\n",
    "    V.append(Vdata[i][\"MAG_APER\"])\n",
    "\n",
    "plt.scatter(V_r, V)\n",
    "plt.xlim()\n",
    "plt.ylim()\n",
    "plt.xlabel(\"V-r\")\n",
    "plt.ylabel(\"V\")"
   ]
  },
  {
   "cell_type": "markdown",
   "metadata": {},
   "source": [
    "It is clear just from looking at the images that stars are not uniformly distributed - stars belonging to M37 are concentrated roughly (though not exactly) around the centre. It is often useful to compare CMDs for the central regions of a cluster with those further out. That way, we can try to assess whether certain CMD features are dominated by cluster stars, or whether there are significant contributions from the surrounding field."
   ]
  },
  {
   "cell_type": "markdown",
   "metadata": {},
   "source": [
    "- Roughly where are the centre coordinates of M37 located?\n",
    "- Modify the CMD plot such that stars within 500 pixels of the centre are plotted with one colour (say, red) and stars further out with another. Do you see any differences?"
   ]
  },
  {
   "cell_type": "code",
   "execution_count": 30,
   "metadata": {},
   "outputs": [
    {
     "data": {
      "text/plain": [
       "Text(0, 0.5, 'V')"
      ]
     },
     "execution_count": 30,
     "metadata": {},
     "output_type": "execute_result"
    },
    {
     "data": {
      "image/png": "[encoded data removed]",
      "text/plain": [
       "<Figure size 640x480 with 1 Axes>"
      ]
     },
     "metadata": {},
     "output_type": "display_data"
    }
   ],
   "source": [
    "import numpy as np\n",
    "\n",
    "center = np.array([931, 542]) #Found by guessing that the brightest star is somewhere around the center of M37 (also checked that this roughly matched just looking at all the stars and pointing at the part that looked like it had the most stars)\n",
    "\n",
    "V_r_center = []\n",
    "V_center = []\n",
    "V_r = []\n",
    "V = []\n",
    "for i in range(len(Vdata)):\n",
    "    if Vdata[i][\"MAGERR_APER\"] > 1 or rdata[i][\"MAGERR_APER\"] > 1:\n",
    "        continue # I had quite a lot of really inaccurate data, this gets rid of it\n",
    "    coords = np.array([Vdata[i][\"X_IMAGE\"], Vdata[i][\"Y_IMAGE\"]])\n",
    "    if np.linalg.norm(center - coords) > 500:\n",
    "        V_r.append(Vdata[i][\"MAG_APER\"]-rdata[i][\"MAG_APER\"])\n",
    "        V.append(Vdata[i][\"MAG_APER\"])\n",
    "    else:\n",
    "        V_r_center.append(Vdata[i][\"MAG_APER\"]-rdata[i][\"MAG_APER\"])\n",
    "        V_center.append(Vdata[i][\"MAG_APER\"])\n",
    "\n",
    "# Define an array with distances of the stars to the centre:\n",
    "# d_centre = ...\n",
    "# wr = np.where(d_centre < 500)\n",
    "\n",
    "# Now make the plot as before, but plot the stars closer to \n",
    "# the centre with a different colour.\n",
    "plt.scatter(V_r, V)\n",
    "plt.scatter(V_r_center, V_center, color=\"red\")\n",
    "\n",
    "plt.xlim()\n",
    "plt.ylim()\n",
    "plt.xlabel(\"V-r\")\n",
    "plt.ylabel(\"V\")"
   ]
  },
  {
   "cell_type": "markdown",
   "metadata": {},
   "source": [
    "- What about elongated sources (i.e., potential blends?) Try plotting sources with A IMAGE > 7 (see the notes for Observational Astronomy) with another colour (e.g. blue). Do we need to worry about them?"
   ]
  },
  {
   "cell_type": "code",
   "execution_count": 31,
   "metadata": {},
   "outputs": [
    {
     "name": "stdout",
     "output_type": "stream",
     "text": [
      "0.008547008547008548\n"
     ]
    },
    {
     "data": {
      "image/png": "[encoded data removed]",
      "text/plain": [
       "<Figure size 640x480 with 1 Axes>"
      ]
     },
     "metadata": {},
     "output_type": "display_data"
    }
   ],
   "source": [
    "import numpy as np\n",
    "\n",
    "center = np.array([931, 542]) #Found by guessing that the brightest star is somewhere around the center of M37 (also checked that this roughly matched just looking at all the stars and pointing at the part that looked like it had the most stars)\n",
    "\n",
    "V_r_blend = []\n",
    "V_blend = []\n",
    "V_r = []\n",
    "V = []\n",
    "for i in range(len(Vdata)):\n",
    "    if Vdata[i][\"MAGERR_APER\"] > 1 or rdata[i][\"MAGERR_APER\"] > 1:\n",
    "        continue # I had quite a lot of really inaccurate data, this gets rid of it\n",
    "    coords = np.array([Vdata[i][\"X_IMAGE\"], Vdata[i][\"Y_IMAGE\"]])\n",
    "    if Vdata[i][\"A_IMAGE\"] > 7:\n",
    "        V_r_blend.append(Vdata[i][\"MAG_APER\"]-rdata[i][\"MAG_APER\"])\n",
    "        V_blend.append(Vdata[i][\"MAG_APER\"])\n",
    "    else:\n",
    "        V_r.append(Vdata[i][\"MAG_APER\"]-rdata[i][\"MAG_APER\"])\n",
    "        V.append(Vdata[i][\"MAG_APER\"])\n",
    "\n",
    "\n",
    "# Now make the plot as before, but plot the stars closer to \n",
    "# the centre with a different colour.\n",
    "plt.scatter(V_r, V, color=\"blue\")\n",
    "plt.scatter(V_r_blend, V_blend, color=\"red\")\n",
    "\n",
    "plt.xlim()\n",
    "plt.ylim()\n",
    "plt.xlabel(\"V-r\")\n",
    "plt.ylabel(\"V\")\n",
    "\n",
    "print(len(V_blend)/len(V))"
   ]
  },
  {
   "cell_type": "code",
   "execution_count": 12,
   "metadata": {},
   "outputs": [
    {
     "name": "stdout",
     "output_type": "stream",
     "text": [
      "Ginga not installed, use other viewer, or no viewer\n",
      "9.991\n"
     ]
    }
   ],
   "source": [
    "#Script used to determine FWHM of the data\n",
    "import astropy.io.fits as fits\n",
    "import numpy as np\n",
    "import imexam\n",
    "import os\n",
    "import time\n",
    "\n",
    "#viewer = imexam.connect(path='/vol/cursus/ObsAstro/bin/ds9')\n",
    "#time.sleep(40)\n",
    "#viewer.load_fits(\"Vfinal.fits\")\n",
    "#viewer.zoomtofit()\n",
    "#viewer.imexam()\n",
    "\n",
    "values = [9.82, 9.84, 10.23, 10.07, 10.20, 9.83, 10.01, 10.38, 10.08, 9.45]\n",
    "FWHM = sum(values)/len(values)\n",
    "print(FWHM)\n"
   ]
  },
  {
   "cell_type": "markdown",
   "metadata": {},
   "source": [
    "The potentially blended stars make up just over 5% of my dataset (assuming that a threshold of 7 is accurate), which is significant."
   ]
  },
  {
   "cell_type": "markdown",
   "metadata": {},
   "source": [
    "## Hand in\n",
    "\n",
    "- Your estimates of the FWHM of the stellar images in the V and r images (20/100 pts)\n",
    "- The relevant parameters used for the photometry and background determination (you can fill this into the markdown field below) (20/100 pts)\n",
    "- Output from this notebook, including the three CMDs: full CCD field (20/100 pts), stars in the inner 500 pixels plotted with red (20/100 pts), stars with A_IMAGE > 7 plotted with blue (20/100 pts)"
   ]
  },
  {
   "cell_type": "code",
   "execution_count": 13,
   "metadata": {},
   "outputs": [
    {
     "ename": "SyntaxError",
     "evalue": "invalid syntax (3509883381.py, line 1)",
     "output_type": "error",
     "traceback": [
      "\u001b[0;36m  Cell \u001b[0;32mIn[13], line 1\u001b[0;36m\u001b[0m\n\u001b[0;31m    FWHM of the images:\u001b[0m\n\u001b[0m         ^\u001b[0m\n\u001b[0;31mSyntaxError\u001b[0m\u001b[0;31m:\u001b[0m invalid syntax\n"
     ]
    }
   ],
   "source": [
    "FWHM of the images:\n",
    "9.991\n",
    "Relevant sextractor parameters:\n",
    "FILTER           N              # apply filter for detection (Y or N)?\n",
    "GAIN             13.6            # detector gain in e-/ADU\n",
    "BACK_SIZE        100             # Background mesh: <size> or <width>,<height>\n",
    "CHECKIMAGE_TYPE  APERTURES        # can be NONE, BACKGROUND, BACKGROUND_RMS,"
   ]
  },
  {
   "cell_type": "code",
   "execution_count": null,
   "metadata": {},
   "outputs": [],
   "source": []
  }
 ],
 "metadata": {
  "kernelspec": {
   "display_name": "Python 3 (ipykernel)",
   "language": "python",
   "name": "python3"
  },
  "language_info": {
   "codemirror_mode": {
    "name": "ipython",
    "version": 3
   },
   "file_extension": ".py",
   "mimetype": "text/x-python",
   "name": "python",
   "nbconvert_exporter": "python",
   "pygments_lexer": "ipython3",
   "version": "3.10.10"
  }
 },
 "nbformat": 4,
 "nbformat_minor": 2
}
