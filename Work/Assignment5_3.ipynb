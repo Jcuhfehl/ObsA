{
 "cells": [
  {
   "cell_type": "markdown",
   "metadata": {},
   "source": [
    "# Flat-fielding the science exposures (50/100 pts)"
   ]
  },
  {
   "cell_type": "markdown",
   "metadata": {},
   "source": [
    "In the previous assignment we produced the masterflats. We now need to perform the flatfield correction by dividing each science image by the corresponding flatfield image. Before doing that, we must also remember to add back the PEDESTAL.\n",
    "\n"
   ]
  },
  {
   "cell_type": "markdown",
   "metadata": {},
   "source": [
    "The operations and functions required to do this (reading/writing data and image headers, performing arithmetic operations) have all been dicussed previously, so let's get on with it right away:"
   ]
  },
  {
   "cell_type": "code",
   "execution_count": 6,
   "metadata": {},
   "outputs": [],
   "source": [
    "import astropy.io.fits as fits\n",
    "import numpy as np\n",
    "import imexam\n",
    "import os\n",
    "import time\n"
   ]
  },
  {
   "cell_type": "code",
   "execution_count": 7,
   "metadata": {},
   "outputs": [
    {
     "name": "stdout",
     "output_type": "stream",
     "text": [
      "Processing file: ../science/science1V.FIT -> science1Vf.fits\n",
      "Processing file: ../science/science2V.FIT -> science2Vf.fits\n",
      "Processing file: ../science/science3V.FIT -> science3Vf.fits\n",
      "Processing file: ../science/science4V.FIT -> science4Vf.fits\n",
      "Processing file: ../science/science5V.FIT -> science5Vf.fits\n",
      "Processing file: ../science/science6V.FIT -> science6Vf.fits\n",
      "Processing file: ../science/science7V.FIT -> science7Vf.fits\n",
      "Processing file: ../science/science8V.FIT -> science8Vf.fits\n",
      "Processing file: ../science/science9V.FIT -> science9Vf.fits\n",
      "Processing file: ../science/science10V.FIT -> science10Vf.fits\n",
      "Processing file: ../science/science1r.FIT -> science1rf.fits\n",
      "Processing file: ../science/science2r.FIT -> science2rf.fits\n",
      "Processing file: ../science/science3r.FIT -> science3rf.fits\n",
      "Processing file: ../science/science4r.FIT -> science4rf.fits\n",
      "Processing file: ../science/science5r.FIT -> science5rf.fits\n",
      "Processing file: ../science/science6r.FIT -> science6rf.fits\n",
      "Processing file: ../science/science7r.FIT -> science7rf.fits\n",
      "Processing file: ../science/science8r.FIT -> science8rf.fits\n",
      "Processing file: ../science/science9r.FIT -> science9rf.fits\n",
      "Processing file: ../science/science10r.FIT -> science10rf.fits\n"
     ]
    }
   ],
   "source": [
    "# Read in the masterflats\n",
    "# ...\n",
    "\n",
    "def flatfield_correction(filenames_in, filenames_out, masterflat_filename):\n",
    "    # For each science image:\n",
    "    for j in range(len(filenames_in)):\n",
    "        file_in = filenames_in[j]\n",
    "        file_out = filenames_out[j]\n",
    "        print(\"Processing file: %s -> %s\" % (file_in, file_out))\n",
    "        data, header = fits.getdata(file_in, header=True)\n",
    "        masterflat = fits.getdata(masterflat_filename)\n",
    "\n",
    "        # - Add back the PEDESTAL to the image data and divide by the masterflat\n",
    "        pedestal = header[\"PEDESTAL\"]\n",
    "        datap = data + pedestal\n",
    "        dataf = datap / masterflat\n",
    "\n",
    "        # - Add comments to the header\n",
    "        header['PEDESTAL'] = 0   # Update the PEDESTAL keyword for completeness' sake\n",
    "        header['COMMENT'] = 'PEDESTAL of %d ADU added and divided by the flatfield' % pedestal\n",
    "\n",
    "        # Save the flat-fielded science image together with the updated header\n",
    "        fits.writeto(file_out, dataf, header, overwrite=True)\n",
    "\n",
    "filenames_in = [\"../science/science%dV.FIT\" % j for j in range(1, 11)]\n",
    "filenames_out = [\"science%dVf.fits\" % j for j in range(1, 11)]\n",
    "flatfield_correction(filenames_in, filenames_out, \"flatV.fits\")\n",
    "\n",
    "filenames_in = [\"../science/science%dr.FIT\" % j for j in range(1, 11)]\n",
    "filenames_out = [\"science%drf.fits\" % j for j in range(1, 11)]\n",
    "flatfield_correction(filenames_in, filenames_out, \"flatr.fits\")"
   ]
  },
  {
   "cell_type": "markdown",
   "metadata": {},
   "source": [
    "## Checking the result (50/100 pts)"
   ]
  },
  {
   "cell_type": "markdown",
   "metadata": {},
   "source": [
    "Given that the sensitivity variations are relatively small, we do not expect dramatic differences between the raw and flat-fielded science exposures. However, if the images are displayed in DS9 with a scaling that emphasises structure in the background, some of the more prominent “donuts” will be perceptible, especially in the r′ image. \n",
    "\n",
    "- Load a raw and flat-fielded r-band image into DS9. A 90% scaling should help show the features in the background. Choosing a different colour map may also help.\n",
    "- Blink the two images against each other. Do you see the difference?\n",
    "\n"
   ]
  },
  {
   "cell_type": "markdown",
   "metadata": {},
   "source": [
    "Here below you can insert commands to display the images within the notebook. Make sure to choose the colour mapping so that relevant features are visible!"
   ]
  },
  {
   "cell_type": "code",
   "execution_count": 8,
   "metadata": {},
   "outputs": [
    {
     "ename": "XpaException",
     "evalue": "Unknown XPA Error : XPAGet returned 0!",
     "output_type": "error",
     "traceback": [
      "\u001b[0;31m---------------------------------------------------------------------------\u001b[0m",
      "\u001b[0;31mXpaException\u001b[0m                              Traceback (most recent call last)",
      "Cell \u001b[0;32mIn[8], line 4\u001b[0m\n\u001b[1;32m      1\u001b[0m viewer \u001b[38;5;241m=\u001b[39m imexam\u001b[38;5;241m.\u001b[39mconnect(path\u001b[38;5;241m=\u001b[39m\u001b[38;5;124m'\u001b[39m\u001b[38;5;124m/usr/bin/ds9\u001b[39m\u001b[38;5;124m'\u001b[39m)\n\u001b[1;32m      2\u001b[0m \u001b[38;5;66;03m#time.sleep(60) #Needs to be really high because I'm viewing it at home through ssh and it takes a very long time to load.\u001b[39;00m\n\u001b[0;32m----> 4\u001b[0m framev \u001b[38;5;241m=\u001b[39m \u001b[43mviewer\u001b[49m\u001b[38;5;241;43m.\u001b[39;49m\u001b[43mframe\u001b[49m\u001b[43m(\u001b[49m\u001b[38;5;241;43m1\u001b[39;49m\u001b[43m)\u001b[49m\n\u001b[1;32m      5\u001b[0m viewer\u001b[38;5;241m.\u001b[39mload_fits(\u001b[38;5;124m'\u001b[39m\u001b[38;5;124m../science/science1r.FIT\u001b[39m\u001b[38;5;124m'\u001b[39m)\n\u001b[1;32m      6\u001b[0m viewer\u001b[38;5;241m.\u001b[39mscale(\u001b[38;5;241m90\u001b[39m)\n",
      "File \u001b[0;32m~/.local/lib/python3.10/site-packages/imexam/connect.py:359\u001b[0m, in \u001b[0;36mConnect.frame\u001b[0;34m(self, *args, **kwargs)\u001b[0m\n\u001b[1;32m    357\u001b[0m \u001b[38;5;28;01mdef\u001b[39;00m \u001b[38;5;21mframe\u001b[39m(\u001b[38;5;28mself\u001b[39m, \u001b[38;5;241m*\u001b[39margs, \u001b[38;5;241m*\u001b[39m\u001b[38;5;241m*\u001b[39mkwargs):\n\u001b[1;32m    358\u001b[0m \u001b[38;5;250m    \u001b[39m\u001b[38;5;124;03m\"\"\"Move to a different frame, or add a new one\"\"\"\u001b[39;00m\n\u001b[0;32m--> 359\u001b[0m     \u001b[38;5;28;01mreturn\u001b[39;00m \u001b[38;5;28;43mself\u001b[39;49m\u001b[38;5;241;43m.\u001b[39;49m\u001b[43mwindow\u001b[49m\u001b[38;5;241;43m.\u001b[39;49m\u001b[43mframe\u001b[49m\u001b[43m(\u001b[49m\u001b[38;5;241;43m*\u001b[39;49m\u001b[43margs\u001b[49m\u001b[43m,\u001b[49m\u001b[43m \u001b[49m\u001b[38;5;241;43m*\u001b[39;49m\u001b[38;5;241;43m*\u001b[39;49m\u001b[43mkwargs\u001b[49m\u001b[43m)\u001b[49m\n",
      "File \u001b[0;32m~/.local/lib/python3.10/site-packages/imexam/ds9_viewer.py:966\u001b[0m, in \u001b[0;36mds9.frame\u001b[0;34m(self, n)\u001b[0m\n\u001b[1;32m    944\u001b[0m \u001b[38;5;28;01mdef\u001b[39;00m \u001b[38;5;21mframe\u001b[39m(\u001b[38;5;28mself\u001b[39m, n\u001b[38;5;241m=\u001b[39m\u001b[38;5;28;01mNone\u001b[39;00m):\n\u001b[1;32m    945\u001b[0m \u001b[38;5;250m    \u001b[39m\u001b[38;5;124;03m\"\"\"convenience function to change or report frames.\u001b[39;00m\n\u001b[1;32m    946\u001b[0m \n\u001b[1;32m    947\u001b[0m \u001b[38;5;124;03m    Parameters\u001b[39;00m\n\u001b[0;32m   (...)\u001b[0m\n\u001b[1;32m    964\u001b[0m \n\u001b[1;32m    965\u001b[0m \u001b[38;5;124;03m    \"\"\"\u001b[39;00m\n\u001b[0;32m--> 966\u001b[0m     frame \u001b[38;5;241m=\u001b[39m \u001b[38;5;28;43mself\u001b[39;49m\u001b[38;5;241;43m.\u001b[39;49m\u001b[43mget\u001b[49m\u001b[43m(\u001b[49m\u001b[38;5;124;43m\"\u001b[39;49m\u001b[38;5;124;43mframe\u001b[39;49m\u001b[38;5;124;43m\"\u001b[39;49m\u001b[43m)\u001b[49m\u001b[38;5;241m.\u001b[39mstrip()  \u001b[38;5;66;03m# xpa returns '\\n' for no frame\u001b[39;00m\n\u001b[1;32m    968\u001b[0m     \u001b[38;5;28;01mif\u001b[39;00m frame:\n\u001b[1;32m    969\u001b[0m         \u001b[38;5;28;01mif\u001b[39;00m n:\n",
      "File \u001b[0;32m~/.local/lib/python3.10/site-packages/imexam/ds9_viewer.py:684\u001b[0m, in \u001b[0;36mds9.get\u001b[0;34m(self, param)\u001b[0m\n\u001b[1;32m    670\u001b[0m \u001b[38;5;250m\u001b[39m\u001b[38;5;124;03m\"\"\"XPA get method to ds9 instance which returns received string.\u001b[39;00m\n\u001b[1;32m    671\u001b[0m \n\u001b[1;32m    672\u001b[0m \u001b[38;5;124;03mParameters\u001b[39;00m\n\u001b[0;32m   (...)\u001b[0m\n\u001b[1;32m    681\u001b[0m \n\u001b[1;32m    682\u001b[0m \u001b[38;5;124;03m\"\"\"\u001b[39;00m\n\u001b[1;32m    683\u001b[0m \u001b[38;5;28mself\u001b[39m\u001b[38;5;241m.\u001b[39m_check_ds9_process()\n\u001b[0;32m--> 684\u001b[0m \u001b[38;5;28;01mreturn\u001b[39;00m \u001b[38;5;28;43mself\u001b[39;49m\u001b[38;5;241;43m.\u001b[39;49m\u001b[43mxpa\u001b[49m\u001b[38;5;241;43m.\u001b[39;49m\u001b[43mget\u001b[49m\u001b[43m(\u001b[49m\u001b[43mparam\u001b[49m\u001b[43m)\u001b[49m\n",
      "File \u001b[0;32m~/.local/lib/python3.10/site-packages/imexam/xpa_wrap.py:14\u001b[0m, in \u001b[0;36mXPA.get\u001b[0;34m(self, param)\u001b[0m\n\u001b[1;32m     12\u001b[0m \u001b[38;5;28;01mdef\u001b[39;00m \u001b[38;5;21mget\u001b[39m(\u001b[38;5;28mself\u001b[39m, param\u001b[38;5;241m=\u001b[39m\u001b[38;5;124m\"\u001b[39m\u001b[38;5;124m\"\u001b[39m):\n\u001b[1;32m     13\u001b[0m \u001b[38;5;250m    \u001b[39m\u001b[38;5;124;03m\"\"\"Get information from the xpa.\"\"\"\u001b[39;00m\n\u001b[0;32m---> 14\u001b[0m     \u001b[38;5;28;01mreturn\u001b[39;00m \u001b[38;5;28;43msuper\u001b[39;49m\u001b[43m(\u001b[49m\u001b[43mXPA\u001b[49m\u001b[43m,\u001b[49m\u001b[43m \u001b[49m\u001b[38;5;28;43mself\u001b[39;49m\u001b[43m)\u001b[49m\u001b[38;5;241;43m.\u001b[39;49m\u001b[43mget\u001b[49m\u001b[43m(\u001b[49m\u001b[43mparam\u001b[49m\u001b[38;5;241;43m.\u001b[39;49m\u001b[43mencode\u001b[49m\u001b[43m(\u001b[49m\u001b[38;5;124;43m'\u001b[39;49m\u001b[38;5;124;43mutf-8\u001b[39;49m\u001b[38;5;124;43m'\u001b[39;49m\u001b[43m,\u001b[49m\u001b[43m \u001b[49m\u001b[38;5;124;43m'\u001b[39;49m\u001b[38;5;124;43mstrict\u001b[39;49m\u001b[38;5;124;43m'\u001b[39;49m\u001b[43m)\u001b[49m\u001b[43m)\u001b[49m\u001b[38;5;241m.\u001b[39mdecode()\n",
      "File \u001b[0;32mwrappers/xpa.pyx:173\u001b[0m, in \u001b[0;36mimexam.imexamxpa.xpa.get\u001b[0;34m()\u001b[0m\n",
      "File \u001b[0;32mwrappers/xpa.pyx:113\u001b[0m, in \u001b[0;36mimexam.imexamxpa._get\u001b[0;34m()\u001b[0m\n",
      "\u001b[0;31mXpaException\u001b[0m: Unknown XPA Error : XPAGet returned 0!"
     ]
    }
   ],
   "source": [
    "viewer = imexam.connect(path='/usr/bin/ds9')\n",
    "#time.sleep(60) #Needs to be really high because I'm viewing it at home through ssh and it takes a very long time to load.\n",
    "\n",
    "framev = viewer.frame(1)\n",
    "viewer.load_fits('../science/science1r.FIT')\n",
    "viewer.scale(90)\n",
    "viewer.zoomtofit()\n",
    "\n",
    "# Display a flat-fielded r-band image\n",
    "framer = viewer.frame(2)\n",
    "viewer.load_fits('science1rf.fits')\n",
    "viewer.scale(90)\n",
    "viewer.zoomtofit()\n",
    "\n",
    "viewer.blink(blink=True, interval=10)"
   ]
  },
  {
   "cell_type": "markdown",
   "metadata": {},
   "source": [
    "Looking at the ds9 window, there is a certainly a difference between the original and the flat fielded image"
   ]
  },
  {
   "cell_type": "markdown",
   "metadata": {},
   "source": [
    "## Hand in:\n",
    "\n",
    "- The completed notebook in PDF format via Brightspace"
   ]
  }
 ],
 "metadata": {
  "kernelspec": {
   "display_name": "Python 3 (ipykernel)",
   "language": "python",
   "name": "python3"
  },
  "language_info": {
   "codemirror_mode": {
    "name": "ipython",
    "version": 3
   },
   "file_extension": ".py",
   "mimetype": "text/x-python",
   "name": "python",
   "nbconvert_exporter": "python",
   "pygments_lexer": "ipython3",
   "version": "3.10.10"
  }
 },
 "nbformat": 4,
 "nbformat_minor": 2
}
