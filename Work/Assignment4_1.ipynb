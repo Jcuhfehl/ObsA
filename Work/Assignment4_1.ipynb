{
 "cells": [
  {
   "cell_type": "markdown",
   "metadata": {},
   "source": [
    "# Assignment 4.1"
   ]
  },
  {
   "cell_type": "markdown",
   "metadata": {},
   "source": [
    "## Measuring shifts between images"
   ]
  },
  {
   "cell_type": "markdown",
   "metadata": {},
   "source": [
    "- Use imexam() to measure the coordinates of at least five stars in the two images science1V.FIT and science10V.FIT. Save the coordinates of the stars in a text file for each image (e.g. coo1V.txt and coo10V.txt) with the x and y coordinates in column 0 and 1, respectively.\n",
    "\n",
    "You can just copy-and-paste the output from imexam() into a text editor and edit as necessary to keep the numerical values only. Make sure the stars appear in the same order in both files. You will need these files later!"
   ]
  },
  {
   "cell_type": "markdown",
   "metadata": {},
   "source": [
    "## Hand in:"
   ]
  },
  {
   "cell_type": "markdown",
   "metadata": {},
   "source": [
    "- Your lists of the coordinates of the stars in each image (40/100 pts)\n",
    "- The calculated mean shifts between the two images (30/100 pts)\n",
    "- How well do the shifts based on the individual stars agree? Be as quantitative as possible! (30/100 pts)\n",
    "\n",
    "You can fill in the answers in the Markdown field here below and add your Python commands at the end of the notebook.\n",
    "When you are done, download the notebook as a PDF file, and submit via Brightspace. "
   ]
  },
  {
   "cell_type": "markdown",
   "metadata": {},
   "source": [
    "### Coordinates in science1V.FIT:\n",
    "1047.4767\t721.1090\n",
    "1083.0567\t727.0286\n",
    "1111.3292\t743.3196\n",
    "1098.0349\t765.4710\n",
    "1123.2623\t766.8744\n",
    "### Coordinates in science10V.FIT:\n",
    "1052.6754\t715.3699\n",
    "1088.2183\t721.2954\n",
    "1116.5359\t737.5746\n",
    "1103.2338\t759.7435\n",
    "1128.4889\t761.1085\n"
   ]
  },
  {
   "cell_type": "markdown",
   "metadata": {},
   "source": [
    "Here below you can insert your Python commands (feel free to add cells as needed)"
   ]
  },
  {
   "cell_type": "code",
   "execution_count": 1,
   "metadata": {},
   "outputs": [
    {
     "name": "stdout",
     "output_type": "stream",
     "text": [
      "Ginga not installed, use other viewer, or no viewer\n"
     ]
    }
   ],
   "source": [
    "import astropy.io.fits as fits\n",
    "import numpy as np\n",
    "import imexam\n",
    "import os\n",
    "import time"
   ]
  },
  {
   "cell_type": "code",
   "execution_count": 3,
   "metadata": {},
   "outputs": [
    {
     "ename": "XpaException",
     "evalue": "Unknown XPA Error : XPAGet returned 0!",
     "output_type": "error",
     "traceback": [
      "\u001b[0;31m---------------------------------------------------------------------------\u001b[0m",
      "\u001b[0;31mXpaException\u001b[0m                              Traceback (most recent call last)",
      "Cell \u001b[0;32mIn[3], line 10\u001b[0m\n\u001b[1;32m      8\u001b[0m \u001b[38;5;28;01mif\u001b[39;00m \u001b[38;5;18m__name__\u001b[39m \u001b[38;5;241m==\u001b[39m \u001b[38;5;124m\"\u001b[39m\u001b[38;5;124m__main__\u001b[39m\u001b[38;5;124m\"\u001b[39m:\n\u001b[1;32m      9\u001b[0m     filepath \u001b[38;5;241m=\u001b[39m \u001b[38;5;124m\"\u001b[39m\u001b[38;5;124m../science/science10V.FIT\u001b[39m\u001b[38;5;124m\"\u001b[39m\n\u001b[0;32m---> 10\u001b[0m     \u001b[43mmain\u001b[49m\u001b[43m(\u001b[49m\u001b[43mfilepath\u001b[49m\u001b[43m)\u001b[49m\n",
      "Cell \u001b[0;32mIn[3], line 4\u001b[0m, in \u001b[0;36mmain\u001b[0;34m(filepath)\u001b[0m\n\u001b[1;32m      2\u001b[0m viewer \u001b[38;5;241m=\u001b[39m imexam\u001b[38;5;241m.\u001b[39mconnect()\n\u001b[1;32m      3\u001b[0m time\u001b[38;5;241m.\u001b[39msleep(\u001b[38;5;241m5\u001b[39m)\n\u001b[0;32m----> 4\u001b[0m \u001b[43mviewer\u001b[49m\u001b[38;5;241;43m.\u001b[39;49m\u001b[43mload_fits\u001b[49m\u001b[43m(\u001b[49m\u001b[43mfilepath\u001b[49m\u001b[43m)\u001b[49m\n\u001b[1;32m      5\u001b[0m viewer\u001b[38;5;241m.\u001b[39mzoomtofit()\n\u001b[1;32m      6\u001b[0m viewer\u001b[38;5;241m.\u001b[39mimexam()\n",
      "File \u001b[0;32m~/.local/lib/python3.10/site-packages/imexam/connect.py:393\u001b[0m, in \u001b[0;36mConnect.load_fits\u001b[0;34m(self, *args, **kwargs)\u001b[0m\n\u001b[1;32m    391\u001b[0m \u001b[38;5;28;01melse\u001b[39;00m:\n\u001b[1;32m    392\u001b[0m     \u001b[38;5;28mself\u001b[39m\u001b[38;5;241m.\u001b[39mexam\u001b[38;5;241m.\u001b[39m_datafile \u001b[38;5;241m=\u001b[39m args[\u001b[38;5;241m0\u001b[39m]\n\u001b[0;32m--> 393\u001b[0m \u001b[38;5;28;43mself\u001b[39;49m\u001b[38;5;241;43m.\u001b[39;49m\u001b[43mwindow\u001b[49m\u001b[38;5;241;43m.\u001b[39;49m\u001b[43mload_fits\u001b[49m\u001b[43m(\u001b[49m\u001b[38;5;241;43m*\u001b[39;49m\u001b[43margs\u001b[49m\u001b[43m,\u001b[49m\u001b[43m \u001b[49m\u001b[38;5;241;43m*\u001b[39;49m\u001b[38;5;241;43m*\u001b[39;49m\u001b[43mkwargs\u001b[49m\u001b[43m)\u001b[49m\n",
      "File \u001b[0;32m~/.local/lib/python3.10/site-packages/imexam/ds9_viewer.py:1145\u001b[0m, in \u001b[0;36mds9.load_fits\u001b[0;34m(self, fname, extver, mecube)\u001b[0m\n\u001b[1;32m   1113\u001b[0m \u001b[38;5;250m\u001b[39m\u001b[38;5;124;03m\"\"\"convenience function to load fits image to current frame.\u001b[39;00m\n\u001b[1;32m   1114\u001b[0m \n\u001b[1;32m   1115\u001b[0m \u001b[38;5;124;03mParameters\u001b[39;00m\n\u001b[0;32m   (...)\u001b[0m\n\u001b[1;32m   1142\u001b[0m \u001b[38;5;124;03mfile to load. The pathname also needs to be stripped of spaces.\u001b[39;00m\n\u001b[1;32m   1143\u001b[0m \u001b[38;5;124;03m\"\"\"\u001b[39;00m\n\u001b[1;32m   1144\u001b[0m \u001b[38;5;66;03m# for the viewer reference\u001b[39;00m\n\u001b[0;32m-> 1145\u001b[0m frame \u001b[38;5;241m=\u001b[39m \u001b[38;5;28;43mself\u001b[39;49m\u001b[38;5;241;43m.\u001b[39;49m\u001b[43mframe\u001b[49m\u001b[43m(\u001b[49m\u001b[43m)\u001b[49m\n\u001b[1;32m   1146\u001b[0m \u001b[38;5;28;01mif\u001b[39;00m frame \u001b[38;5;129;01mis\u001b[39;00m \u001b[38;5;28;01mNone\u001b[39;00m:\n\u001b[1;32m   1147\u001b[0m     frame \u001b[38;5;241m=\u001b[39m \u001b[38;5;241m1\u001b[39m  \u001b[38;5;66;03m# load into first frame\u001b[39;00m\n",
      "File \u001b[0;32m~/.local/lib/python3.10/site-packages/imexam/ds9_viewer.py:966\u001b[0m, in \u001b[0;36mds9.frame\u001b[0;34m(self, n)\u001b[0m\n\u001b[1;32m    944\u001b[0m \u001b[38;5;28;01mdef\u001b[39;00m \u001b[38;5;21mframe\u001b[39m(\u001b[38;5;28mself\u001b[39m, n\u001b[38;5;241m=\u001b[39m\u001b[38;5;28;01mNone\u001b[39;00m):\n\u001b[1;32m    945\u001b[0m \u001b[38;5;250m    \u001b[39m\u001b[38;5;124;03m\"\"\"convenience function to change or report frames.\u001b[39;00m\n\u001b[1;32m    946\u001b[0m \n\u001b[1;32m    947\u001b[0m \u001b[38;5;124;03m    Parameters\u001b[39;00m\n\u001b[0;32m   (...)\u001b[0m\n\u001b[1;32m    964\u001b[0m \n\u001b[1;32m    965\u001b[0m \u001b[38;5;124;03m    \"\"\"\u001b[39;00m\n\u001b[0;32m--> 966\u001b[0m     frame \u001b[38;5;241m=\u001b[39m \u001b[38;5;28;43mself\u001b[39;49m\u001b[38;5;241;43m.\u001b[39;49m\u001b[43mget\u001b[49m\u001b[43m(\u001b[49m\u001b[38;5;124;43m\"\u001b[39;49m\u001b[38;5;124;43mframe\u001b[39;49m\u001b[38;5;124;43m\"\u001b[39;49m\u001b[43m)\u001b[49m\u001b[38;5;241m.\u001b[39mstrip()  \u001b[38;5;66;03m# xpa returns '\\n' for no frame\u001b[39;00m\n\u001b[1;32m    968\u001b[0m     \u001b[38;5;28;01mif\u001b[39;00m frame:\n\u001b[1;32m    969\u001b[0m         \u001b[38;5;28;01mif\u001b[39;00m n:\n",
      "File \u001b[0;32m~/.local/lib/python3.10/site-packages/imexam/ds9_viewer.py:684\u001b[0m, in \u001b[0;36mds9.get\u001b[0;34m(self, param)\u001b[0m\n\u001b[1;32m    670\u001b[0m \u001b[38;5;250m\u001b[39m\u001b[38;5;124;03m\"\"\"XPA get method to ds9 instance which returns received string.\u001b[39;00m\n\u001b[1;32m    671\u001b[0m \n\u001b[1;32m    672\u001b[0m \u001b[38;5;124;03mParameters\u001b[39;00m\n\u001b[0;32m   (...)\u001b[0m\n\u001b[1;32m    681\u001b[0m \n\u001b[1;32m    682\u001b[0m \u001b[38;5;124;03m\"\"\"\u001b[39;00m\n\u001b[1;32m    683\u001b[0m \u001b[38;5;28mself\u001b[39m\u001b[38;5;241m.\u001b[39m_check_ds9_process()\n\u001b[0;32m--> 684\u001b[0m \u001b[38;5;28;01mreturn\u001b[39;00m \u001b[38;5;28;43mself\u001b[39;49m\u001b[38;5;241;43m.\u001b[39;49m\u001b[43mxpa\u001b[49m\u001b[38;5;241;43m.\u001b[39;49m\u001b[43mget\u001b[49m\u001b[43m(\u001b[49m\u001b[43mparam\u001b[49m\u001b[43m)\u001b[49m\n",
      "File \u001b[0;32m~/.local/lib/python3.10/site-packages/imexam/xpa_wrap.py:14\u001b[0m, in \u001b[0;36mXPA.get\u001b[0;34m(self, param)\u001b[0m\n\u001b[1;32m     12\u001b[0m \u001b[38;5;28;01mdef\u001b[39;00m \u001b[38;5;21mget\u001b[39m(\u001b[38;5;28mself\u001b[39m, param\u001b[38;5;241m=\u001b[39m\u001b[38;5;124m\"\u001b[39m\u001b[38;5;124m\"\u001b[39m):\n\u001b[1;32m     13\u001b[0m \u001b[38;5;250m    \u001b[39m\u001b[38;5;124;03m\"\"\"Get information from the xpa.\"\"\"\u001b[39;00m\n\u001b[0;32m---> 14\u001b[0m     \u001b[38;5;28;01mreturn\u001b[39;00m \u001b[38;5;28;43msuper\u001b[39;49m\u001b[43m(\u001b[49m\u001b[43mXPA\u001b[49m\u001b[43m,\u001b[49m\u001b[43m \u001b[49m\u001b[38;5;28;43mself\u001b[39;49m\u001b[43m)\u001b[49m\u001b[38;5;241;43m.\u001b[39;49m\u001b[43mget\u001b[49m\u001b[43m(\u001b[49m\u001b[43mparam\u001b[49m\u001b[38;5;241;43m.\u001b[39;49m\u001b[43mencode\u001b[49m\u001b[43m(\u001b[49m\u001b[38;5;124;43m'\u001b[39;49m\u001b[38;5;124;43mutf-8\u001b[39;49m\u001b[38;5;124;43m'\u001b[39;49m\u001b[43m,\u001b[49m\u001b[43m \u001b[49m\u001b[38;5;124;43m'\u001b[39;49m\u001b[38;5;124;43mstrict\u001b[39;49m\u001b[38;5;124;43m'\u001b[39;49m\u001b[43m)\u001b[49m\u001b[43m)\u001b[49m\u001b[38;5;241m.\u001b[39mdecode()\n",
      "File \u001b[0;32mwrappers/xpa.pyx:173\u001b[0m, in \u001b[0;36mimexam.imexamxpa.xpa.get\u001b[0;34m()\u001b[0m\n",
      "File \u001b[0;32mwrappers/xpa.pyx:113\u001b[0m, in \u001b[0;36mimexam.imexamxpa._get\u001b[0;34m()\u001b[0m\n",
      "\u001b[0;31mXpaException\u001b[0m: Unknown XPA Error : XPAGet returned 0!"
     ]
    }
   ],
   "source": [
    "def main(filepath):\n",
    "    viewer = imexam.connect()\n",
    "    time.sleep(5)\n",
    "    viewer.load_fits(filepath)\n",
    "    viewer.zoomtofit()\n",
    "    viewer.imexam()\n",
    "    \n",
    "if __name__ == \"__main__\":\n",
    "    filepath = \"../science/science10V.FIT\"\n",
    "    main(filepath)"
   ]
  },
  {
   "cell_type": "markdown",
   "metadata": {},
   "source": [
    "science1V.FIT\n",
    "1047.4767\t721.1090\n",
    "1083.0567\t727.0286\n",
    "1111.3292\t743.3196\n",
    "1098.0349\t765.4710\n",
    "1123.2623\t766.8744\n",
    "\n",
    "science10V.FIT\n",
    "1052.6754\t715.3699\n",
    "1088.2183\t721.2954\n",
    "1116.5359\t737.5746\n",
    "1103.2338\t759.7435\n",
    "1128.4889\t761.1085"
   ]
  },
  {
   "cell_type": "code",
   "execution_count": 4,
   "metadata": {},
   "outputs": [
    {
     "name": "stdout",
     "output_type": "stream",
     "text": [
      "Mean shift: [-5.1985   5.74214]\n",
      "Standard deviation (for both axes separately): [0.02106495 0.01323792]\n",
      "Standard deviation (of the distance between the two points): 0.022309453982365512\n"
     ]
    }
   ],
   "source": [
    "coordinates1 = np.array([\n",
    "    [1047.4767,721.1090],\n",
    "    [1083.0567,727.0286],\n",
    "    [1111.3292,743.3196],\n",
    "    [1098.0349,765.4710],\n",
    "    [1123.2623,766.8744]])\n",
    "\n",
    "coordinates10 = np.array([\n",
    "    [1052.6754,715.3699],\n",
    "    [1088.2183,721.2954],\n",
    "    [1116.5359,737.5746],\n",
    "    [1103.2338,759.7435],\n",
    "    [1128.4889,761.1085]])\n",
    "\n",
    "shifts = coordinates1-coordinates10\n",
    "mean_shift = np.mean(shifts, axis=0)\n",
    "std = np.std(shifts, axis=0)\n",
    "distances = np.linalg.norm(shifts, axis=1)\n",
    "std_distances = np.std(distances)\n",
    "\n",
    "print(\"Mean shift: {}\".format(mean_shift))\n",
    "print(\"Standard deviation (for both axes separately): {}\".format(std))\n",
    "print(\"Standard deviation (of the distance between the two points): {}\".format(std_distances))"
   ]
  },
  {
   "cell_type": "markdown",
   "metadata": {},
   "source": [
    "Mean shift: [-5.1985   5.74214]\n",
    "\n",
    "Standard deviation (for both axes separately): [0.02106495 0.01323792]\n",
    "\n",
    "Standard deviation (of the distance between the two points): 0.022309453982365512"
   ]
  },
  {
   "cell_type": "code",
   "execution_count": null,
   "metadata": {},
   "outputs": [],
   "source": []
  }
 ],
 "metadata": {
  "kernelspec": {
   "display_name": "Python 3 (ipykernel)",
   "language": "python",
   "name": "python3"
  },
  "language_info": {
   "codemirror_mode": {
    "name": "ipython",
    "version": 3
   },
   "file_extension": ".py",
   "mimetype": "text/x-python",
   "name": "python",
   "nbconvert_exporter": "python",
   "pygments_lexer": "ipython3",
   "version": "3.10.10"
  }
 },
 "nbformat": 4,
 "nbformat_minor": 2
}
